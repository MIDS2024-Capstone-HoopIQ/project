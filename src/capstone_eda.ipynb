{
 "cells": [
  {
   "cell_type": "code",
   "execution_count": null,
   "id": "ef520384-136b-403d-bc82-06988004f371",
   "metadata": {},
   "outputs": [],
   "source": [
    "pip install pandas"
   ]
  },
  {
   "cell_type": "code",
   "execution_count": null,
   "id": "c7901b44-494e-4a47-ace3-1c9e30253c8f",
   "metadata": {},
   "outputs": [],
   "source": [
    "pip install matplotlib"
   ]
  },
  {
   "cell_type": "code",
   "execution_count": null,
   "id": "87eb22cd-e31d-42a1-9724-0a9ea102278f",
   "metadata": {},
   "outputs": [],
   "source": [
    "pip install seaborn"
   ]
  },
  {
   "cell_type": "code",
   "execution_count": 2,
   "id": "ff1470d3-c59d-417b-88e2-af9a962dc211",
   "metadata": {},
   "outputs": [
    {
     "name": "stdout",
     "output_type": "stream",
     "text": [
      "<class 'pandas.core.frame.DataFrame'>\n",
      "RangeIndex: 84811 entries, 0 to 84810\n",
      "Data columns (total 61 columns):\n",
      " #   Column                           Non-Null Count  Dtype  \n",
      "---  ------                           --------------  -----  \n",
      " 0   Unnamed: 0                       84811 non-null  int64  \n",
      " 1   id                               84811 non-null  int64  \n",
      " 2   sequence_number                  84811 non-null  int64  \n",
      " 3   type_id                          84811 non-null  int64  \n",
      " 4   type_text                        84811 non-null  object \n",
      " 5   text                             84808 non-null  object \n",
      " 6   away_score                       84811 non-null  int64  \n",
      " 7   home_score                       84811 non-null  int64  \n",
      " 8   period_number                    84811 non-null  int64  \n",
      " 9   period_display_value             84811 non-null  object \n",
      " 10  clock_display_value              84811 non-null  object \n",
      " 11  scoring_play                     84811 non-null  bool   \n",
      " 12  score_value                      84811 non-null  int64  \n",
      " 13  team_id                          83266 non-null  float64\n",
      " 14  athlete_id_1                     77908 non-null  float64\n",
      " 15  athlete_id_2                     23677 non-null  float64\n",
      " 16  athlete_id_3                     456 non-null    float64\n",
      " 17  wallclock                        84795 non-null  object \n",
      " 18  shooting_play                    84811 non-null  bool   \n",
      " 19  coordinate_x_raw                 84811 non-null  int64  \n",
      " 20  coordinate_y_raw                 84811 non-null  float64\n",
      " 21  season                           84811 non-null  int64  \n",
      " 22  season_type                      84811 non-null  int64  \n",
      " 23  away_team_id                     84811 non-null  int64  \n",
      " 24  away_team_name                   84811 non-null  object \n",
      " 25  away_team_mascot                 84811 non-null  object \n",
      " 26  away_team_abbrev                 84811 non-null  object \n",
      " 27  away_team_name_alt               84811 non-null  object \n",
      " 28  home_team_id                     84811 non-null  int64  \n",
      " 29  home_team_name                   84811 non-null  object \n",
      " 30  home_team_mascot                 84811 non-null  object \n",
      " 31  home_team_abbrev                 84811 non-null  object \n",
      " 32  home_team_name_alt               84811 non-null  object \n",
      " 33  home_team_spread                 84811 non-null  float64\n",
      " 34  game_spread                      84811 non-null  float64\n",
      " 35  home_favorite                    84811 non-null  bool   \n",
      " 36  game_spread_available            84811 non-null  bool   \n",
      " 37  game_id                          84811 non-null  int64  \n",
      " 38  qtr                              84811 non-null  int64  \n",
      " 39  time                             84811 non-null  object \n",
      " 40  clock_minutes                    84811 non-null  int64  \n",
      " 41  clock_seconds                    84811 non-null  float64\n",
      " 42  half                             84811 non-null  int64  \n",
      " 43  game_half                        84811 non-null  int64  \n",
      " 44  lead_qtr                         84592 non-null  float64\n",
      " 45  lead_game_half                   84592 non-null  float64\n",
      " 46  start_quarter_seconds_remaining  84811 non-null  int64  \n",
      " 47  start_half_seconds_remaining     84811 non-null  int64  \n",
      " 48  start_game_seconds_remaining     84811 non-null  int64  \n",
      " 49  game_play_number                 84811 non-null  int64  \n",
      " 50  end_quarter_seconds_remaining    84811 non-null  int64  \n",
      " 51  end_half_seconds_remaining       84811 non-null  int64  \n",
      " 52  end_game_seconds_remaining       84811 non-null  int64  \n",
      " 53  period                           84811 non-null  int64  \n",
      " 54  lag_qtr                          84592 non-null  float64\n",
      " 55  lag_game_half                    84592 non-null  float64\n",
      " 56  coordinate_x                     84811 non-null  float64\n",
      " 57  coordinate_y                     84811 non-null  int64  \n",
      " 58  game_date                        84811 non-null  object \n",
      " 59  game_date_time                   84811 non-null  object \n",
      " 60  type_abbreviation                0 non-null      float64\n",
      "dtypes: bool(4), float64(14), int64(27), object(16)\n",
      "memory usage: 37.2+ MB\n",
      "None\n",
      "   Unnamed: 0           id  sequence_number  type_id            type_text  \\\n",
      "0           1   4010796954                4      615             Jumpball   \n",
      "1           2   4010796957                7    20132  Step Back Jump Shot   \n",
      "2           3   4010796959                9       12          Kicked Ball   \n",
      "3           4  40107969510               10    30092            Jump Shot   \n",
      "4           5  40107969511               11      156    Offensive Rebound   \n",
      "\n",
      "                                                text  away_score  home_score  \\\n",
      "0  Breanna Stewart vs. LaToya Sanders (Elena Dell...           0           0   \n",
      "1  Kristi Toliver makes 18-foot step back jumpsho...           0           2   \n",
      "2               LaToya Sanders kicked ball violation           0           2   \n",
      "3         Sue Bird misses 29-foot three point jumper           0           2   \n",
      "4                     Seattle offensive team rebound           0           2   \n",
      "\n",
      "   period_number period_display_value  ... end_half_seconds_remaining  \\\n",
      "0              1          1st Quarter  ...                       1200   \n",
      "1              1          1st Quarter  ...                       1200   \n",
      "2              1          1st Quarter  ...                       1181   \n",
      "3              1          1st Quarter  ...                       1166   \n",
      "4              1          1st Quarter  ...                       1152   \n",
      "\n",
      "   end_game_seconds_remaining  period  lag_qtr  lag_game_half  coordinate_x  \\\n",
      "0                        2400       1      NaN            NaN         46.75   \n",
      "1                        2400       1      1.0            1.0         30.75   \n",
      "2                        2381       1      1.0            1.0         46.75   \n",
      "3                        2366       1      1.0            1.0        -15.75   \n",
      "4                        2352       1      1.0            1.0        -15.75   \n",
      "\n",
      "   coordinate_y   game_date       game_date_time  type_abbreviation  \n",
      "0           -25  2018-09-12  2018-09-12 20:00:00                NaN  \n",
      "1            14  2018-09-12  2018-09-12 20:00:00                NaN  \n",
      "2           -25  2018-09-12  2018-09-12 20:00:00                NaN  \n",
      "3           -14  2018-09-12  2018-09-12 20:00:00                NaN  \n",
      "4           -14  2018-09-12  2018-09-12 20:00:00                NaN  \n",
      "\n",
      "[5 rows x 61 columns]\n",
      "         Unnamed: 0            id  sequence_number       type_id  \\\n",
      "count  84811.000000  8.481100e+04     84811.000000  84811.000000   \n",
      "mean   42406.000000  3.372038e+11       282.135572   8510.514780   \n",
      "std    24482.971177  1.381561e+11       163.465023  11252.388672   \n",
      "min        1.000000  4.010188e+09         3.000000      0.000000   \n",
      "25%    21203.500000  4.010188e+11       141.000000    156.000000   \n",
      "50%    42406.000000  4.010189e+11       280.000000    584.000000   \n",
      "75%    63608.500000  4.010189e+11       419.000000  20131.000000   \n",
      "max    84811.000000  4.010797e+11       723.000000  31232.000000   \n",
      "\n",
      "         away_score    home_score  period_number   score_value        team_id  \\\n",
      "count  84811.000000  84811.000000   84811.000000  84811.000000   83266.000000   \n",
      "mean      42.279468     43.359116       2.545142      0.353268     599.922922   \n",
      "std       24.869709     25.407934       1.125127      0.828800    8080.568756   \n",
      "min        0.000000      0.000000       1.000000      0.000000       3.000000   \n",
      "25%       21.000000     22.000000       2.000000      0.000000       8.000000   \n",
      "50%       41.000000     42.000000       3.000000      0.000000      14.000000   \n",
      "75%       62.000000     64.000000       4.000000      0.000000      18.000000   \n",
      "max      119.000000    114.000000       6.000000      3.000000  111720.000000   \n",
      "\n",
      "       athlete_id_1  ...  game_play_number  end_quarter_seconds_remaining  \\\n",
      "count  7.790800e+04  ...      84811.000000                   84811.000000   \n",
      "mean   1.659262e+06  ...        195.329438                     286.977833   \n",
      "std    1.420598e+06  ...        113.911886                     178.136927   \n",
      "min    4.000000e+01  ...          1.000000                       0.000000   \n",
      "25%    8.820000e+02  ...         97.000000                     131.000000   \n",
      "50%    2.491214e+06  ...        194.000000                     283.000000   \n",
      "75%    2.988756e+06  ...        291.000000                     438.000000   \n",
      "max    4.329389e+06  ...        513.000000                     600.000000   \n",
      "\n",
      "       end_half_seconds_remaining  end_game_seconds_remaining        period  \\\n",
      "count                84811.000000                84811.000000  84811.000000   \n",
      "mean                   575.301282                 1163.111825      2.545142   \n",
      "std                    347.120644                  694.193966      1.125127   \n",
      "min                      0.000000                    0.000000      1.000000   \n",
      "25%                    277.000000                  573.000000      2.000000   \n",
      "50%                    586.000000                 1189.000000      3.000000   \n",
      "75%                    865.000000                 1768.000000      4.000000   \n",
      "max                   1200.000000                 2400.000000      6.000000   \n",
      "\n",
      "            lag_qtr  lag_game_half  coordinate_x  coordinate_y  \\\n",
      "count  84592.000000   84592.000000  84811.000000  84811.000000   \n",
      "mean       2.541280       1.508890     -0.820917      0.474997   \n",
      "std        1.123966       0.499924     35.502668     13.872667   \n",
      "min        1.000000       1.000000    -46.750000    -25.000000   \n",
      "25%        2.000000       1.000000    -36.750000     -7.000000   \n",
      "50%        3.000000       2.000000    -15.750000      0.000000   \n",
      "75%        4.000000       2.000000     35.750000      9.000000   \n",
      "max        6.000000       2.000000     46.750000     25.000000   \n",
      "\n",
      "       type_abbreviation  \n",
      "count                0.0  \n",
      "mean                 NaN  \n",
      "std                  NaN  \n",
      "min                  NaN  \n",
      "25%                  NaN  \n",
      "50%                  NaN  \n",
      "75%                  NaN  \n",
      "max                  NaN  \n",
      "\n",
      "[8 rows x 41 columns]\n",
      "Unnamed: 0               0\n",
      "id                       0\n",
      "sequence_number          0\n",
      "type_id                  0\n",
      "type_text                0\n",
      "                     ...  \n",
      "coordinate_x             0\n",
      "coordinate_y             0\n",
      "game_date                0\n",
      "game_date_time           0\n",
      "type_abbreviation    84811\n",
      "Length: 61, dtype: int64\n"
     ]
    }
   ],
   "source": [
    "import pandas as pd\n",
    "import matplotlib.pyplot as plt\n",
    "import seaborn as sns\n",
    "import numpy as np\n",
    "\n",
    "# Load the dataset\n",
    "data = pd.read_csv('../data/wnba_pbp_2018.csv') \n",
    "\n",
    "# Display basic information about the dataset\n",
    "print(data.info())\n",
    "\n",
    "# Display the first few rows of the dataset\n",
    "print(data.head())\n",
    "\n",
    "# Describe the dataset to get statistical summaries of numerical columns\n",
    "print(data.describe())\n",
    "\n",
    "# Check for missing values\n",
    "print(data.isnull().sum())"
   ]
  },
  {
   "cell_type": "code",
   "execution_count": null,
   "id": "251f21ba-a12a-4c88-8125-f2e81f1047d4",
   "metadata": {},
   "outputs": [],
   "source": [
    "# Generate histograms for all numerical columns to understand distributions\n",
    "data.hist(figsize=(12, 10))\n",
    "plt.show()"
   ]
  },
  {
   "cell_type": "code",
   "execution_count": null,
   "id": "6da8f25a-34c9-49a2-87c0-69e0b891bd74",
   "metadata": {},
   "outputs": [],
   "source": [
    "# Check data types of each column\n",
    "print(data.dtypes)"
   ]
  },
  {
   "cell_type": "code",
   "execution_count": null,
   "id": "0a430f87-aa81-4dc1-a8bd-a39937de8ce4",
   "metadata": {},
   "outputs": [],
   "source": [
    "# Select only the numeric columns of the DataFrame\n",
    "numeric_data = data.select_dtypes(include=[np.number])\n",
    "\n",
    "# Now compute the correlation matrix\n",
    "correlation_matrix = numeric_data.corr()"
   ]
  },
  {
   "cell_type": "code",
   "execution_count": null,
   "id": "290cdb01-ebd1-4132-a3ff-e31374268761",
   "metadata": {},
   "outputs": [],
   "source": [
    "# Generate the heatmap\n",
    "plt.figure(figsize=(10, 8))\n",
    "sns.heatmap(correlation_matrix, annot=True, fmt=\".2f\", cmap='coolwarm')\n",
    "plt.show()"
   ]
  },
  {
   "cell_type": "code",
   "execution_count": 3,
   "id": "e27107d7-e818-47db-a5be-30c70e8b2038",
   "metadata": {},
   "outputs": [
    {
     "name": "stdout",
     "output_type": "stream",
     "text": [
      "   Unnamed: 0           id  sequence_number  type_id             type_text  \\\n",
      "0           1   4010796954                4      615              Jumpball   \n",
      "1           2   4010796957                7    20132   Step Back Jump Shot   \n",
      "2           3   4010796959                9       12           Kicked Ball   \n",
      "3           4  40107969510               10    30092             Jump Shot   \n",
      "4           5  40107969511               11      156     Offensive Rebound   \n",
      "5           6  40107969512               12       70   Shot Clock Turnover   \n",
      "6           7  40107969513               13    20114  Turnaround Jump Shot   \n",
      "7           8  40107969514               14      156     Offensive Rebound   \n",
      "8           9  40107969515               15    20094              Tip Shot   \n",
      "9          10  40107969516               16      156     Offensive Rebound   \n",
      "\n",
      "                                                text  away_score  home_score  \\\n",
      "0  Breanna Stewart vs. LaToya Sanders (Elena Dell...           0           0   \n",
      "1  Kristi Toliver makes 18-foot step back jumpsho...           0           2   \n",
      "2               LaToya Sanders kicked ball violation           0           2   \n",
      "3         Sue Bird misses 29-foot three point jumper           0           2   \n",
      "4                     Seattle offensive team rebound           0           2   \n",
      "5                               shot clock turnover            0           2   \n",
      "6        Natasha Cloud misses 10-foot two point shot           0           2   \n",
      "7                   LaToya Sanders offensive rebound           0           2   \n",
      "8              LaToya Sanders misses 4-foot tip shot           0           2   \n",
      "9                Elena Delle Donne offensive rebound           0           2   \n",
      "\n",
      "   period_number period_display_value  ... end_half_seconds_remaining  \\\n",
      "0              1          1st Quarter  ...                       1200   \n",
      "1              1          1st Quarter  ...                       1200   \n",
      "2              1          1st Quarter  ...                       1181   \n",
      "3              1          1st Quarter  ...                       1166   \n",
      "4              1          1st Quarter  ...                       1152   \n",
      "5              1          1st Quarter  ...                       1152   \n",
      "6              1          1st Quarter  ...                       1152   \n",
      "7              1          1st Quarter  ...                       1133   \n",
      "8              1          1st Quarter  ...                       1130   \n",
      "9              1          1st Quarter  ...                       1130   \n",
      "\n",
      "   end_game_seconds_remaining  period  lag_qtr  lag_game_half  coordinate_x  \\\n",
      "0                        2400       1      NaN            NaN         46.75   \n",
      "1                        2400       1      1.0            1.0         30.75   \n",
      "2                        2381       1      1.0            1.0         46.75   \n",
      "3                        2366       1      1.0            1.0        -15.75   \n",
      "4                        2352       1      1.0            1.0        -15.75   \n",
      "5                        2352       1      1.0            1.0        -20.75   \n",
      "6                        2352       1      1.0            1.0         32.75   \n",
      "7                        2333       1      1.0            1.0         32.75   \n",
      "8                        2330       1      1.0            1.0         38.75   \n",
      "9                        2330       1      1.0            1.0         38.75   \n",
      "\n",
      "   coordinate_y   game_date       game_date_time  type_abbreviation  \n",
      "0           -25  2018-09-12  2018-09-12 20:00:00                NaN  \n",
      "1            14  2018-09-12  2018-09-12 20:00:00                NaN  \n",
      "2           -25  2018-09-12  2018-09-12 20:00:00                NaN  \n",
      "3           -14  2018-09-12  2018-09-12 20:00:00                NaN  \n",
      "4           -14  2018-09-12  2018-09-12 20:00:00                NaN  \n",
      "5           -16  2018-09-12  2018-09-12 20:00:00                NaN  \n",
      "6             4  2018-09-12  2018-09-12 20:00:00                NaN  \n",
      "7             4  2018-09-12  2018-09-12 20:00:00                NaN  \n",
      "8            -2  2018-09-12  2018-09-12 20:00:00                NaN  \n",
      "9            -2  2018-09-12  2018-09-12 20:00:00                NaN  \n",
      "\n",
      "[10 rows x 61 columns]\n"
     ]
    }
   ],
   "source": [
    "print(data.head(10))"
   ]
  },
  {
   "cell_type": "code",
   "execution_count": 7,
   "id": "0a446490-20b7-4c16-8f25-9ac56def654a",
   "metadata": {},
   "outputs": [
    {
     "name": "stdout",
     "output_type": "stream",
     "text": [
      "Requirement already satisfied: sentence-transformers in /opt/homebrew/Cellar/jupyterlab/4.0.11/libexec/lib/python3.12/site-packages (3.0.0)\n",
      "Collecting faiss-cpu\n",
      "  Downloading faiss_cpu-1.8.0-cp312-cp312-macosx_11_0_arm64.whl.metadata (3.6 kB)\n",
      "Requirement already satisfied: transformers<5.0.0,>=4.34.0 in /opt/homebrew/Cellar/jupyterlab/4.0.11/libexec/lib/python3.12/site-packages (from sentence-transformers) (4.41.2)\n",
      "Requirement already satisfied: tqdm in /opt/homebrew/Cellar/jupyterlab/4.0.11/libexec/lib/python3.12/site-packages (from sentence-transformers) (4.66.4)\n",
      "Requirement already satisfied: torch>=1.11.0 in /opt/homebrew/Cellar/jupyterlab/4.0.11/libexec/lib/python3.12/site-packages (from sentence-transformers) (2.3.0)\n",
      "Requirement already satisfied: numpy in /opt/homebrew/Cellar/jupyterlab/4.0.11/libexec/lib/python3.12/site-packages (from sentence-transformers) (1.26.4)\n",
      "Requirement already satisfied: scikit-learn in /opt/homebrew/Cellar/jupyterlab/4.0.11/libexec/lib/python3.12/site-packages (from sentence-transformers) (1.5.0)\n",
      "Requirement already satisfied: scipy in /opt/homebrew/Cellar/jupyterlab/4.0.11/libexec/lib/python3.12/site-packages (from sentence-transformers) (1.13.1)\n",
      "Requirement already satisfied: huggingface-hub>=0.15.1 in /opt/homebrew/Cellar/jupyterlab/4.0.11/libexec/lib/python3.12/site-packages (from sentence-transformers) (0.23.2)\n",
      "Requirement already satisfied: Pillow in /opt/homebrew/Cellar/jupyterlab/4.0.11/libexec/lib/python3.12/site-packages (from sentence-transformers) (10.3.0)\n",
      "Requirement already satisfied: filelock in /opt/homebrew/Cellar/jupyterlab/4.0.11/libexec/lib/python3.12/site-packages (from huggingface-hub>=0.15.1->sentence-transformers) (3.14.0)\n",
      "Requirement already satisfied: fsspec>=2023.5.0 in /opt/homebrew/Cellar/jupyterlab/4.0.11/libexec/lib/python3.12/site-packages (from huggingface-hub>=0.15.1->sentence-transformers) (2024.5.0)\n",
      "Requirement already satisfied: packaging>=20.9 in /opt/homebrew/opt/python-packaging/lib/python3.12/site-packages (from huggingface-hub>=0.15.1->sentence-transformers) (23.2)\n",
      "Requirement already satisfied: pyyaml>=5.1 in /opt/homebrew/opt/pyyaml/lib/python3.12/site-packages (from huggingface-hub>=0.15.1->sentence-transformers) (6.0.1)\n",
      "Requirement already satisfied: requests in /opt/homebrew/opt/python-requests/lib/python3.12/site-packages (from huggingface-hub>=0.15.1->sentence-transformers) (2.31.0)\n",
      "Requirement already satisfied: typing-extensions>=3.7.4.3 in /opt/homebrew/Cellar/jupyterlab/4.0.11/libexec/lib/python3.12/site-packages (from huggingface-hub>=0.15.1->sentence-transformers) (4.12.1)\n",
      "Requirement already satisfied: sympy in /opt/homebrew/Cellar/jupyterlab/4.0.11/libexec/lib/python3.12/site-packages (from torch>=1.11.0->sentence-transformers) (1.12.1)\n",
      "Requirement already satisfied: networkx in /opt/homebrew/Cellar/jupyterlab/4.0.11/libexec/lib/python3.12/site-packages (from torch>=1.11.0->sentence-transformers) (3.3)\n",
      "Requirement already satisfied: jinja2 in /opt/homebrew/opt/python-jinja/lib/python3.12/site-packages (from torch>=1.11.0->sentence-transformers) (3.1.3)\n",
      "Requirement already satisfied: regex!=2019.12.17 in /opt/homebrew/Cellar/jupyterlab/4.0.11/libexec/lib/python3.12/site-packages (from transformers<5.0.0,>=4.34.0->sentence-transformers) (2024.5.15)\n",
      "Requirement already satisfied: tokenizers<0.20,>=0.19 in /opt/homebrew/Cellar/jupyterlab/4.0.11/libexec/lib/python3.12/site-packages (from transformers<5.0.0,>=4.34.0->sentence-transformers) (0.19.1)\n",
      "Requirement already satisfied: safetensors>=0.4.1 in /opt/homebrew/Cellar/jupyterlab/4.0.11/libexec/lib/python3.12/site-packages (from transformers<5.0.0,>=4.34.0->sentence-transformers) (0.4.3)\n",
      "Requirement already satisfied: joblib>=1.2.0 in /opt/homebrew/Cellar/jupyterlab/4.0.11/libexec/lib/python3.12/site-packages (from scikit-learn->sentence-transformers) (1.4.2)\n",
      "Requirement already satisfied: threadpoolctl>=3.1.0 in /opt/homebrew/Cellar/jupyterlab/4.0.11/libexec/lib/python3.12/site-packages (from scikit-learn->sentence-transformers) (3.5.0)\n",
      "Requirement already satisfied: MarkupSafe>=2.0 in /opt/homebrew/opt/python-markupsafe/lib/python3.12/site-packages (from jinja2->torch>=1.11.0->sentence-transformers) (2.1.4)\n",
      "Requirement already satisfied: charset-normalizer<4,>=2 in /opt/homebrew/opt/python-charset-normalizer/lib/python3.12/site-packages (from requests->huggingface-hub>=0.15.1->sentence-transformers) (3.3.2)\n",
      "Requirement already satisfied: idna<4,>=2.5 in /opt/homebrew/opt/python-idna/lib/python3.12/site-packages (from requests->huggingface-hub>=0.15.1->sentence-transformers) (3.6)\n",
      "Requirement already satisfied: urllib3<3,>=1.21.1 in /opt/homebrew/opt/python-urllib3/lib/python3.12/site-packages (from requests->huggingface-hub>=0.15.1->sentence-transformers) (2.1.0)\n",
      "Requirement already satisfied: certifi>=2017.4.17 in /opt/homebrew/opt/python-certifi/lib/python3.12/site-packages (from requests->huggingface-hub>=0.15.1->sentence-transformers) (2023.11.17)\n",
      "Requirement already satisfied: mpmath<1.4.0,>=1.1.0 in /opt/homebrew/Cellar/jupyterlab/4.0.11/libexec/lib/python3.12/site-packages (from sympy->torch>=1.11.0->sentence-transformers) (1.3.0)\n",
      "Downloading faiss_cpu-1.8.0-cp312-cp312-macosx_11_0_arm64.whl (3.1 MB)\n",
      "\u001b[2K   \u001b[90m━━━━━━━━━━━━━━━━━━━━━━━━━━━━━━━━━━━━━━━━\u001b[0m \u001b[32m3.1/3.1 MB\u001b[0m \u001b[31m20.6 MB/s\u001b[0m eta \u001b[36m0:00:00\u001b[0ma \u001b[36m0:00:01\u001b[0m\n",
      "\u001b[?25hInstalling collected packages: faiss-cpu\n",
      "Successfully installed faiss-cpu-1.8.0\n",
      "\n",
      "\u001b[1m[\u001b[0m\u001b[34;49mnotice\u001b[0m\u001b[1;39;49m]\u001b[0m\u001b[39;49m A new release of pip is available: \u001b[0m\u001b[31;49m23.3.1\u001b[0m\u001b[39;49m -> \u001b[0m\u001b[32;49m24.0\u001b[0m\n",
      "\u001b[1m[\u001b[0m\u001b[34;49mnotice\u001b[0m\u001b[1;39;49m]\u001b[0m\u001b[39;49m To update, run: \u001b[0m\u001b[32;49m/opt/homebrew/Cellar/jupyterlab/4.0.11/libexec/bin/python -m pip install --upgrade pip\u001b[0m\n",
      "Note: you may need to restart the kernel to use updated packages.\n"
     ]
    }
   ],
   "source": [
    "pip install sentence-transformers faiss-cpu"
   ]
  },
  {
   "cell_type": "code",
   "execution_count": 8,
   "id": "75b49359-6581-49cc-ba7a-64f051af7d83",
   "metadata": {},
   "outputs": [],
   "source": [
    "from sentence_transformers import SentenceTransformer\n",
    "import faiss"
   ]
  },
  {
   "cell_type": "code",
   "execution_count": 12,
   "id": "9554f155-e5da-4b55-92c8-7eb89ca68dd3",
   "metadata": {},
   "outputs": [
    {
     "name": "stdout",
     "output_type": "stream",
     "text": [
      "['Unnamed: 0', 'id', 'sequence_number', 'type_id', 'type_text', 'text', 'away_score', 'home_score', 'period_number', 'period_display_value', 'clock_display_value', 'scoring_play', 'score_value', 'team_id', 'athlete_id_1', 'athlete_id_2', 'athlete_id_3', 'wallclock', 'shooting_play', 'coordinate_x_raw', 'coordinate_y_raw', 'season', 'season_type', 'away_team_id', 'away_team_name', 'away_team_mascot', 'away_team_abbrev', 'away_team_name_alt', 'home_team_id', 'home_team_name', 'home_team_mascot', 'home_team_abbrev', 'home_team_name_alt', 'home_team_spread', 'game_spread', 'home_favorite', 'game_spread_available', 'game_id', 'qtr', 'time', 'clock_minutes', 'clock_seconds', 'half', 'game_half', 'lead_qtr', 'lead_game_half', 'start_quarter_seconds_remaining', 'start_half_seconds_remaining', 'start_game_seconds_remaining', 'game_play_number', 'end_quarter_seconds_remaining', 'end_half_seconds_remaining', 'end_game_seconds_remaining', 'period', 'lag_qtr', 'lag_game_half', 'coordinate_x', 'coordinate_y', 'game_date', 'game_date_time', 'type_abbreviation']\n"
     ]
    }
   ],
   "source": [
    "# Get column names\n",
    "column_names = data.columns.tolist()\n",
    "print(column_names)"
   ]
  },
  {
   "cell_type": "code",
   "execution_count": 14,
   "id": "16da2f70-41fe-423b-87ad-5ba8be5f8b74",
   "metadata": {},
   "outputs": [],
   "source": [
    "data['combined_text'] = data.apply(lambda row: ' '.join(row.values.astype(str)), axis=1)"
   ]
  },
  {
   "cell_type": "code",
   "execution_count": 16,
   "id": "659c13a3-1e9f-40e4-bac2-699e4138e599",
   "metadata": {},
   "outputs": [],
   "source": [
    "texts = data['combined_text'].tolist()"
   ]
  },
  {
   "cell_type": "code",
   "execution_count": 17,
   "id": "ae6611f1-7e73-4124-a9e5-b603730ad1dc",
   "metadata": {},
   "outputs": [
    {
     "name": "stderr",
     "output_type": "stream",
     "text": [
      "/opt/homebrew/Cellar/jupyterlab/4.0.11/libexec/lib/python3.12/site-packages/huggingface_hub/file_download.py:1132: FutureWarning: `resume_download` is deprecated and will be removed in version 1.0.0. Downloads always resume when possible. If you want to force a new download, use `force_download=True`.\n",
      "  warnings.warn(\n"
     ]
    }
   ],
   "source": [
    "from sentence_transformers import SentenceTransformer\n",
    "\n",
    "# Load the sentence transformer model\n",
    "model = SentenceTransformer('all-MiniLM-L6-v2')\n",
    "\n",
    "# Convert text data to vectors (embeddings)\n",
    "text_embeddings = model.encode(texts)"
   ]
  },
  {
   "cell_type": "code",
   "execution_count": 18,
   "id": "2f987296-bd49-479f-b9d8-f41170723062",
   "metadata": {},
   "outputs": [],
   "source": [
    "import faiss\n",
    "\n",
    "# Number of dimensions of the embeddings\n",
    "d = text_embeddings.shape[1]\n",
    "\n",
    "# Build the index\n",
    "index = faiss.IndexFlatL2(d)  # L2 distance (Euclidean distance)\n",
    "\n",
    "# Add vectors to the index\n",
    "index.add(text_embeddings)\n",
    "\n",
    "# Save the index to a file\n",
    "faiss.write_index(index, '../data/vector_store.index')"
   ]
  },
  {
   "cell_type": "code",
   "execution_count": 21,
   "id": "547ea4f5-afcb-47c5-9ec5-b80609db502f",
   "metadata": {},
   "outputs": [
    {
     "name": "stdout",
     "output_type": "stream",
     "text": [
      "Indices of the nearest neighbors: [[17754 24948 25138 25250 25240]]\n",
      "Query results: [{'Unnamed: 0': 17755, 'id': 401018950167, 'sequence_number': 167, 'type_id': 44, 'type_text': 'Shooting Foul', 'text': 'Imani McGee-Stafford shooting foul', 'away_score': 34, 'home_score': 36, 'period_number': 2, 'period_display_value': '2nd Quarter', 'clock_display_value': '7:27', 'scoring_play': False, 'score_value': 0, 'team_id': 20.0, 'athlete_id_1': 2984237.0, 'athlete_id_2': nan, 'athlete_id_3': nan, 'wallclock': '2018-08-07T23:33:38Z', 'shooting_play': False, 'coordinate_x_raw': 24, 'coordinate_y_raw': 3.0, 'season': 2018, 'season_type': 2, 'away_team_id': 17, 'away_team_name': 'Las Vegas', 'away_team_mascot': 'Aces', 'away_team_abbrev': 'LV', 'away_team_name_alt': 'Las Vegas', 'home_team_id': 20, 'home_team_name': 'Atlanta', 'home_team_mascot': 'Dream', 'home_team_abbrev': 'ATL', 'home_team_name_alt': 'Atlanta', 'home_team_spread': 2.5, 'game_spread': 2.5, 'home_favorite': True, 'game_spread_available': False, 'game_id': 401018950, 'qtr': 2, 'time': '7:27', 'clock_minutes': 7, 'clock_seconds': 27.0, 'half': 1, 'game_half': 1, 'lead_qtr': 2.0, 'lead_game_half': 1.0, 'start_quarter_seconds_remaining': 447, 'start_half_seconds_remaining': 447, 'start_game_seconds_remaining': 1647, 'game_play_number': 111, 'end_quarter_seconds_remaining': 461, 'end_half_seconds_remaining': 461, 'end_game_seconds_remaining': 1661, 'period': 2, 'lag_qtr': 2.0, 'lag_game_half': 1.0, 'coordinate_x': 38.75, 'coordinate_y': 1, 'game_date': '2018-08-07', 'game_date_time': '2018-08-07 19:00:00', 'type_abbreviation': nan, 'combined_text': '17755 401018950167 167 44 Shooting Foul Imani McGee-Stafford shooting foul 34 36 2 2nd Quarter 7:27 False 0 20.0 2984237.0 nan nan 2018-08-07T23:33:38Z False 24 3.0 2018 2 17 Las Vegas Aces LV Las Vegas 20 Atlanta Dream ATL Atlanta 2.5 2.5 True False 401018950 2 7:27 7 27.0 1 1 2.0 1.0 447 447 1647 111 461 461 1661 2 2.0 1.0 38.75 1 2018-08-07 2018-08-07 19:00:00 nan'}, {'Unnamed: 0': 24949, 'id': 401066195111, 'sequence_number': 111, 'type_id': 20109, 'type_text': 'Running Layup Shot', 'text': 'Skylar Diggins-Smith makes two point shot (Tina Charles assists)', 'away_score': 27, 'home_score': 26, 'period_number': 1, 'period_display_value': '1st Quarter', 'clock_display_value': '1:19', 'scoring_play': True, 'score_value': 2, 'team_id': 111720.0, 'athlete_id_1': 2491205.0, 'athlete_id_2': 918.0, 'athlete_id_3': nan, 'wallclock': '2018-07-28T19:55:52Z', 'shooting_play': True, 'coordinate_x_raw': 18, 'coordinate_y_raw': -3.0, 'season': 2018, 'season_type': 2, 'away_team_id': 111720, 'away_team_name': 'Team Parker', 'away_team_mascot': 'Team Parker', 'away_team_abbrev': 'PAR', 'away_team_name_alt': 'Team Parker', 'home_team_id': 111719, 'home_team_name': 'Team Delle Donne', 'home_team_mascot': 'Team Delle Donne', 'home_team_abbrev': 'DEL', 'home_team_name_alt': 'Team Delle Donne', 'home_team_spread': 2.5, 'game_spread': 2.5, 'home_favorite': True, 'game_spread_available': False, 'game_id': 401066195, 'qtr': 1, 'time': '1:19', 'clock_minutes': 1, 'clock_seconds': 19.0, 'half': 1, 'game_half': 1, 'lead_qtr': 1.0, 'lead_game_half': 1.0, 'start_quarter_seconds_remaining': 79, 'start_half_seconds_remaining': 679, 'start_game_seconds_remaining': 1879, 'game_play_number': 76, 'end_quarter_seconds_remaining': 82, 'end_half_seconds_remaining': 682, 'end_game_seconds_remaining': 1882, 'period': 1, 'lag_qtr': 1.0, 'lag_game_half': 1.0, 'coordinate_x': -44.75, 'coordinate_y': -7, 'game_date': '2018-07-28', 'game_date_time': '2018-07-28 15:30:00', 'type_abbreviation': nan, 'combined_text': '24949 401066195111 111 20109 Running Layup Shot Skylar Diggins-Smith makes two point shot (Tina Charles assists) 27 26 1 1st Quarter 1:19 True 2 111720.0 2491205.0 918.0 nan 2018-07-28T19:55:52Z True 18 -3.0 2018 2 111720 Team Parker Team Parker PAR Team Parker 111719 Team Delle Donne Team Delle Donne DEL Team Delle Donne 2.5 2.5 True False 401066195 1 1:19 1 19.0 1 1 1.0 1.0 79 679 1879 76 82 682 1882 1 1.0 1.0 -44.75 -7 2018-07-28 2018-07-28 15:30:00 nan'}, {'Unnamed: 0': 25139, 'id': 401066195370, 'sequence_number': 370, 'type_id': 20125, 'type_text': 'Layup Shot Putback', 'text': \"Candace Parker blocks A'ja Wilson 's 3-foot two point shot\", 'away_score': 68, 'home_score': 64, 'period_number': 3, 'period_display_value': '3rd Quarter', 'clock_display_value': '5:15', 'scoring_play': False, 'score_value': 0, 'team_id': 111719.0, 'athlete_id_1': 3149391.0, 'athlete_id_2': 812.0, 'athlete_id_3': nan, 'wallclock': '2018-07-28T21:05:28Z', 'shooting_play': True, 'coordinate_x_raw': 28, 'coordinate_y_raw': 1.0, 'season': 2018, 'season_type': 2, 'away_team_id': 111720, 'away_team_name': 'Team Parker', 'away_team_mascot': 'Team Parker', 'away_team_abbrev': 'PAR', 'away_team_name_alt': 'Team Parker', 'home_team_id': 111719, 'home_team_name': 'Team Delle Donne', 'home_team_mascot': 'Team Delle Donne', 'home_team_abbrev': 'DEL', 'home_team_name_alt': 'Team Delle Donne', 'home_team_spread': 2.5, 'game_spread': 2.5, 'home_favorite': True, 'game_spread_available': False, 'game_id': 401066195, 'qtr': 3, 'time': '5:15', 'clock_minutes': 5, 'clock_seconds': 15.0, 'half': 2, 'game_half': 2, 'lead_qtr': 3.0, 'lead_game_half': 2.0, 'start_quarter_seconds_remaining': 315, 'start_half_seconds_remaining': 915, 'start_game_seconds_remaining': 915, 'game_play_number': 266, 'end_quarter_seconds_remaining': 319, 'end_half_seconds_remaining': 919, 'end_game_seconds_remaining': 919, 'period': 3, 'lag_qtr': 3.0, 'lag_game_half': 2.0, 'coordinate_x': 40.75, 'coordinate_y': -3, 'game_date': '2018-07-28', 'game_date_time': '2018-07-28 15:30:00', 'type_abbreviation': nan, 'combined_text': \"25139 401066195370 370 20125 Layup Shot Putback Candace Parker blocks A'ja Wilson 's 3-foot two point shot 68 64 3 3rd Quarter 5:15 False 0 111719.0 3149391.0 812.0 nan 2018-07-28T21:05:28Z True 28 1.0 2018 2 111720 Team Parker Team Parker PAR Team Parker 111719 Team Delle Donne Team Delle Donne DEL Team Delle Donne 2.5 2.5 True False 401066195 3 5:15 5 15.0 2 2 3.0 2.0 315 915 915 266 319 919 919 3 3.0 2.0 40.75 -3 2018-07-28 2018-07-28 15:30:00 nan\"}, {'Unnamed: 0': 25251, 'id': 401066195527, 'sequence_number': 527, 'type_id': 20125, 'type_text': 'Layup Shot Putback', 'text': 'Skylar Diggins-Smith makes two point shot', 'away_score': 99, 'home_score': 87, 'period_number': 4, 'period_display_value': '4th Quarter', 'clock_display_value': '6:27', 'scoring_play': True, 'score_value': 2, 'team_id': 111720.0, 'athlete_id_1': 2491205.0, 'athlete_id_2': nan, 'athlete_id_3': nan, 'wallclock': '2018-07-28T21:24:18Z', 'shooting_play': True, 'coordinate_x_raw': 25, 'coordinate_y_raw': 1.0, 'season': 2018, 'season_type': 2, 'away_team_id': 111720, 'away_team_name': 'Team Parker', 'away_team_mascot': 'Team Parker', 'away_team_abbrev': 'PAR', 'away_team_name_alt': 'Team Parker', 'home_team_id': 111719, 'home_team_name': 'Team Delle Donne', 'home_team_mascot': 'Team Delle Donne', 'home_team_abbrev': 'DEL', 'home_team_name_alt': 'Team Delle Donne', 'home_team_spread': 2.5, 'game_spread': 2.5, 'home_favorite': True, 'game_spread_available': False, 'game_id': 401066195, 'qtr': 4, 'time': '6:27', 'clock_minutes': 6, 'clock_seconds': 27.0, 'half': 2, 'game_half': 2, 'lead_qtr': 4.0, 'lead_game_half': 2.0, 'start_quarter_seconds_remaining': 387, 'start_half_seconds_remaining': 387, 'start_game_seconds_remaining': 387, 'game_play_number': 378, 'end_quarter_seconds_remaining': 393, 'end_half_seconds_remaining': 393, 'end_game_seconds_remaining': 393, 'period': 4, 'lag_qtr': 4.0, 'lag_game_half': 2.0, 'coordinate_x': -40.75, 'coordinate_y': 0, 'game_date': '2018-07-28', 'game_date_time': '2018-07-28 15:30:00', 'type_abbreviation': nan, 'combined_text': '25251 401066195527 527 20125 Layup Shot Putback Skylar Diggins-Smith makes two point shot 99 87 4 4th Quarter 6:27 True 2 111720.0 2491205.0 nan nan 2018-07-28T21:24:18Z True 25 1.0 2018 2 111720 Team Parker Team Parker PAR Team Parker 111719 Team Delle Donne Team Delle Donne DEL Team Delle Donne 2.5 2.5 True False 401066195 4 6:27 6 27.0 2 2 4.0 2.0 387 387 387 378 393 393 393 4 4.0 2.0 -40.75 0 2018-07-28 2018-07-28 15:30:00 nan'}, {'Unnamed: 0': 25241, 'id': 401066195513, 'sequence_number': 513, 'type_id': 20125, 'type_text': 'Layup Shot Putback', 'text': 'Candace Parker makes two point shot', 'away_score': 95, 'home_score': 82, 'period_number': 4, 'period_display_value': '4th Quarter', 'clock_display_value': '7:33', 'scoring_play': True, 'score_value': 2, 'team_id': 111720.0, 'athlete_id_1': 812.0, 'athlete_id_2': nan, 'athlete_id_3': nan, 'wallclock': '2018-07-28T21:22:33Z', 'shooting_play': True, 'coordinate_x_raw': 24, 'coordinate_y_raw': 0.0, 'season': 2018, 'season_type': 2, 'away_team_id': 111720, 'away_team_name': 'Team Parker', 'away_team_mascot': 'Team Parker', 'away_team_abbrev': 'PAR', 'away_team_name_alt': 'Team Parker', 'home_team_id': 111719, 'home_team_name': 'Team Delle Donne', 'home_team_mascot': 'Team Delle Donne', 'home_team_abbrev': 'DEL', 'home_team_name_alt': 'Team Delle Donne', 'home_team_spread': 2.5, 'game_spread': 2.5, 'home_favorite': True, 'game_spread_available': False, 'game_id': 401066195, 'qtr': 4, 'time': '7:33', 'clock_minutes': 7, 'clock_seconds': 33.0, 'half': 2, 'game_half': 2, 'lead_qtr': 4.0, 'lead_game_half': 2.0, 'start_quarter_seconds_remaining': 453, 'start_half_seconds_remaining': 453, 'start_game_seconds_remaining': 453, 'game_play_number': 368, 'end_quarter_seconds_remaining': 454, 'end_half_seconds_remaining': 454, 'end_game_seconds_remaining': 454, 'period': 4, 'lag_qtr': 4.0, 'lag_game_half': 2.0, 'coordinate_x': -41.75, 'coordinate_y': -1, 'game_date': '2018-07-28', 'game_date_time': '2018-07-28 15:30:00', 'type_abbreviation': nan, 'combined_text': '25241 401066195513 513 20125 Layup Shot Putback Candace Parker makes two point shot 95 82 4 4th Quarter 7:33 True 2 111720.0 812.0 nan nan 2018-07-28T21:22:33Z True 24 0.0 2018 2 111720 Team Parker Team Parker PAR Team Parker 111719 Team Delle Donne Team Delle Donne DEL Team Delle Donne 2.5 2.5 True False 401066195 4 7:33 7 33.0 2 2 4.0 2.0 453 453 453 368 454 454 454 4 4.0 2.0 -41.75 -1 2018-07-28 2018-07-28 15:30:00 nan'}]\n"
     ]
    }
   ],
   "source": [
    "# Load the index from the file\n",
    "index = faiss.read_index('../data/vector_store.index')\n",
    "\n",
    "# Convert your query into a vector\n",
    "query = \"Who made the first scoring play in the first quarter?\"\n",
    "query_embedding = model.encode([query])\n",
    "\n",
    "# Search the vector store\n",
    "k = 5  # Number of nearest neighbors\n",
    "D, I = index.search(query_embedding, k)\n",
    "\n",
    "# I contains the indices of the nearest neighbors\n",
    "print(\"Indices of the nearest neighbors:\", I)\n",
    "\n",
    "# Retrieve the rows corresponding to the indices\n",
    "results = data.iloc[I[0]].to_dict(orient='records')\n",
    "print(\"Query results:\", results)"
   ]
  }
 ],
 "metadata": {
  "kernelspec": {
   "display_name": "Python 3 (ipykernel)",
   "language": "python",
   "name": "python3"
  },
  "language_info": {
   "codemirror_mode": {
    "name": "ipython",
    "version": 3
   },
   "file_extension": ".py",
   "mimetype": "text/x-python",
   "name": "python",
   "nbconvert_exporter": "python",
   "pygments_lexer": "ipython3",
   "version": "3.12.1"
  }
 },
 "nbformat": 4,
 "nbformat_minor": 5
}
