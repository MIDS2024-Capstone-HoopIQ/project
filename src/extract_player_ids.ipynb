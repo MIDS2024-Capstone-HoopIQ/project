{
 "cells": [
  {
   "cell_type": "code",
   "execution_count": 1,
   "metadata": {},
   "outputs": [],
   "source": [
    "import pandas as pd\n",
    "import numpy as np"
   ]
  },
  {
   "cell_type": "code",
   "execution_count": 2,
   "metadata": {},
   "outputs": [],
   "source": [
    "wnba_2018_df = pd.read_csv('Data/wnba_pbp_2018.csv')\n",
    "wnba_2019_df = pd.read_csv('Data/wnba_pbp_2019.csv')\n",
    "wnba_2020_df = pd.read_csv('Data/wnba_pbp_2020.csv')\n",
    "wnba_2021_df = pd.read_csv('Data/wnba_pbp_2021.csv')\n",
    "wnba_2022_df = pd.read_csv('Data/wnba_pbp_2022.csv')\n",
    "wnba_2023_df = pd.read_csv('Data/wnba_pbp_2023.csv')\n",
    "wnba_2024_df = pd.read_csv('Data/wnba_pbp_2024.csv')"
   ]
  },
  {
   "cell_type": "code",
   "execution_count": 3,
   "metadata": {},
   "outputs": [],
   "source": [
    "merged_df = pd.concat([wnba_2018_df, \n",
    "                       wnba_2019_df, \n",
    "                       wnba_2020_df,\n",
    "                       wnba_2021_df, \n",
    "                       wnba_2022_df, \n",
    "                       wnba_2023_df,\n",
    "                       wnba_2024_df], ignore_index=True)"
   ]
  },
  {
   "cell_type": "code",
   "execution_count": 4,
   "metadata": {},
   "outputs": [],
   "source": [
    "athlete_ids_df = merged_df[['athlete_id_1', 'athlete_id_2', 'athlete_id_3']]"
   ]
  },
  {
   "cell_type": "code",
   "execution_count": 5,
   "metadata": {},
   "outputs": [],
   "source": [
    "stacked_athlete_id_df = athlete_ids_df.stack().reset_index(drop=True).to_frame(name='athlete_id')"
   ]
  },
  {
   "cell_type": "code",
   "execution_count": 6,
   "metadata": {},
   "outputs": [],
   "source": [
    "stacked_athlete_id_df['athlete_id'] = stacked_athlete_id_df['athlete_id'].astype(int)"
   ]
  },
  {
   "cell_type": "code",
   "execution_count": 7,
   "metadata": {},
   "outputs": [
    {
     "data": {
      "text/plain": [
       "3149391    10376\n",
       "869         8954\n",
       "2998928     8888\n",
       "981         8236\n",
       "2999101     8195\n",
       "           ...  \n",
       "313            3\n",
       "985            2\n",
       "3054094        2\n",
       "40             2\n",
       "3143139        1\n",
       "Name: athlete_id, Length: 346, dtype: int64"
      ]
     },
     "execution_count": 7,
     "metadata": {},
     "output_type": "execute_result"
    }
   ],
   "source": [
    "stacked_athlete_id_df['athlete_id'].value_counts()"
   ]
  },
  {
   "cell_type": "code",
   "execution_count": 8,
   "metadata": {},
   "outputs": [],
   "source": [
    "athlete_id_df = stacked_athlete_id_df.drop_duplicates(subset=['athlete_id'])"
   ]
  },
  {
   "cell_type": "code",
   "execution_count": 9,
   "metadata": {},
   "outputs": [
    {
     "data": {
      "text/plain": [
       "798        1\n",
       "4281929    1\n",
       "4065781    1\n",
       "4066548    1\n",
       "4281190    1\n",
       "          ..\n",
       "2984741    1\n",
       "2998938    1\n",
       "2529458    1\n",
       "685        1\n",
       "4066527    1\n",
       "Name: athlete_id, Length: 346, dtype: int64"
      ]
     },
     "execution_count": 9,
     "metadata": {},
     "output_type": "execute_result"
    }
   ],
   "source": [
    "athlete_id_df['athlete_id'].value_counts()"
   ]
  },
  {
   "cell_type": "code",
   "execution_count": 10,
   "metadata": {},
   "outputs": [],
   "source": [
    "athlete_id_df = athlete_id_df.sort_values(by=['athlete_id'], ascending=True).reset_index(drop=True)"
   ]
  },
  {
   "cell_type": "code",
   "execution_count": 11,
   "metadata": {},
   "outputs": [
    {
     "data": {
      "text/html": [
       "<div>\n",
       "<style scoped>\n",
       "    .dataframe tbody tr th:only-of-type {\n",
       "        vertical-align: middle;\n",
       "    }\n",
       "\n",
       "    .dataframe tbody tr th {\n",
       "        vertical-align: top;\n",
       "    }\n",
       "\n",
       "    .dataframe thead th {\n",
       "        text-align: right;\n",
       "    }\n",
       "</style>\n",
       "<table border=\"1\" class=\"dataframe\">\n",
       "  <thead>\n",
       "    <tr style=\"text-align: right;\">\n",
       "      <th></th>\n",
       "      <th>athlete_id</th>\n",
       "    </tr>\n",
       "  </thead>\n",
       "  <tbody>\n",
       "    <tr>\n",
       "      <th>0</th>\n",
       "      <td>14</td>\n",
       "    </tr>\n",
       "    <tr>\n",
       "      <th>1</th>\n",
       "      <td>40</td>\n",
       "    </tr>\n",
       "    <tr>\n",
       "      <th>2</th>\n",
       "      <td>91</td>\n",
       "    </tr>\n",
       "    <tr>\n",
       "      <th>3</th>\n",
       "      <td>313</td>\n",
       "    </tr>\n",
       "    <tr>\n",
       "      <th>4</th>\n",
       "      <td>545</td>\n",
       "    </tr>\n",
       "    <tr>\n",
       "      <th>...</th>\n",
       "      <td>...</td>\n",
       "    </tr>\n",
       "    <tr>\n",
       "      <th>341</th>\n",
       "      <td>5017726</td>\n",
       "    </tr>\n",
       "    <tr>\n",
       "      <th>342</th>\n",
       "      <td>5105752</td>\n",
       "    </tr>\n",
       "    <tr>\n",
       "      <th>343</th>\n",
       "      <td>5106150</td>\n",
       "    </tr>\n",
       "    <tr>\n",
       "      <th>344</th>\n",
       "      <td>5130672</td>\n",
       "    </tr>\n",
       "    <tr>\n",
       "      <th>345</th>\n",
       "      <td>5209660</td>\n",
       "    </tr>\n",
       "  </tbody>\n",
       "</table>\n",
       "<p>346 rows × 1 columns</p>\n",
       "</div>"
      ],
      "text/plain": [
       "     athlete_id\n",
       "0            14\n",
       "1            40\n",
       "2            91\n",
       "3           313\n",
       "4           545\n",
       "..          ...\n",
       "341     5017726\n",
       "342     5105752\n",
       "343     5106150\n",
       "344     5130672\n",
       "345     5209660\n",
       "\n",
       "[346 rows x 1 columns]"
      ]
     },
     "execution_count": 11,
     "metadata": {},
     "output_type": "execute_result"
    }
   ],
   "source": [
    "athlete_id_df"
   ]
  },
  {
   "cell_type": "code",
   "execution_count": 12,
   "metadata": {},
   "outputs": [],
   "source": [
    "athlete_id_df.to_csv('Data/athlete_ids.csv', index=False)"
   ]
  },
  {
   "cell_type": "code",
   "execution_count": null,
   "metadata": {},
   "outputs": [],
   "source": []
  }
 ],
 "metadata": {
  "hide_input": false,
  "kernelspec": {
   "display_name": "Python 3 (ipykernel)",
   "language": "python",
   "name": "python3"
  },
  "language_info": {
   "codemirror_mode": {
    "name": "ipython",
    "version": 3
   },
   "file_extension": ".py",
   "mimetype": "text/x-python",
   "name": "python",
   "nbconvert_exporter": "python",
   "pygments_lexer": "ipython3",
   "version": "3.9.7"
  }
 },
 "nbformat": 4,
 "nbformat_minor": 4
}
