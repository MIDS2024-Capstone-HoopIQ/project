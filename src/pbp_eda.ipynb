{
 "cells": [
  {
   "cell_type": "code",
   "execution_count": 1,
   "metadata": {},
   "outputs": [
    {
     "name": "stdout",
     "output_type": "stream",
     "text": [
      "Requirement already satisfied: sportypy in /opt/anaconda3/lib/python3.9/site-packages (1.0.0)\r\n",
      "Requirement already satisfied: matplotlib in /opt/anaconda3/lib/python3.9/site-packages (from sportypy) (3.4.3)\r\n",
      "Requirement already satisfied: scipy in /opt/anaconda3/lib/python3.9/site-packages (from sportypy) (1.7.1)\r\n",
      "Requirement already satisfied: pandas in /opt/anaconda3/lib/python3.9/site-packages (from sportypy) (1.3.4)\r\n",
      "Requirement already satisfied: numpy in /opt/anaconda3/lib/python3.9/site-packages (from sportypy) (1.20.3)\r\n",
      "Requirement already satisfied: kiwisolver>=1.0.1 in /opt/anaconda3/lib/python3.9/site-packages (from matplotlib->sportypy) (1.3.1)\r\n",
      "Requirement already satisfied: python-dateutil>=2.7 in /opt/anaconda3/lib/python3.9/site-packages (from matplotlib->sportypy) (2.8.2)\r\n",
      "Requirement already satisfied: pyparsing>=2.2.1 in /opt/anaconda3/lib/python3.9/site-packages (from matplotlib->sportypy) (3.0.4)\r\n",
      "Requirement already satisfied: pillow>=6.2.0 in /opt/anaconda3/lib/python3.9/site-packages (from matplotlib->sportypy) (8.4.0)\r\n",
      "Requirement already satisfied: cycler>=0.10 in /opt/anaconda3/lib/python3.9/site-packages (from matplotlib->sportypy) (0.10.0)\r\n",
      "Requirement already satisfied: six in /opt/anaconda3/lib/python3.9/site-packages (from cycler>=0.10->matplotlib->sportypy) (1.16.0)\r\n",
      "Requirement already satisfied: pytz>=2017.3 in /opt/anaconda3/lib/python3.9/site-packages (from pandas->sportypy) (2021.3)\r\n"
     ]
    }
   ],
   "source": [
    "!pip install sportypy"
   ]
  },
  {
   "cell_type": "code",
   "execution_count": 2,
   "metadata": {},
   "outputs": [],
   "source": [
    "from sportypy.surfaces.basketball import WNBACourt\n",
    "import matplotlib.pyplot as plt\n",
    "import numpy as np\n",
    "import pandas as pd"
   ]
  },
  {
   "cell_type": "code",
   "execution_count": 3,
   "metadata": {},
   "outputs": [],
   "source": [
    "wnba_2018_df = pd.read_csv('Data/wnba_pbp_2018.csv')\n",
    "wnba_2019_df = pd.read_csv('Data/wnba_pbp_2019.csv')\n",
    "wnba_2020_df = pd.read_csv('Data/wnba_pbp_2020.csv')\n",
    "wnba_2021_df = pd.read_csv('Data/wnba_pbp_2021.csv')\n",
    "wnba_2022_df = pd.read_csv('Data/wnba_pbp_2022.csv')\n",
    "wnba_2023_df = pd.read_csv('Data/wnba_pbp_2023.csv')\n",
    "wnba_2024_df = pd.read_csv('Data/wnba_pbp_2024.csv')"
   ]
  },
  {
   "cell_type": "code",
   "execution_count": 4,
   "metadata": {},
   "outputs": [],
   "source": [
    "merged_pbp_df = pd.concat([wnba_2018_df, \n",
    "                       wnba_2019_df, \n",
    "                       wnba_2020_df,\n",
    "                       wnba_2021_df, \n",
    "                       wnba_2022_df, \n",
    "                       wnba_2023_df,\n",
    "                       wnba_2024_df], ignore_index=True)"
   ]
  },
  {
   "cell_type": "code",
   "execution_count": 5,
   "metadata": {},
   "outputs": [
    {
     "data": {
      "text/html": [
       "<div>\n",
       "<style scoped>\n",
       "    .dataframe tbody tr th:only-of-type {\n",
       "        vertical-align: middle;\n",
       "    }\n",
       "\n",
       "    .dataframe tbody tr th {\n",
       "        vertical-align: top;\n",
       "    }\n",
       "\n",
       "    .dataframe thead th {\n",
       "        text-align: right;\n",
       "    }\n",
       "</style>\n",
       "<table border=\"1\" class=\"dataframe\">\n",
       "  <thead>\n",
       "    <tr style=\"text-align: right;\">\n",
       "      <th></th>\n",
       "      <th>Unnamed: 0</th>\n",
       "      <th>id</th>\n",
       "      <th>sequence_number</th>\n",
       "      <th>type_id</th>\n",
       "      <th>type_text</th>\n",
       "      <th>text</th>\n",
       "      <th>away_score</th>\n",
       "      <th>home_score</th>\n",
       "      <th>period_number</th>\n",
       "      <th>period_display_value</th>\n",
       "      <th>...</th>\n",
       "      <th>lag_game_half</th>\n",
       "      <th>coordinate_x</th>\n",
       "      <th>coordinate_y</th>\n",
       "      <th>game_date</th>\n",
       "      <th>game_date_time</th>\n",
       "      <th>type_abbreviation</th>\n",
       "      <th>home_timeout_called</th>\n",
       "      <th>away_timeout_called</th>\n",
       "      <th>lead_half</th>\n",
       "      <th>lag_half</th>\n",
       "    </tr>\n",
       "  </thead>\n",
       "  <tbody>\n",
       "    <tr>\n",
       "      <th>0</th>\n",
       "      <td>1</td>\n",
       "      <td>4010796954</td>\n",
       "      <td>4</td>\n",
       "      <td>615</td>\n",
       "      <td>Jumpball</td>\n",
       "      <td>Breanna Stewart vs. LaToya Sanders (Elena Dell...</td>\n",
       "      <td>0</td>\n",
       "      <td>0</td>\n",
       "      <td>1</td>\n",
       "      <td>1st Quarter</td>\n",
       "      <td>...</td>\n",
       "      <td>NaN</td>\n",
       "      <td>4.675000e+01</td>\n",
       "      <td>-25</td>\n",
       "      <td>2018-09-12</td>\n",
       "      <td>2018-09-12 20:00:00</td>\n",
       "      <td>NaN</td>\n",
       "      <td>NaN</td>\n",
       "      <td>NaN</td>\n",
       "      <td>NaN</td>\n",
       "      <td>NaN</td>\n",
       "    </tr>\n",
       "    <tr>\n",
       "      <th>1</th>\n",
       "      <td>2</td>\n",
       "      <td>4010796957</td>\n",
       "      <td>7</td>\n",
       "      <td>20132</td>\n",
       "      <td>Step Back Jump Shot</td>\n",
       "      <td>Kristi Toliver makes 18-foot step back jumpsho...</td>\n",
       "      <td>0</td>\n",
       "      <td>2</td>\n",
       "      <td>1</td>\n",
       "      <td>1st Quarter</td>\n",
       "      <td>...</td>\n",
       "      <td>1.0</td>\n",
       "      <td>3.075000e+01</td>\n",
       "      <td>14</td>\n",
       "      <td>2018-09-12</td>\n",
       "      <td>2018-09-12 20:00:00</td>\n",
       "      <td>NaN</td>\n",
       "      <td>NaN</td>\n",
       "      <td>NaN</td>\n",
       "      <td>NaN</td>\n",
       "      <td>NaN</td>\n",
       "    </tr>\n",
       "    <tr>\n",
       "      <th>2</th>\n",
       "      <td>3</td>\n",
       "      <td>4010796959</td>\n",
       "      <td>9</td>\n",
       "      <td>12</td>\n",
       "      <td>Kicked Ball</td>\n",
       "      <td>LaToya Sanders kicked ball violation</td>\n",
       "      <td>0</td>\n",
       "      <td>2</td>\n",
       "      <td>1</td>\n",
       "      <td>1st Quarter</td>\n",
       "      <td>...</td>\n",
       "      <td>1.0</td>\n",
       "      <td>4.675000e+01</td>\n",
       "      <td>-25</td>\n",
       "      <td>2018-09-12</td>\n",
       "      <td>2018-09-12 20:00:00</td>\n",
       "      <td>NaN</td>\n",
       "      <td>NaN</td>\n",
       "      <td>NaN</td>\n",
       "      <td>NaN</td>\n",
       "      <td>NaN</td>\n",
       "    </tr>\n",
       "    <tr>\n",
       "      <th>3</th>\n",
       "      <td>4</td>\n",
       "      <td>40107969510</td>\n",
       "      <td>10</td>\n",
       "      <td>30092</td>\n",
       "      <td>Jump Shot</td>\n",
       "      <td>Sue Bird misses 29-foot three point jumper</td>\n",
       "      <td>0</td>\n",
       "      <td>2</td>\n",
       "      <td>1</td>\n",
       "      <td>1st Quarter</td>\n",
       "      <td>...</td>\n",
       "      <td>1.0</td>\n",
       "      <td>-1.575000e+01</td>\n",
       "      <td>-14</td>\n",
       "      <td>2018-09-12</td>\n",
       "      <td>2018-09-12 20:00:00</td>\n",
       "      <td>NaN</td>\n",
       "      <td>NaN</td>\n",
       "      <td>NaN</td>\n",
       "      <td>NaN</td>\n",
       "      <td>NaN</td>\n",
       "    </tr>\n",
       "    <tr>\n",
       "      <th>4</th>\n",
       "      <td>5</td>\n",
       "      <td>40107969511</td>\n",
       "      <td>11</td>\n",
       "      <td>156</td>\n",
       "      <td>Offensive Rebound</td>\n",
       "      <td>Seattle offensive team rebound</td>\n",
       "      <td>0</td>\n",
       "      <td>2</td>\n",
       "      <td>1</td>\n",
       "      <td>1st Quarter</td>\n",
       "      <td>...</td>\n",
       "      <td>1.0</td>\n",
       "      <td>-1.575000e+01</td>\n",
       "      <td>-14</td>\n",
       "      <td>2018-09-12</td>\n",
       "      <td>2018-09-12 20:00:00</td>\n",
       "      <td>NaN</td>\n",
       "      <td>NaN</td>\n",
       "      <td>NaN</td>\n",
       "      <td>NaN</td>\n",
       "      <td>NaN</td>\n",
       "    </tr>\n",
       "    <tr>\n",
       "      <th>...</th>\n",
       "      <td>...</td>\n",
       "      <td>...</td>\n",
       "      <td>...</td>\n",
       "      <td>...</td>\n",
       "      <td>...</td>\n",
       "      <td>...</td>\n",
       "      <td>...</td>\n",
       "      <td>...</td>\n",
       "      <td>...</td>\n",
       "      <td>...</td>\n",
       "      <td>...</td>\n",
       "      <td>...</td>\n",
       "      <td>...</td>\n",
       "      <td>...</td>\n",
       "      <td>...</td>\n",
       "      <td>...</td>\n",
       "      <td>...</td>\n",
       "      <td>...</td>\n",
       "      <td>...</td>\n",
       "      <td>...</td>\n",
       "      <td>...</td>\n",
       "    </tr>\n",
       "    <tr>\n",
       "      <th>514059</th>\n",
       "      <td>12529</td>\n",
       "      <td>401620221574</td>\n",
       "      <td>574</td>\n",
       "      <td>584</td>\n",
       "      <td>Substitution</td>\n",
       "      <td>Taylor Soule enters the game for Kayla McBride</td>\n",
       "      <td>83</td>\n",
       "      <td>68</td>\n",
       "      <td>4</td>\n",
       "      <td>4th Quarter</td>\n",
       "      <td>...</td>\n",
       "      <td>NaN</td>\n",
       "      <td>-2.147484e+08</td>\n",
       "      <td>-214748365</td>\n",
       "      <td>2024-05-14</td>\n",
       "      <td>2024-05-14 22:00:00</td>\n",
       "      <td>NaN</td>\n",
       "      <td>False</td>\n",
       "      <td>False</td>\n",
       "      <td>2.0</td>\n",
       "      <td>2.0</td>\n",
       "    </tr>\n",
       "    <tr>\n",
       "      <th>514060</th>\n",
       "      <td>12530</td>\n",
       "      <td>401620221575</td>\n",
       "      <td>575</td>\n",
       "      <td>584</td>\n",
       "      <td>Substitution</td>\n",
       "      <td>Alissa Pili enters the game for Napheesa Collier</td>\n",
       "      <td>83</td>\n",
       "      <td>68</td>\n",
       "      <td>4</td>\n",
       "      <td>4th Quarter</td>\n",
       "      <td>...</td>\n",
       "      <td>NaN</td>\n",
       "      <td>-2.147484e+08</td>\n",
       "      <td>-214748365</td>\n",
       "      <td>2024-05-14</td>\n",
       "      <td>2024-05-14 22:00:00</td>\n",
       "      <td>NaN</td>\n",
       "      <td>False</td>\n",
       "      <td>False</td>\n",
       "      <td>2.0</td>\n",
       "      <td>2.0</td>\n",
       "    </tr>\n",
       "    <tr>\n",
       "      <th>514061</th>\n",
       "      <td>12531</td>\n",
       "      <td>401620221585</td>\n",
       "      <td>585</td>\n",
       "      <td>92</td>\n",
       "      <td>Jump Shot</td>\n",
       "      <td>Mercedes Russell makes 10-foot jumper (Sami Wh...</td>\n",
       "      <td>83</td>\n",
       "      <td>70</td>\n",
       "      <td>4</td>\n",
       "      <td>4th Quarter</td>\n",
       "      <td>...</td>\n",
       "      <td>NaN</td>\n",
       "      <td>3.075000e+01</td>\n",
       "      <td>1</td>\n",
       "      <td>2024-05-14</td>\n",
       "      <td>2024-05-14 22:00:00</td>\n",
       "      <td>NaN</td>\n",
       "      <td>False</td>\n",
       "      <td>False</td>\n",
       "      <td>2.0</td>\n",
       "      <td>2.0</td>\n",
       "    </tr>\n",
       "    <tr>\n",
       "      <th>514062</th>\n",
       "      <td>12532</td>\n",
       "      <td>401620221587</td>\n",
       "      <td>587</td>\n",
       "      <td>412</td>\n",
       "      <td>End Period</td>\n",
       "      <td>End of the 4th Quarter</td>\n",
       "      <td>83</td>\n",
       "      <td>70</td>\n",
       "      <td>4</td>\n",
       "      <td>4th Quarter</td>\n",
       "      <td>...</td>\n",
       "      <td>NaN</td>\n",
       "      <td>-2.147484e+08</td>\n",
       "      <td>-214748365</td>\n",
       "      <td>2024-05-14</td>\n",
       "      <td>2024-05-14 22:00:00</td>\n",
       "      <td>NaN</td>\n",
       "      <td>False</td>\n",
       "      <td>False</td>\n",
       "      <td>2.0</td>\n",
       "      <td>2.0</td>\n",
       "    </tr>\n",
       "    <tr>\n",
       "      <th>514063</th>\n",
       "      <td>12533</td>\n",
       "      <td>401620221588</td>\n",
       "      <td>588</td>\n",
       "      <td>402</td>\n",
       "      <td>End Game</td>\n",
       "      <td>End of Game</td>\n",
       "      <td>83</td>\n",
       "      <td>70</td>\n",
       "      <td>4</td>\n",
       "      <td>4th Quarter</td>\n",
       "      <td>...</td>\n",
       "      <td>NaN</td>\n",
       "      <td>-2.147484e+08</td>\n",
       "      <td>-214748365</td>\n",
       "      <td>2024-05-14</td>\n",
       "      <td>2024-05-14 22:00:00</td>\n",
       "      <td>NaN</td>\n",
       "      <td>False</td>\n",
       "      <td>False</td>\n",
       "      <td>NaN</td>\n",
       "      <td>2.0</td>\n",
       "    </tr>\n",
       "  </tbody>\n",
       "</table>\n",
       "<p>514064 rows × 65 columns</p>\n",
       "</div>"
      ],
      "text/plain": [
       "        Unnamed: 0            id  sequence_number  type_id  \\\n",
       "0                1    4010796954                4      615   \n",
       "1                2    4010796957                7    20132   \n",
       "2                3    4010796959                9       12   \n",
       "3                4   40107969510               10    30092   \n",
       "4                5   40107969511               11      156   \n",
       "...            ...           ...              ...      ...   \n",
       "514059       12529  401620221574              574      584   \n",
       "514060       12530  401620221575              575      584   \n",
       "514061       12531  401620221585              585       92   \n",
       "514062       12532  401620221587              587      412   \n",
       "514063       12533  401620221588              588      402   \n",
       "\n",
       "                  type_text  \\\n",
       "0                  Jumpball   \n",
       "1       Step Back Jump Shot   \n",
       "2               Kicked Ball   \n",
       "3                 Jump Shot   \n",
       "4         Offensive Rebound   \n",
       "...                     ...   \n",
       "514059         Substitution   \n",
       "514060         Substitution   \n",
       "514061            Jump Shot   \n",
       "514062           End Period   \n",
       "514063             End Game   \n",
       "\n",
       "                                                     text  away_score  \\\n",
       "0       Breanna Stewart vs. LaToya Sanders (Elena Dell...           0   \n",
       "1       Kristi Toliver makes 18-foot step back jumpsho...           0   \n",
       "2                    LaToya Sanders kicked ball violation           0   \n",
       "3              Sue Bird misses 29-foot three point jumper           0   \n",
       "4                          Seattle offensive team rebound           0   \n",
       "...                                                   ...         ...   \n",
       "514059     Taylor Soule enters the game for Kayla McBride          83   \n",
       "514060   Alissa Pili enters the game for Napheesa Collier          83   \n",
       "514061  Mercedes Russell makes 10-foot jumper (Sami Wh...          83   \n",
       "514062                             End of the 4th Quarter          83   \n",
       "514063                                        End of Game          83   \n",
       "\n",
       "        home_score  period_number period_display_value  ... lag_game_half  \\\n",
       "0                0              1          1st Quarter  ...           NaN   \n",
       "1                2              1          1st Quarter  ...           1.0   \n",
       "2                2              1          1st Quarter  ...           1.0   \n",
       "3                2              1          1st Quarter  ...           1.0   \n",
       "4                2              1          1st Quarter  ...           1.0   \n",
       "...            ...            ...                  ...  ...           ...   \n",
       "514059          68              4          4th Quarter  ...           NaN   \n",
       "514060          68              4          4th Quarter  ...           NaN   \n",
       "514061          70              4          4th Quarter  ...           NaN   \n",
       "514062          70              4          4th Quarter  ...           NaN   \n",
       "514063          70              4          4th Quarter  ...           NaN   \n",
       "\n",
       "        coordinate_x  coordinate_y   game_date       game_date_time  \\\n",
       "0       4.675000e+01           -25  2018-09-12  2018-09-12 20:00:00   \n",
       "1       3.075000e+01            14  2018-09-12  2018-09-12 20:00:00   \n",
       "2       4.675000e+01           -25  2018-09-12  2018-09-12 20:00:00   \n",
       "3      -1.575000e+01           -14  2018-09-12  2018-09-12 20:00:00   \n",
       "4      -1.575000e+01           -14  2018-09-12  2018-09-12 20:00:00   \n",
       "...              ...           ...         ...                  ...   \n",
       "514059 -2.147484e+08    -214748365  2024-05-14  2024-05-14 22:00:00   \n",
       "514060 -2.147484e+08    -214748365  2024-05-14  2024-05-14 22:00:00   \n",
       "514061  3.075000e+01             1  2024-05-14  2024-05-14 22:00:00   \n",
       "514062 -2.147484e+08    -214748365  2024-05-14  2024-05-14 22:00:00   \n",
       "514063 -2.147484e+08    -214748365  2024-05-14  2024-05-14 22:00:00   \n",
       "\n",
       "        type_abbreviation  home_timeout_called away_timeout_called  lead_half  \\\n",
       "0                     NaN                  NaN                 NaN        NaN   \n",
       "1                     NaN                  NaN                 NaN        NaN   \n",
       "2                     NaN                  NaN                 NaN        NaN   \n",
       "3                     NaN                  NaN                 NaN        NaN   \n",
       "4                     NaN                  NaN                 NaN        NaN   \n",
       "...                   ...                  ...                 ...        ...   \n",
       "514059                NaN                False               False        2.0   \n",
       "514060                NaN                False               False        2.0   \n",
       "514061                NaN                False               False        2.0   \n",
       "514062                NaN                False               False        2.0   \n",
       "514063                NaN                False               False        NaN   \n",
       "\n",
       "        lag_half  \n",
       "0            NaN  \n",
       "1            NaN  \n",
       "2            NaN  \n",
       "3            NaN  \n",
       "4            NaN  \n",
       "...          ...  \n",
       "514059       2.0  \n",
       "514060       2.0  \n",
       "514061       2.0  \n",
       "514062       2.0  \n",
       "514063       2.0  \n",
       "\n",
       "[514064 rows x 65 columns]"
      ]
     },
     "execution_count": 5,
     "metadata": {},
     "output_type": "execute_result"
    }
   ],
   "source": [
    "merged_pbp_df"
   ]
  },
  {
   "cell_type": "markdown",
   "metadata": {},
   "source": [
    "# Looking at Distribution of Values for Various Columns"
   ]
  },
  {
   "cell_type": "code",
   "execution_count": 6,
   "metadata": {},
   "outputs": [
    {
     "name": "stdout",
     "output_type": "stream",
     "text": [
      "Defensive Rebound                 75628\n",
      "Jump Shot                         64355\n",
      "Substitution                      61907\n",
      "Offensive Rebound                 36271\n",
      "Pullup Jump Shot                  20173\n",
      "                                  ...  \n",
      "ReverseDunkShot                       1\n",
      "Swinging Elbows Turnover              1\n",
      "Free Throw Flagrant 1 of 1            1\n",
      "NoShot                                1\n",
      "Offensive Goaltending Turnover        1\n",
      "Name: type_text, Length: 203, dtype: int64\n"
     ]
    },
    {
     "data": {
      "image/png": "[encoded data removed]",
      "text/plain": [
       "<Figure size 1440x432 with 1 Axes>"
      ]
     },
     "metadata": {
      "needs_background": "light"
     },
     "output_type": "display_data"
    }
   ],
   "source": [
    "type_text_counts = merged_pbp_df['type_text'].value_counts().sort_values(ascending=False)\n",
    "\n",
    "print(type_text_counts)\n",
    "\n",
    "plt.figure(figsize=(20, 6))\n",
    "type_text_counts.head(15).plot(kind='bar')\n",
    "plt.title('Play Type Frequency')\n",
    "plt.xlabel('Play Type')\n",
    "plt.ylabel('Count')\n",
    "plt.show()"
   ]
  },
  {
   "cell_type": "code",
   "execution_count": 7,
   "metadata": {},
   "outputs": [
    {
     "name": "stdout",
     "output_type": "stream",
     "text": [
      "False    396031\n",
      "True     118033\n",
      "Name: scoring_play, dtype: int64\n"
     ]
    },
    {
     "data": {
      "image/png": "[encoded data removed]",
      "text/plain": [
       "<Figure size 1440x432 with 1 Axes>"
      ]
     },
     "metadata": {
      "needs_background": "light"
     },
     "output_type": "display_data"
    }
   ],
   "source": [
    "scoring_play_counts = merged_pbp_df['scoring_play'].value_counts().sort_values(ascending=False)\n",
    "\n",
    "print(scoring_play_counts)\n",
    "\n",
    "plt.figure(figsize=(20, 6))\n",
    "scoring_play_counts.plot(kind='bar')\n",
    "plt.title('Scoring Play Frequency')\n",
    "plt.xlabel('Scoring Play')\n",
    "plt.ylabel('Count')\n",
    "plt.show()"
   ]
  },
  {
   "cell_type": "code",
   "execution_count": 8,
   "metadata": {},
   "outputs": [
    {
     "name": "stdout",
     "output_type": "stream",
     "text": [
      "2023    102191\n",
      "2022     93166\n",
      "2018     84811\n",
      "2019     84517\n",
      "2021     80485\n",
      "2020     56361\n",
      "2024     12533\n",
      "Name: season, dtype: int64\n"
     ]
    },
    {
     "data": {
      "image/png": "[encoded data removed]",
      "text/plain": [
       "<Figure size 1440x432 with 1 Axes>"
      ]
     },
     "metadata": {
      "needs_background": "light"
     },
     "output_type": "display_data"
    }
   ],
   "source": [
    "season_counts = merged_pbp_df['season'].value_counts().sort_values(ascending=False)\n",
    "\n",
    "print(season_counts)\n",
    "\n",
    "plt.figure(figsize=(20, 6))\n",
    "season_counts.plot(kind='bar')\n",
    "plt.title('Season Frequency')\n",
    "plt.xlabel('Season')\n",
    "plt.ylabel('Count')\n",
    "plt.show()"
   ]
  },
  {
   "cell_type": "code",
   "execution_count": 9,
   "metadata": {},
   "outputs": [
    {
     "data": {
      "text/html": [
       "<div>\n",
       "<style scoped>\n",
       "    .dataframe tbody tr th:only-of-type {\n",
       "        vertical-align: middle;\n",
       "    }\n",
       "\n",
       "    .dataframe tbody tr th {\n",
       "        vertical-align: top;\n",
       "    }\n",
       "\n",
       "    .dataframe thead th {\n",
       "        text-align: right;\n",
       "    }\n",
       "</style>\n",
       "<table border=\"1\" class=\"dataframe\">\n",
       "  <thead>\n",
       "    <tr style=\"text-align: right;\">\n",
       "      <th></th>\n",
       "      <th>game_id</th>\n",
       "    </tr>\n",
       "  </thead>\n",
       "  <tbody>\n",
       "    <tr>\n",
       "      <th>0</th>\n",
       "      <td>401079695</td>\n",
       "    </tr>\n",
       "    <tr>\n",
       "      <th>357</th>\n",
       "      <td>401079694</td>\n",
       "    </tr>\n",
       "    <tr>\n",
       "      <th>732</th>\n",
       "      <td>401079693</td>\n",
       "    </tr>\n",
       "    <tr>\n",
       "      <th>1055</th>\n",
       "      <td>401074465</td>\n",
       "    </tr>\n",
       "    <tr>\n",
       "      <th>1426</th>\n",
       "      <td>401074464</td>\n",
       "    </tr>\n",
       "    <tr>\n",
       "      <th>...</th>\n",
       "      <td>...</td>\n",
       "    </tr>\n",
       "    <tr>\n",
       "      <th>512040</th>\n",
       "      <td>401620223</td>\n",
       "    </tr>\n",
       "    <tr>\n",
       "      <th>512452</th>\n",
       "      <td>401620178</td>\n",
       "    </tr>\n",
       "    <tr>\n",
       "      <th>512860</th>\n",
       "      <td>401620219</td>\n",
       "    </tr>\n",
       "    <tr>\n",
       "      <th>513249</th>\n",
       "      <td>401620220</td>\n",
       "    </tr>\n",
       "    <tr>\n",
       "      <th>513656</th>\n",
       "      <td>401620221</td>\n",
       "    </tr>\n",
       "  </tbody>\n",
       "</table>\n",
       "<p>1329 rows × 1 columns</p>\n",
       "</div>"
      ],
      "text/plain": [
       "          game_id\n",
       "0       401079695\n",
       "357     401079694\n",
       "732     401079693\n",
       "1055    401074465\n",
       "1426    401074464\n",
       "...           ...\n",
       "512040  401620223\n",
       "512452  401620178\n",
       "512860  401620219\n",
       "513249  401620220\n",
       "513656  401620221\n",
       "\n",
       "[1329 rows x 1 columns]"
      ]
     },
     "execution_count": 9,
     "metadata": {},
     "output_type": "execute_result"
    }
   ],
   "source": [
    "game_df = merged_pbp_df[['game_id']]\n",
    "game_df = game_df.drop_duplicates(subset=['game_id'])\n",
    "game_df"
   ]
  },
  {
   "cell_type": "code",
   "execution_count": 10,
   "metadata": {},
   "outputs": [
    {
     "name": "stdout",
     "output_type": "stream",
     "text": [
      "True    514064\n",
      "Name: home_favorite, dtype: int64\n"
     ]
    }
   ],
   "source": [
    "home_fave_counts = merged_pbp_df['home_favorite'].value_counts().sort_values(ascending=False)\n",
    "\n",
    "print(home_fave_counts)"
   ]
  },
  {
   "cell_type": "code",
   "execution_count": 11,
   "metadata": {},
   "outputs": [
    {
     "name": "stdout",
     "output_type": "stream",
     "text": [
      "2.5    514064\n",
      "Name: home_team_spread, dtype: int64\n"
     ]
    }
   ],
   "source": [
    "home_team_spread_counts = merged_pbp_df['home_team_spread'].value_counts().sort_values(ascending=False)\n",
    "\n",
    "print(home_team_spread_counts)"
   ]
  },
  {
   "cell_type": "code",
   "execution_count": 12,
   "metadata": {},
   "outputs": [
    {
     "name": "stdout",
     "output_type": "stream",
     "text": [
      "2.5    514064\n",
      "Name: game_spread, dtype: int64\n"
     ]
    }
   ],
   "source": [
    "game_spread_counts = merged_pbp_df['game_spread'].value_counts().sort_values(ascending=False)\n",
    "\n",
    "print(game_spread_counts)"
   ]
  },
  {
   "cell_type": "code",
   "execution_count": 13,
   "metadata": {},
   "outputs": [
    {
     "name": "stdout",
     "output_type": "stream",
     "text": [
      "False    514064\n",
      "Name: game_spread_available, dtype: int64\n"
     ]
    }
   ],
   "source": [
    "game_spread_available_counts = merged_pbp_df['game_spread_available'].value_counts().sort_values(ascending=False)\n",
    "\n",
    "print(game_spread_available_counts)"
   ]
  },
  {
   "cell_type": "code",
   "execution_count": 14,
   "metadata": {},
   "outputs": [
    {
     "name": "stdout",
     "output_type": "stream",
     "text": [
      "Series([], Name: type_abbreviation, dtype: int64)\n"
     ]
    }
   ],
   "source": [
    "type_abbreviation_counts = merged_pbp_df['type_abbreviation'].value_counts()\n",
    "\n",
    "print(type_abbreviation_counts)"
   ]
  },
  {
   "cell_type": "markdown",
   "metadata": {},
   "source": [
    "# Removing Columns That Aren't Useful"
   ]
  },
  {
   "cell_type": "code",
   "execution_count": 15,
   "metadata": {},
   "outputs": [
    {
     "data": {
      "text/plain": [
       "(514064, 65)"
      ]
     },
     "execution_count": 15,
     "metadata": {},
     "output_type": "execute_result"
    }
   ],
   "source": [
    "merged_pbp_df.shape"
   ]
  },
  {
   "cell_type": "code",
   "execution_count": 16,
   "metadata": {},
   "outputs": [],
   "source": [
    "merged_pbp_df = merged_pbp_df.drop(columns=['home_favorite', 'home_team_spread', 'game_spread', 'game_spread_available', 'type_abbreviation'])"
   ]
  },
  {
   "cell_type": "code",
   "execution_count": 17,
   "metadata": {},
   "outputs": [
    {
     "data": {
      "text/plain": [
       "(514064, 60)"
      ]
     },
     "execution_count": 17,
     "metadata": {},
     "output_type": "execute_result"
    }
   ],
   "source": [
    "merged_pbp_df.shape"
   ]
  },
  {
   "cell_type": "markdown",
   "metadata": {},
   "source": [
    "# Looking at Clutch Time Shots (min. 50 shots attempted)\n",
    "\n",
    "## Clutch Time = Less than 5 minutes left in game"
   ]
  },
  {
   "cell_type": "code",
   "execution_count": 18,
   "metadata": {},
   "outputs": [],
   "source": [
    "clutch_time_df = merged_pbp_df[merged_pbp_df['end_game_seconds_remaining'] < 300]\n",
    "clutch_time_df = clutch_time_df[clutch_time_df['shooting_play'] == True]\n",
    "clutch_time_df = clutch_time_df[clutch_time_df['type_text'].str.contains('shot', case=False)]"
   ]
  },
  {
   "cell_type": "code",
   "execution_count": 19,
   "metadata": {},
   "outputs": [
    {
     "data": {
      "text/plain": [
       "Jump Shot                             8114\n",
       "Pullup Jump Shot                      2440\n",
       "Driving Layup Shot                    2254\n",
       "Layup Shot                            1916\n",
       "Cutting Layup Shot                     917\n",
       "Layup Shot Putback                     672\n",
       "Running Layup Shot                     586\n",
       "Step Back Jump Shot                    558\n",
       "Turnaround Jump Shot                   557\n",
       "Three Point Jump Shot                  457\n",
       "Driving Floating Jump Shot             436\n",
       "JumpShot                               316\n",
       "Floating Jump Shot                     249\n",
       "Fade Away Jump Shot                    234\n",
       "Running Jump Shot                      195\n",
       "Driving Lay Up Shot                    172\n",
       "LayUpShot                              165\n",
       "Turnaround Fade Away Jump Shot         151\n",
       "Hook Shot                              146\n",
       "Running Pullup Jump Shot               142\n",
       "Reverse Layup Shot                     130\n",
       "Turnaround Hook Shot                   126\n",
       "Tip Shot                               113\n",
       "Driving Floating Bank Jump Shot         94\n",
       "Jump Shot Bank                          91\n",
       "Driving Hook Shot                       66\n",
       "Driving Jump Shot Bank                  63\n",
       "Turnaround Bank Jump Shot               41\n",
       "Pullup Bank Jump Shot                   37\n",
       "Alley Oop Layup Shot                    36\n",
       "Cutting Finger Roll Layup Shot          35\n",
       "RunningLayupShot                        32\n",
       "Fade Away Jumper shot                   19\n",
       "ReverseLayupShot                        18\n",
       "Fade Away Bank Jump Shot                12\n",
       "Turnaround Fadeaway Bank Jump Shot       7\n",
       "Hook Shot Bank                           7\n",
       "Running Alley Oop Layup Shot             5\n",
       "Step Back Bank Jump Shot                 5\n",
       "No Shot (Default Shot)                   5\n",
       "Tip Layup Shot                           4\n",
       "Layup Shot Finger Roll                   2\n",
       "No Shot                                  1\n",
       "NoShot                                   1\n",
       "Driving Dunk Shot                        1\n",
       "Dunk Shot                                1\n",
       "Name: type_text, dtype: int64"
      ]
     },
     "execution_count": 19,
     "metadata": {},
     "output_type": "execute_result"
    }
   ],
   "source": [
    "clutch_time_df['type_text'].value_counts()"
   ]
  },
  {
   "cell_type": "code",
   "execution_count": 20,
   "metadata": {},
   "outputs": [],
   "source": [
    "clutch_time_df = clutch_time_df[['athlete_id_1', 'scoring_play']]"
   ]
  },
  {
   "cell_type": "code",
   "execution_count": 21,
   "metadata": {},
   "outputs": [
    {
     "name": "stdout",
     "output_type": "stream",
     "text": [
      "False    12612\n",
      "True      9017\n",
      "Name: scoring_play, dtype: int64\n"
     ]
    }
   ],
   "source": [
    "clutch_score_made_counts = clutch_time_df['scoring_play'].value_counts().sort_values(ascending=False)\n",
    "\n",
    "print(clutch_score_made_counts)"
   ]
  },
  {
   "cell_type": "code",
   "execution_count": 22,
   "metadata": {},
   "outputs": [
    {
     "name": "stdout",
     "output_type": "stream",
     "text": [
      "3904577.0    484\n",
      "2987869.0    422\n",
      "2998928.0    388\n",
      "869.0        369\n",
      "2987891.0    362\n",
      "            ... \n",
      "3054119.0      1\n",
      "5105752.0      1\n",
      "5209660.0      1\n",
      "4398907.0      1\n",
      "4433661.0      1\n",
      "Name: athlete_id_1, Length: 317, dtype: int64\n"
     ]
    }
   ],
   "source": [
    "clutch_player_counts = clutch_time_df['athlete_id_1'].value_counts().sort_values(ascending=False)\n",
    "\n",
    "print(clutch_player_counts)"
   ]
  },
  {
   "cell_type": "code",
   "execution_count": 23,
   "metadata": {},
   "outputs": [],
   "source": [
    "counts = clutch_time_df['athlete_id_1'].value_counts()\n",
    "clutch_time_df = clutch_time_df[clutch_time_df['athlete_id_1'].isin(counts[counts > 50].index)]"
   ]
  },
  {
   "cell_type": "code",
   "execution_count": 24,
   "metadata": {},
   "outputs": [
    {
     "name": "stdout",
     "output_type": "stream",
     "text": [
      "3904577.0    484\n",
      "2987869.0    422\n",
      "2998928.0    388\n",
      "869.0        369\n",
      "2987891.0    362\n",
      "            ... \n",
      "882.0         53\n",
      "4065850.0     51\n",
      "819.0         51\n",
      "2590092.0     51\n",
      "4068161.0     51\n",
      "Name: athlete_id_1, Length: 132, dtype: int64\n"
     ]
    }
   ],
   "source": [
    "clutch_player_counts = clutch_time_df['athlete_id_1'].value_counts().sort_values(ascending=False)\n",
    "\n",
    "print(clutch_player_counts)"
   ]
  },
  {
   "cell_type": "code",
   "execution_count": 25,
   "metadata": {},
   "outputs": [
    {
     "name": "stdout",
     "output_type": "stream",
     "text": [
      "athlete_id_1\n",
      "3904577.0    182\n",
      "2998928.0    174\n",
      "2529122.0    159\n",
      "3149391.0    152\n",
      "2987869.0    151\n",
      "2987891.0    147\n",
      "3142191.0    145\n",
      "869.0        143\n",
      "3065570.0    137\n",
      "2490553.0    112\n",
      "Name: scoring_play, dtype: int64\n"
     ]
    }
   ],
   "source": [
    "true_counts = clutch_time_df.groupby('athlete_id_1')['scoring_play'].sum()\n",
    "top_10_numbers = true_counts.sort_values(ascending=False).head(10)\n",
    "print(top_10_numbers)"
   ]
  },
  {
   "cell_type": "code",
   "execution_count": 26,
   "metadata": {},
   "outputs": [
    {
     "name": "stdout",
     "output_type": "stream",
     "text": [
      "athlete_id_1\n",
      "3904577.0    302\n",
      "2987869.0    271\n",
      "869.0        226\n",
      "3142191.0    215\n",
      "2987891.0    215\n",
      "2998928.0    214\n",
      "3149391.0    172\n",
      "2529122.0    171\n",
      "3146151.0    168\n",
      "3065570.0    168\n",
      "dtype: int64\n"
     ]
    }
   ],
   "source": [
    "total_counts = clutch_time_df.groupby('athlete_id_1').size()\n",
    "true_counts = clutch_time_df.groupby('athlete_id_1')['scoring_play'].sum()\n",
    "false_counts = total_counts - true_counts\n",
    "top_10_numbers = false_counts.sort_values(ascending=False).head(10)\n",
    "print(top_10_numbers)"
   ]
  },
  {
   "cell_type": "markdown",
   "metadata": {},
   "source": [
    "# Drawing Shot Chart on Court Map"
   ]
  },
  {
   "cell_type": "code",
   "execution_count": 27,
   "metadata": {},
   "outputs": [
    {
     "data": {
      "text/plain": [
       "<AxesSubplot:>"
      ]
     },
     "execution_count": 27,
     "metadata": {},
     "output_type": "execute_result"
    },
    {
     "data": {
      "image/png": "[encoded data removed]",
      "text/plain": [
       "<Figure size 432x288 with 1 Axes>"
      ]
     },
     "metadata": {
      "needs_background": "light"
     },
     "output_type": "display_data"
    }
   ],
   "source": [
    "WNBACourt().draw()"
   ]
  },
  {
   "cell_type": "code",
   "execution_count": null,
   "metadata": {},
   "outputs": [],
   "source": []
  }
 ],
 "metadata": {
  "hide_input": false,
  "kernelspec": {
   "display_name": "Python 3 (ipykernel)",
   "language": "python",
   "name": "python3"
  },
  "language_info": {
   "codemirror_mode": {
    "name": "ipython",
    "version": 3
   },
   "file_extension": ".py",
   "mimetype": "text/x-python",
   "name": "python",
   "nbconvert_exporter": "python",
   "pygments_lexer": "ipython3",
   "version": "3.9.7"
  }
 },
 "nbformat": 4,
 "nbformat_minor": 4
}
