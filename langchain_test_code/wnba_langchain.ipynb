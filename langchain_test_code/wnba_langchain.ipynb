{
 "cells": [
  {
   "cell_type": "code",
   "execution_count": 4,
   "id": "a0153bc8-65cd-4367-a696-cba3ec9b15a5",
   "metadata": {},
   "outputs": [
    {
     "name": "stderr",
     "output_type": "stream",
     "text": [
      "/var/folders/1c/ybx_8cds1ybgdg3z19ptmmk00000gn/T/ipykernel_56807/1075996143.py:33: SADeprecationWarning: The dbapi() classmethod on dialect classes has been renamed to import_dbapi().  Implement an import_dbapi() classmethod directly on class <class 'pyathena.sqlalchemy.rest.AthenaRestDialect'> to remove this warning; the old .dbapi() classmethod may be maintained for backwards compatibility.\n",
      "  engine = create_engine(connect_str.format(\n"
     ]
    },
    {
     "name": "stdin",
     "output_type": "stream",
     "text": [
      ">>>  Who played the most games in 2021?\n"
     ]
    },
    {
     "name": "stdout",
     "output_type": "stream",
     "text": [
      "loading response\n",
      "The players who played the most games in 2021 are:\n",
      "\n",
      "1. Skylar Diggins-Smith with 44 games\n",
      "2. Shey Peddy with 43 games\n",
      "3. Megan Walker with 43 games\n",
      "4. Kahleah Copper with 43 games\n",
      "5. Courtney Vandersloot with 43 games\n"
     ]
    },
    {
     "name": "stdin",
     "output_type": "stream",
     "text": [
      ">>>  Among these players, who scored the most?\n"
     ]
    },
    {
     "name": "stdout",
     "output_type": "stream",
     "text": [
      "loading response\n",
      "Among these players, the one who scored the most in 2021 is:\n",
      "\n",
      "1. Skylar Diggins-Smith with 577 points\n",
      "2. Kahleah Copper with 545 points\n",
      "3. Courtney Vandersloot with 444 points\n",
      "4. Shey Peddy with 129 points\n",
      "5. Megan Walker with 96 points\n"
     ]
    },
    {
     "name": "stdin",
     "output_type": "stream",
     "text": [
      ">>>  bye\n"
     ]
    }
   ],
   "source": [
    "import requests\n",
    "from sqlalchemy import create_engine\n",
    "from urllib.parse import quote_plus\n",
    "from langchain.globals import set_debug\n",
    "from langchain_community.utilities import SQLDatabase\n",
    "from langchain_openai import ChatOpenAI\n",
    "from langchain_core.prompts import ChatPromptTemplate\n",
    "from langchain_core.prompts import MessagesPlaceholder\n",
    "from langchain_core.messages import AIMessage, HumanMessage\n",
    "from langchain.agents.format_scratchpad.openai_tools import (\n",
    "    format_to_openai_tool_messages,\n",
    ")\n",
    "from langchain.agents.output_parsers.openai_tools import OpenAIToolsAgentOutputParser\n",
    "from langchain.agents import tool\n",
    "from langchain.agents import AgentExecutor\n",
    "import boto3\n",
    "from langchain_community.chat_message_histories import (\n",
    "    DynamoDBChatMessageHistory,\n",
    ")\n",
    "\n",
    "from langchain_community.agent_toolkits import SQLDatabaseToolkit\n",
    "import os\n",
    "\n",
    "# Get the service resource.\n",
    "dynamodb = boto3.resource(\"dynamodb\")\n",
    "\n",
    "AWS_REGION = \"us-east-1\" # Change me\n",
    "SCHEMA_NAME = \"wnba_db\" # Athena calls this a database\n",
    "S3_STAGING_DIR = \"s3://wnbadata/\" # Change me\n",
    "\n",
    "connect_str = \"awsathena+rest://athena.{region_name}.amazonaws.com:443/{schema_name}?s3_staging_dir={s3_staging_dir}\"\n",
    "\n",
    "engine = create_engine(connect_str.format(\n",
    "        region_name=AWS_REGION,\n",
    "        schema_name=SCHEMA_NAME,\n",
    "        s3_staging_dir=quote_plus(S3_STAGING_DIR)\n",
    "))\n",
    "\n",
    "db = SQLDatabase(engine, ignore_tables = [\"wnba_player_box_new\"])\n",
    "#db = SQLDatabase(engine)\n",
    "schema = db.get_table_info()\n",
    "\n",
    "os.environ[\"OPENAI_API_KEY\"] = \"sk-proj-Jz56EPt2tMFrDJtB1Q2dT3BlbkFJBOkimFUK14hExlzvsvJF\"\n",
    "\n",
    "llm = ChatOpenAI( model_name= \"gpt-4\", temperature= 0)\n",
    "\n",
    "toolkit = SQLDatabaseToolkit(db=db, llm=llm)\n",
    "\n",
    "tools = toolkit.get_tools()\n",
    "\n",
    "\n",
    "llm_with_tools = llm.bind_tools(tools)\n",
    "\n",
    "prompt = ChatPromptTemplate.from_messages([\n",
    "    (\n",
    "        \"system\",\n",
    "        \"\"\"You are an agent designed to interact with a SQL database.\n",
    "        Given an input question, create a syntactically correct SQLite query to run, then look at the results of the query and return the answer.\n",
    "        Unless the user specifies a specific number of examples they wish to obtain, always limit your query to at most 5 results.\n",
    "        You can order the results by a relevant column to return the most interesting examples in the database.\n",
    "        Never query for all the columns from a specific table, only ask for the relevant columns given the question.\n",
    "        You have access to tools for interacting with the database.\n",
    "        Only use the below tools. Only use the information returned by the below tools to construct your final answer.\n",
    "        You MUST double check your query before executing it. If you get an error while executing a query, rewrite the query and try again.\n",
    "        \n",
    "        DO NOT make any DML statements (INSERT, UPDATE, DELETE, DROP etc.) to the database.\n",
    "        \n",
    "        To start you should ALWAYS look at the tables in the database to see what you can query.\n",
    "        Do NOT skip this step.\n",
    "        Then you should query the schema of the most relevant tables.\"\"\",\n",
    "    ),\n",
    "    MessagesPlaceholder(variable_name=\"chat_history\"),\n",
    "    (\"user\", \"{input}\"),\n",
    "    MessagesPlaceholder(variable_name=\"agent_scratchpad\"),\n",
    "])\n",
    "\n",
    "agent = (\n",
    "    {\n",
    "        \"input\": lambda x: x[\"input\"],\n",
    "        \"agent_scratchpad\": lambda x: format_to_openai_tool_messages(\n",
    "            x[\"intermediate_steps\"]\n",
    "        ),\n",
    "        \"chat_history\": lambda x: x[\"chat_history\"],\n",
    "    }\n",
    "    | prompt\n",
    "    | llm_with_tools\n",
    "    | OpenAIToolsAgentOutputParser()\n",
    ")\n",
    "agent_executor = AgentExecutor(agent = agent, tools = tools, verbose = False, return_intermediate_steps = True)\n",
    "\n",
    "#chat_history = []\n",
    "\n",
    "my_key = {\n",
    "    \"SessionId\": \"session_id::0\",\n",
    "    \"UserID\": \"0001\",\n",
    "}\n",
    "\n",
    "chat_history = DynamoDBChatMessageHistory(\n",
    "    table_name=\"Chat_Table\",\n",
    "    session_id=\"0\",\n",
    "    key=my_key,\n",
    ")\n",
    "\n",
    "input_text = input('>>> ')\n",
    "while input_text.lower() != 'bye':\n",
    "    if input_text:\n",
    "        print(\"loading response\")\n",
    "        response = agent_executor.invoke({\n",
    "            'input': input_text,\n",
    "            'chat_history': chat_history.messages,\n",
    "        })\n",
    "        chat_history.add_user_message(input_text)\n",
    "        chat_history.add_ai_message(response[\"output\"])\n",
    "        '''\n",
    "        chat_history.extend([\n",
    "            HumanMessage(content=input_text),\n",
    "            AIMessage(content=response[\"output\"]),\n",
    "        ])\n",
    "        '''\n",
    "        print(response['output'])\n",
    "    input_text = input('>>> ')"
   ]
  },
  {
   "cell_type": "code",
   "execution_count": null,
   "id": "0358fd77-e69b-4367-ba12-6090821878cc",
   "metadata": {},
   "outputs": [],
   "source": []
  }
 ],
 "metadata": {
  "kernelspec": {
   "display_name": "Python 3 (ipykernel)",
   "language": "python",
   "name": "python3"
  },
  "language_info": {
   "codemirror_mode": {
    "name": "ipython",
    "version": 3
   },
   "file_extension": ".py",
   "mimetype": "text/x-python",
   "name": "python",
   "nbconvert_exporter": "python",
   "pygments_lexer": "ipython3",
   "version": "3.11.9"
  }
 },
 "nbformat": 4,
 "nbformat_minor": 5
}
