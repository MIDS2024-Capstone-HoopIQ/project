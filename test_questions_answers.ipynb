{
 "cells": [
  {
   "cell_type": "code",
   "execution_count": 1,
   "metadata": {},
   "outputs": [],
   "source": [
    "import matplotlib.pyplot as plt\n",
    "import numpy as np\n",
    "import pandas as pd"
   ]
  },
  {
   "cell_type": "code",
   "execution_count": 2,
   "metadata": {},
   "outputs": [],
   "source": [
    "player_info_df = pd.read_csv('data/player_info.csv')\n",
    "\n",
    "pbp_2018_df = pd.read_csv('data/wnba_pbp_2018.csv')\n",
    "pbp_2019_df = pd.read_csv('data/wnba_pbp_2019.csv')\n",
    "pbp_2020_df = pd.read_csv('data/wnba_pbp_2020.csv')\n",
    "pbp_2021_df = pd.read_csv('data/wnba_pbp_2021.csv')\n",
    "pbp_2022_df = pd.read_csv('data/wnba_pbp_2022.csv')\n",
    "pbp_2023_df = pd.read_csv('data/wnba_pbp_2023.csv')\n",
    "pbp_2024_df = pd.read_csv('data/wnba_pbp_2024.csv')\n",
    "\n",
    "player_box_2018_df = pd.read_csv('data/wnba_player_box_2018.csv')\n",
    "player_box_2019_df = pd.read_csv('data/wnba_player_box_2019.csv')\n",
    "player_box_2020_df = pd.read_csv('data/wnba_player_box_2020.csv')\n",
    "player_box_2021_df = pd.read_csv('data/wnba_player_box_2021.csv')\n",
    "player_box_2022_df = pd.read_csv('data/wnba_player_box_2022.csv')\n",
    "player_box_2023_df = pd.read_csv('data/wnba_player_box_2023.csv')\n",
    "player_box_2024_df = pd.read_csv('data/wnba_player_box_2024.csv')\n",
    "\n",
    "schedule_2018_df = pd.read_csv('data/wnba_schedule_2018.csv')\n",
    "schedule_2019_df = pd.read_csv('data/wnba_schedule_2019.csv')\n",
    "schedule_2020_df = pd.read_csv('data/wnba_schedule_2020.csv')\n",
    "schedule_2021_df = pd.read_csv('data/wnba_schedule_2021.csv')\n",
    "schedule_2022_df = pd.read_csv('data/wnba_schedule_2022.csv')\n",
    "schedule_2023_df = pd.read_csv('data/wnba_schedule_2023.csv')\n",
    "schedule_2024_df = pd.read_csv('data/wnba_schedule_2024.csv')\n",
    "\n",
    "team_box_2018_df = pd.read_csv('data/wnba_team_box_2018.csv')\n",
    "team_box_2019_df = pd.read_csv('data/wnba_team_box_2019.csv')\n",
    "team_box_2020_df = pd.read_csv('data/wnba_team_box_2020.csv')\n",
    "team_box_2021_df = pd.read_csv('data/wnba_team_box_2021.csv')\n",
    "team_box_2022_df = pd.read_csv('data/wnba_team_box_2022.csv')\n",
    "team_box_2023_df = pd.read_csv('data/wnba_team_box_2023.csv')\n",
    "team_box_2024_df = pd.read_csv('data/wnba_team_box_2024.csv')"
   ]
  },
  {
   "cell_type": "markdown",
   "metadata": {},
   "source": [
    "# 1. Which player scored the most points in a single game between 2018 and 2024?"
   ]
  },
  {
   "cell_type": "code",
   "execution_count": 3,
   "metadata": {},
   "outputs": [],
   "source": [
    "question_1_df_2018 = player_box_2018_df[['athlete_display_name', 'points']]\n",
    "question_1_df_2019 = player_box_2019_df[['athlete_display_name', 'points']]\n",
    "question_1_df_2020 = player_box_2020_df[['athlete_display_name', 'points']]\n",
    "question_1_df_2021 = player_box_2021_df[['athlete_display_name', 'points']]\n",
    "question_1_df_2022 = player_box_2022_df[['athlete_display_name', 'points']]\n",
    "question_1_df_2023 = player_box_2023_df[['athlete_display_name', 'points']]\n",
    "question_1_df_2024 = player_box_2024_df[['athlete_display_name', 'points']]\n",
    "\n",
    "question_1_df = pd.concat([question_1_df_2018, question_1_df_2019, question_1_df_2020, \n",
    "                           question_1_df_2021, question_1_df_2022, question_1_df_2023,\n",
    "                           question_1_df_2024], ignore_index=True)"
   ]
  },
  {
   "cell_type": "code",
   "execution_count": 4,
   "metadata": {},
   "outputs": [],
   "source": [
    "question_1_df = question_1_df.groupby('athlete_display_name', as_index=False)['points'].max()"
   ]
  },
  {
   "cell_type": "code",
   "execution_count": 5,
   "metadata": {},
   "outputs": [],
   "source": [
    "question_1_df = question_1_df.sort_values(by='points', ascending=False)"
   ]
  },
  {
   "cell_type": "code",
   "execution_count": 6,
   "metadata": {},
   "outputs": [
    {
     "data": {
      "text/html": [
       "<div>\n",
       "<style scoped>\n",
       "    .dataframe tbody tr th:only-of-type {\n",
       "        vertical-align: middle;\n",
       "    }\n",
       "\n",
       "    .dataframe tbody tr th {\n",
       "        vertical-align: top;\n",
       "    }\n",
       "\n",
       "    .dataframe thead th {\n",
       "        text-align: right;\n",
       "    }\n",
       "</style>\n",
       "<table border=\"1\" class=\"dataframe\">\n",
       "  <thead>\n",
       "    <tr style=\"text-align: right;\">\n",
       "      <th></th>\n",
       "      <th>athlete_display_name</th>\n",
       "      <th>points</th>\n",
       "    </tr>\n",
       "  </thead>\n",
       "  <tbody>\n",
       "    <tr>\n",
       "      <th>0</th>\n",
       "      <td>A'ja Wilson</td>\n",
       "      <td>53.0</td>\n",
       "    </tr>\n",
       "    <tr>\n",
       "      <th>219</th>\n",
       "      <td>Liz Cambage</td>\n",
       "      <td>53.0</td>\n",
       "    </tr>\n",
       "    <tr>\n",
       "      <th>51</th>\n",
       "      <td>Breanna Stewart</td>\n",
       "      <td>45.0</td>\n",
       "    </tr>\n",
       "    <tr>\n",
       "      <th>280</th>\n",
       "      <td>Rhyne Howard</td>\n",
       "      <td>43.0</td>\n",
       "    </tr>\n",
       "    <tr>\n",
       "      <th>105</th>\n",
       "      <td>Diana Taurasi</td>\n",
       "      <td>42.0</td>\n",
       "    </tr>\n",
       "  </tbody>\n",
       "</table>\n",
       "</div>"
      ],
      "text/plain": [
       "    athlete_display_name  points\n",
       "0            A'ja Wilson    53.0\n",
       "219          Liz Cambage    53.0\n",
       "51       Breanna Stewart    45.0\n",
       "280         Rhyne Howard    43.0\n",
       "105        Diana Taurasi    42.0"
      ]
     },
     "execution_count": 6,
     "metadata": {},
     "output_type": "execute_result"
    }
   ],
   "source": [
    "question_1_df.head()"
   ]
  },
  {
   "cell_type": "markdown",
   "metadata": {},
   "source": [
    "# 2. Which team had the highest average points per game in the 2021 season?"
   ]
  },
  {
   "cell_type": "code",
   "execution_count": 7,
   "metadata": {},
   "outputs": [],
   "source": [
    "question_2_df = team_box_2021_df[['team_display_name', 'team_score']]"
   ]
  },
  {
   "cell_type": "code",
   "execution_count": 8,
   "metadata": {},
   "outputs": [],
   "source": [
    "question_2_df = question_2_df.groupby('team_display_name', as_index=False)['team_score'].mean()"
   ]
  },
  {
   "cell_type": "code",
   "execution_count": 9,
   "metadata": {},
   "outputs": [],
   "source": [
    "question_2_df = question_2_df.sort_values(by='team_score', ascending=False)"
   ]
  },
  {
   "cell_type": "code",
   "execution_count": 10,
   "metadata": {},
   "outputs": [],
   "source": [
    "question_2_df = question_2_df[question_2_df['team_display_name'] != 'Team WNBA']\n",
    "question_2_df = question_2_df[question_2_df['team_display_name'] != 'Team Usa']"
   ]
  },
  {
   "cell_type": "code",
   "execution_count": 11,
   "metadata": {},
   "outputs": [
    {
     "data": {
      "text/html": [
       "<div>\n",
       "<style scoped>\n",
       "    .dataframe tbody tr th:only-of-type {\n",
       "        vertical-align: middle;\n",
       "    }\n",
       "\n",
       "    .dataframe tbody tr th {\n",
       "        vertical-align: top;\n",
       "    }\n",
       "\n",
       "    .dataframe thead th {\n",
       "        text-align: right;\n",
       "    }\n",
       "</style>\n",
       "<table border=\"1\" class=\"dataframe\">\n",
       "  <thead>\n",
       "    <tr style=\"text-align: right;\">\n",
       "      <th></th>\n",
       "      <th>team_display_name</th>\n",
       "      <th>team_score</th>\n",
       "    </tr>\n",
       "  </thead>\n",
       "  <tbody>\n",
       "    <tr>\n",
       "      <th>5</th>\n",
       "      <td>Las Vegas Aces</td>\n",
       "      <td>88.648649</td>\n",
       "    </tr>\n",
       "    <tr>\n",
       "      <th>10</th>\n",
       "      <td>Seattle Storm</td>\n",
       "      <td>84.500000</td>\n",
       "    </tr>\n",
       "    <tr>\n",
       "      <th>1</th>\n",
       "      <td>Chicago Sky</td>\n",
       "      <td>83.595238</td>\n",
       "    </tr>\n",
       "    <tr>\n",
       "      <th>7</th>\n",
       "      <td>Minnesota Lynx</td>\n",
       "      <td>82.515152</td>\n",
       "    </tr>\n",
       "    <tr>\n",
       "      <th>9</th>\n",
       "      <td>Phoenix Mercury</td>\n",
       "      <td>82.395349</td>\n",
       "    </tr>\n",
       "  </tbody>\n",
       "</table>\n",
       "</div>"
      ],
      "text/plain": [
       "   team_display_name  team_score\n",
       "5     Las Vegas Aces   88.648649\n",
       "10     Seattle Storm   84.500000\n",
       "1        Chicago Sky   83.595238\n",
       "7     Minnesota Lynx   82.515152\n",
       "9    Phoenix Mercury   82.395349"
      ]
     },
     "execution_count": 11,
     "metadata": {},
     "output_type": "execute_result"
    }
   ],
   "source": [
    "question_2_df.head()"
   ]
  },
  {
   "cell_type": "markdown",
   "metadata": {},
   "source": [
    "# 3. How many games ended in overtime during the 2023 season?"
   ]
  },
  {
   "cell_type": "code",
   "execution_count": 12,
   "metadata": {},
   "outputs": [],
   "source": [
    "question_3_df = pbp_2023_df[['game_id', 'qtr']]"
   ]
  },
  {
   "cell_type": "code",
   "execution_count": 13,
   "metadata": {},
   "outputs": [],
   "source": [
    "question_3_df = question_3_df[question_3_df['qtr'] == 5]"
   ]
  },
  {
   "cell_type": "code",
   "execution_count": 14,
   "metadata": {},
   "outputs": [],
   "source": [
    "question_3_df = question_3_df.drop_duplicates(subset='game_id')"
   ]
  },
  {
   "cell_type": "code",
   "execution_count": 15,
   "metadata": {},
   "outputs": [
    {
     "data": {
      "text/plain": [
       "11"
      ]
     },
     "execution_count": 15,
     "metadata": {},
     "output_type": "execute_result"
    }
   ],
   "source": [
    "question_3_df.shape[0]"
   ]
  },
  {
   "cell_type": "markdown",
   "metadata": {},
   "source": [
    "# 4. Which player had the highest free throw percentage in the 2020 season (min. 25 FT’s attempted)?"
   ]
  },
  {
   "cell_type": "code",
   "execution_count": 16,
   "metadata": {},
   "outputs": [],
   "source": [
    "question_4_df = player_box_2020_df[['athlete_display_name', 'free_throws_made', 'free_throws_attempted']]"
   ]
  },
  {
   "cell_type": "code",
   "execution_count": 17,
   "metadata": {},
   "outputs": [],
   "source": [
    "question_4_df = question_4_df.groupby('athlete_display_name', as_index=False).sum()"
   ]
  },
  {
   "cell_type": "code",
   "execution_count": 18,
   "metadata": {},
   "outputs": [],
   "source": [
    "question_4_df = question_4_df[question_4_df['free_throws_attempted'] >= 25.0]"
   ]
  },
  {
   "cell_type": "code",
   "execution_count": 19,
   "metadata": {},
   "outputs": [],
   "source": [
    "question_4_df['free_throws_percentage'] = question_4_df['free_throws_made'] / question_4_df['free_throws_attempted']"
   ]
  },
  {
   "cell_type": "code",
   "execution_count": 20,
   "metadata": {},
   "outputs": [],
   "source": [
    "question_4_df = question_4_df.drop(columns=['free_throws_made', 'free_throws_attempted'])"
   ]
  },
  {
   "cell_type": "code",
   "execution_count": 21,
   "metadata": {},
   "outputs": [],
   "source": [
    "question_4_df = question_4_df.sort_values(by='free_throws_percentage', ascending=False)"
   ]
  },
  {
   "cell_type": "code",
   "execution_count": 22,
   "metadata": {},
   "outputs": [
    {
     "data": {
      "text/html": [
       "<div>\n",
       "<style scoped>\n",
       "    .dataframe tbody tr th:only-of-type {\n",
       "        vertical-align: middle;\n",
       "    }\n",
       "\n",
       "    .dataframe tbody tr th {\n",
       "        vertical-align: top;\n",
       "    }\n",
       "\n",
       "    .dataframe thead th {\n",
       "        text-align: right;\n",
       "    }\n",
       "</style>\n",
       "<table border=\"1\" class=\"dataframe\">\n",
       "  <thead>\n",
       "    <tr style=\"text-align: right;\">\n",
       "      <th></th>\n",
       "      <th>athlete_display_name</th>\n",
       "      <th>free_throws_percentage</th>\n",
       "    </tr>\n",
       "  </thead>\n",
       "  <tbody>\n",
       "    <tr>\n",
       "      <th>149</th>\n",
       "      <td>Tiffany Mitchell</td>\n",
       "      <td>0.950617</td>\n",
       "    </tr>\n",
       "    <tr>\n",
       "      <th>36</th>\n",
       "      <td>Chelsea Gray</td>\n",
       "      <td>0.938776</td>\n",
       "    </tr>\n",
       "    <tr>\n",
       "      <th>119</th>\n",
       "      <td>Odyssey Sims</td>\n",
       "      <td>0.938776</td>\n",
       "    </tr>\n",
       "    <tr>\n",
       "      <th>8</th>\n",
       "      <td>Allie Quigley</td>\n",
       "      <td>0.926829</td>\n",
       "    </tr>\n",
       "    <tr>\n",
       "      <th>49</th>\n",
       "      <td>Diana Taurasi</td>\n",
       "      <td>0.918033</td>\n",
       "    </tr>\n",
       "  </tbody>\n",
       "</table>\n",
       "</div>"
      ],
      "text/plain": [
       "    athlete_display_name  free_throws_percentage\n",
       "149     Tiffany Mitchell                0.950617\n",
       "36          Chelsea Gray                0.938776\n",
       "119         Odyssey Sims                0.938776\n",
       "8          Allie Quigley                0.926829\n",
       "49         Diana Taurasi                0.918033"
      ]
     },
     "execution_count": 22,
     "metadata": {},
     "output_type": "execute_result"
    }
   ],
   "source": [
    "question_4_df.head()"
   ]
  },
  {
   "cell_type": "markdown",
   "metadata": {},
   "source": [
    "# 5. What was the win-loss record of the Seattle Storm in the 2022 season?"
   ]
  },
  {
   "cell_type": "code",
   "execution_count": 23,
   "metadata": {},
   "outputs": [],
   "source": [
    "question_5_df = team_box_2022_df[['team_display_name', 'team_winner', 'season_type']]"
   ]
  },
  {
   "cell_type": "code",
   "execution_count": 24,
   "metadata": {},
   "outputs": [],
   "source": [
    "question_5_df = question_5_df[question_5_df['team_display_name'] == 'Seattle Storm']"
   ]
  },
  {
   "cell_type": "code",
   "execution_count": 25,
   "metadata": {},
   "outputs": [
    {
     "data": {
      "text/plain": [
       "True     25\n",
       "False    17\n",
       "Name: team_winner, dtype: int64"
      ]
     },
     "execution_count": 25,
     "metadata": {},
     "output_type": "execute_result"
    }
   ],
   "source": [
    "question_5_df['team_winner'].value_counts()"
   ]
  },
  {
   "cell_type": "code",
   "execution_count": 26,
   "metadata": {},
   "outputs": [],
   "source": [
    "question_5_df = question_5_df[question_5_df['season_type'] == 2]"
   ]
  },
  {
   "cell_type": "code",
   "execution_count": 27,
   "metadata": {},
   "outputs": [
    {
     "data": {
      "text/plain": [
       "True     22\n",
       "False    14\n",
       "Name: team_winner, dtype: int64"
      ]
     },
     "execution_count": 27,
     "metadata": {},
     "output_type": "execute_result"
    }
   ],
   "source": [
    "question_5_df['team_winner'].value_counts()"
   ]
  },
  {
   "cell_type": "markdown",
   "metadata": {},
   "source": [
    "# 6. Which team had the longest winning streak in the 2019 season (Inclusive of postseason)?"
   ]
  },
  {
   "cell_type": "code",
   "execution_count": 28,
   "metadata": {},
   "outputs": [
    {
     "name": "stderr",
     "output_type": "stream",
     "text": [
      "/var/folders/bs/1lgq_z0j12s291gbh297h38h0000gn/T/ipykernel_26631/2342042985.py:4: SettingWithCopyWarning: \n",
      "A value is trying to be set on a copy of a slice from a DataFrame.\n",
      "Try using .loc[row_indexer,col_indexer] = value instead\n",
      "\n",
      "See the caveats in the documentation: https://pandas.pydata.org/pandas-docs/stable/user_guide/indexing.html#returning-a-view-versus-a-copy\n",
      "  question_6_df['win'] = question_6_df['team_score'] > question_6_df['opponent_team_score']\n",
      "/opt/anaconda3/lib/python3.9/site-packages/pandas/util/_decorators.py:311: SettingWithCopyWarning: \n",
      "A value is trying to be set on a copy of a slice from a DataFrame\n",
      "\n",
      "See the caveats in the documentation: https://pandas.pydata.org/pandas-docs/stable/user_guide/indexing.html#returning-a-view-versus-a-copy\n",
      "  return func(*args, **kwargs)\n"
     ]
    },
    {
     "data": {
      "text/html": [
       "<div>\n",
       "<style scoped>\n",
       "    .dataframe tbody tr th:only-of-type {\n",
       "        vertical-align: middle;\n",
       "    }\n",
       "\n",
       "    .dataframe tbody tr th {\n",
       "        vertical-align: top;\n",
       "    }\n",
       "\n",
       "    .dataframe thead th {\n",
       "        text-align: right;\n",
       "    }\n",
       "</style>\n",
       "<table border=\"1\" class=\"dataframe\">\n",
       "  <thead>\n",
       "    <tr style=\"text-align: right;\">\n",
       "      <th></th>\n",
       "      <th>team_short_display_name</th>\n",
       "      <th>longest_winning_streak</th>\n",
       "    </tr>\n",
       "  </thead>\n",
       "  <tbody>\n",
       "    <tr>\n",
       "      <th>6</th>\n",
       "      <td>Mystics</td>\n",
       "      <td>8</td>\n",
       "    </tr>\n",
       "    <tr>\n",
       "      <th>10</th>\n",
       "      <td>Sun</td>\n",
       "      <td>7</td>\n",
       "    </tr>\n",
       "    <tr>\n",
       "      <th>0</th>\n",
       "      <td>Aces</td>\n",
       "      <td>5</td>\n",
       "    </tr>\n",
       "    <tr>\n",
       "      <th>4</th>\n",
       "      <td>Lynx</td>\n",
       "      <td>5</td>\n",
       "    </tr>\n",
       "    <tr>\n",
       "      <th>8</th>\n",
       "      <td>Sparks</td>\n",
       "      <td>5</td>\n",
       "    </tr>\n",
       "    <tr>\n",
       "      <th>3</th>\n",
       "      <td>Liberty</td>\n",
       "      <td>4</td>\n",
       "    </tr>\n",
       "    <tr>\n",
       "      <th>7</th>\n",
       "      <td>Sky</td>\n",
       "      <td>4</td>\n",
       "    </tr>\n",
       "    <tr>\n",
       "      <th>9</th>\n",
       "      <td>Storm</td>\n",
       "      <td>4</td>\n",
       "    </tr>\n",
       "    <tr>\n",
       "      <th>5</th>\n",
       "      <td>Mercury</td>\n",
       "      <td>3</td>\n",
       "    </tr>\n",
       "    <tr>\n",
       "      <th>13</th>\n",
       "      <td>Wings</td>\n",
       "      <td>3</td>\n",
       "    </tr>\n",
       "    <tr>\n",
       "      <th>1</th>\n",
       "      <td>Dream</td>\n",
       "      <td>2</td>\n",
       "    </tr>\n",
       "    <tr>\n",
       "      <th>2</th>\n",
       "      <td>Fever</td>\n",
       "      <td>2</td>\n",
       "    </tr>\n",
       "    <tr>\n",
       "      <th>12</th>\n",
       "      <td>Team Wilson</td>\n",
       "      <td>1</td>\n",
       "    </tr>\n",
       "    <tr>\n",
       "      <th>11</th>\n",
       "      <td>Team Delle Donne</td>\n",
       "      <td>0</td>\n",
       "    </tr>\n",
       "  </tbody>\n",
       "</table>\n",
       "</div>"
      ],
      "text/plain": [
       "   team_short_display_name  longest_winning_streak\n",
       "6                  Mystics                       8\n",
       "10                     Sun                       7\n",
       "0                     Aces                       5\n",
       "4                     Lynx                       5\n",
       "8                   Sparks                       5\n",
       "3                  Liberty                       4\n",
       "7                      Sky                       4\n",
       "9                    Storm                       4\n",
       "5                  Mercury                       3\n",
       "13                   Wings                       3\n",
       "1                    Dream                       2\n",
       "2                    Fever                       2\n",
       "12             Team Wilson                       1\n",
       "11        Team Delle Donne                       0"
      ]
     },
     "metadata": {},
     "output_type": "display_data"
    }
   ],
   "source": [
    "question_6_df = team_box_2019_df[['team_short_display_name', 'game_id', 'game_date', 'team_score', 'opponent_team_score']]\n",
    "\n",
    "# Determine the outcome of each game for each team\n",
    "question_6_df['win'] = question_6_df['team_score'] > question_6_df['opponent_team_score']\n",
    "\n",
    "# Sort by team and game date\n",
    "question_6_df.sort_values(by=['team_short_display_name', 'game_date'], inplace=True)\n",
    "\n",
    "# Function to calculate the longest winning streak for each team\n",
    "def longest_streak(team_df):\n",
    "    max_streak = 0\n",
    "    current_streak = 0\n",
    "    for win in team_df['win']:\n",
    "        if win:\n",
    "            current_streak += 1\n",
    "            if current_streak > max_streak:\n",
    "                max_streak = current_streak\n",
    "        else:\n",
    "            current_streak = 0\n",
    "    return max_streak\n",
    "\n",
    "# Apply the function to each team\n",
    "question_6_df\n",
    "team_streaks = question_6_df.groupby('team_short_display_name').apply(longest_streak).reset_index()\n",
    "team_streaks.columns = ['team_short_display_name', 'longest_winning_streak']\n",
    "team_streaks = team_streaks.sort_values(by='longest_winning_streak', ascending=False)\n",
    "display(team_streaks)\n"
   ]
  },
  {
   "cell_type": "markdown",
   "metadata": {},
   "source": [
    "# 7. How many triple-doubles were recorded in the WNBA between 2018 and 2024, and by which players?"
   ]
  },
  {
   "cell_type": "code",
   "execution_count": 29,
   "metadata": {},
   "outputs": [
    {
     "data": {
      "text/html": [
       "<div>\n",
       "<style scoped>\n",
       "    .dataframe tbody tr th:only-of-type {\n",
       "        vertical-align: middle;\n",
       "    }\n",
       "\n",
       "    .dataframe tbody tr th {\n",
       "        vertical-align: top;\n",
       "    }\n",
       "\n",
       "    .dataframe thead th {\n",
       "        text-align: right;\n",
       "    }\n",
       "</style>\n",
       "<table border=\"1\" class=\"dataframe\">\n",
       "  <thead>\n",
       "    <tr style=\"text-align: right;\">\n",
       "      <th></th>\n",
       "      <th>athlete_display_name</th>\n",
       "      <th>triple_doubles</th>\n",
       "    </tr>\n",
       "  </thead>\n",
       "  <tbody>\n",
       "    <tr>\n",
       "      <th>0</th>\n",
       "      <td>Alyssa Thomas</td>\n",
       "      <td>12</td>\n",
       "    </tr>\n",
       "    <tr>\n",
       "      <th>1</th>\n",
       "      <td>Sabrina Ionescu</td>\n",
       "      <td>4</td>\n",
       "    </tr>\n",
       "    <tr>\n",
       "      <th>2</th>\n",
       "      <td>Candace Parker</td>\n",
       "      <td>2</td>\n",
       "    </tr>\n",
       "    <tr>\n",
       "      <th>3</th>\n",
       "      <td>Chelsea Gray</td>\n",
       "      <td>2</td>\n",
       "    </tr>\n",
       "    <tr>\n",
       "      <th>4</th>\n",
       "      <td>Courtney Vandersloot</td>\n",
       "      <td>2</td>\n",
       "    </tr>\n",
       "    <tr>\n",
       "      <th>5</th>\n",
       "      <td>Courtney Williams</td>\n",
       "      <td>2</td>\n",
       "    </tr>\n",
       "    <tr>\n",
       "      <th>6</th>\n",
       "      <td>Layshia Clarendon</td>\n",
       "      <td>1</td>\n",
       "    </tr>\n",
       "    <tr>\n",
       "      <th>7</th>\n",
       "      <td>Moriah Jefferson</td>\n",
       "      <td>1</td>\n",
       "    </tr>\n",
       "    <tr>\n",
       "      <th>8</th>\n",
       "      <td>Natasha Howard</td>\n",
       "      <td>1</td>\n",
       "    </tr>\n",
       "    <tr>\n",
       "      <th>9</th>\n",
       "      <td>Satou Sabally</td>\n",
       "      <td>1</td>\n",
       "    </tr>\n",
       "    <tr>\n",
       "      <th>10</th>\n",
       "      <td>Sug Sutton</td>\n",
       "      <td>1</td>\n",
       "    </tr>\n",
       "  </tbody>\n",
       "</table>\n",
       "</div>"
      ],
      "text/plain": [
       "    athlete_display_name  triple_doubles\n",
       "0          Alyssa Thomas              12\n",
       "1        Sabrina Ionescu               4\n",
       "2         Candace Parker               2\n",
       "3           Chelsea Gray               2\n",
       "4   Courtney Vandersloot               2\n",
       "5      Courtney Williams               2\n",
       "6      Layshia Clarendon               1\n",
       "7       Moriah Jefferson               1\n",
       "8         Natasha Howard               1\n",
       "9          Satou Sabally               1\n",
       "10            Sug Sutton               1"
      ]
     },
     "metadata": {},
     "output_type": "display_data"
    }
   ],
   "source": [
    "# Identify the number of triple doubles for each player in the wnba between 2018 and 2024\n",
    "question_7_df = pd.concat([player_box_2018_df, player_box_2019_df, player_box_2020_df, player_box_2021_df, player_box_2022_df, player_box_2023_df, player_box_2024_df], ignore_index=True)\n",
    "\n",
    "# Triple Doubles for points, assists, rebounds, blocks, and steals\n",
    "question_7_df = question_7_df[['athlete_display_name', 'points', 'assists', 'rebounds', 'blocks', 'steals']]\n",
    "\n",
    "def triple_double(row):\n",
    "    \"\"\"Function for identifying triple doubles in the WNBA per player\"\"\"\n",
    "    if row['points'] >= 10 and row['blocks'] >= 10 and row['steals'] >= 10:\n",
    "        return 1\n",
    "    elif row['points'] >= 10 and row['assists'] >= 10 and row['rebounds'] >= 10:\n",
    "        return 1\n",
    "    elif row['points'] >= 10 and row['assists'] >= 10 and row['blocks'] >= 10:\n",
    "        return 1\n",
    "    elif row['points'] >= 10 and row['assists'] >= 10 and row['steals'] >= 10:\n",
    "        return 1\n",
    "    elif row['points'] >= 10 and row['rebounds'] >= 10 and row['blocks'] >= 10:\n",
    "        return 1\n",
    "    elif row['points'] >= 10 and row['rebounds'] >= 10 and row['steals'] >= 10:\n",
    "        return 1\n",
    "    elif row['assists'] >= 10 and row['rebounds'] >= 10 and row['blocks'] >= 10:\n",
    "        return 1\n",
    "    elif row['assists'] >= 10 and row['rebounds'] >= 10 and row['steals'] >= 10:\n",
    "        return 1\n",
    "    elif row['assists'] >= 10 and row['blocks'] >= 10 and row['steals'] >= 10:\n",
    "        return 1\n",
    "    elif row['rebounds'] >= 10 and row['blocks'] >= 10 and row['steals'] >= 10:\n",
    "        return 1\n",
    "    else:\n",
    "        return 0\n",
    "    \n",
    "question_7_series = question_7_df.apply(triple_double, axis = 1)\n",
    "question_7_df['triple_doubles'] = question_7_series\n",
    "\n",
    "# Look at triple doubles only\n",
    "question_7_df = question_7_df[question_7_df['triple_doubles'] > 0]\n",
    "\n",
    "# Summarize the dataframe to get the total number of triple doubles per player\n",
    "question_7_df = question_7_df.groupby('athlete_display_name')['triple_doubles'].sum().reset_index()\n",
    "\n",
    "question_7_df = question_7_df.sort_values(by='triple_doubles', ascending=False).reset_index(drop=True)\n",
    "\n",
    "display(question_7_df)\n",
    "\n"
   ]
  },
  {
   "cell_type": "markdown",
   "metadata": {},
   "source": [
    "# 8. Which team had the best defense in the 2024 season (by opponent points)?"
   ]
  },
  {
   "cell_type": "code",
   "execution_count": 30,
   "metadata": {},
   "outputs": [],
   "source": [
    "question_8_df = team_box_2024_df[['team_display_name', 'opponent_team_score']]"
   ]
  },
  {
   "cell_type": "code",
   "execution_count": 31,
   "metadata": {},
   "outputs": [],
   "source": [
    "question_8_df = question_8_df.groupby('team_display_name', as_index=False)['opponent_team_score'].mean()"
   ]
  },
  {
   "cell_type": "code",
   "execution_count": 32,
   "metadata": {},
   "outputs": [],
   "source": [
    "question_8_df = question_8_df.sort_values(by='opponent_team_score', ascending=True)"
   ]
  },
  {
   "cell_type": "code",
   "execution_count": 33,
   "metadata": {},
   "outputs": [
    {
     "data": {
      "text/html": [
       "<div>\n",
       "<style scoped>\n",
       "    .dataframe tbody tr th:only-of-type {\n",
       "        vertical-align: middle;\n",
       "    }\n",
       "\n",
       "    .dataframe tbody tr th {\n",
       "        vertical-align: top;\n",
       "    }\n",
       "\n",
       "    .dataframe thead th {\n",
       "        text-align: right;\n",
       "    }\n",
       "</style>\n",
       "<table border=\"1\" class=\"dataframe\">\n",
       "  <thead>\n",
       "    <tr style=\"text-align: right;\">\n",
       "      <th></th>\n",
       "      <th>team_display_name</th>\n",
       "      <th>opponent_team_score</th>\n",
       "    </tr>\n",
       "  </thead>\n",
       "  <tbody>\n",
       "    <tr>\n",
       "      <th>2</th>\n",
       "      <td>Connecticut Sun</td>\n",
       "      <td>71.083333</td>\n",
       "    </tr>\n",
       "    <tr>\n",
       "      <th>8</th>\n",
       "      <td>New York Liberty</td>\n",
       "      <td>75.923077</td>\n",
       "    </tr>\n",
       "    <tr>\n",
       "      <th>7</th>\n",
       "      <td>Minnesota Lynx</td>\n",
       "      <td>76.000000</td>\n",
       "    </tr>\n",
       "    <tr>\n",
       "      <th>10</th>\n",
       "      <td>Seattle Storm</td>\n",
       "      <td>78.076923</td>\n",
       "    </tr>\n",
       "    <tr>\n",
       "      <th>1</th>\n",
       "      <td>Chicago Sky</td>\n",
       "      <td>80.000000</td>\n",
       "    </tr>\n",
       "  </tbody>\n",
       "</table>\n",
       "</div>"
      ],
      "text/plain": [
       "   team_display_name  opponent_team_score\n",
       "2    Connecticut Sun            71.083333\n",
       "8   New York Liberty            75.923077\n",
       "7     Minnesota Lynx            76.000000\n",
       "10     Seattle Storm            78.076923\n",
       "1        Chicago Sky            80.000000"
      ]
     },
     "execution_count": 33,
     "metadata": {},
     "output_type": "execute_result"
    }
   ],
   "source": [
    "question_8_df.head()"
   ]
  },
  {
   "cell_type": "markdown",
   "metadata": {},
   "source": [
    "# 9. Identify the game with the highest combined score (both teams) from 2018 to 2024."
   ]
  },
  {
   "cell_type": "code",
   "execution_count": 34,
   "metadata": {},
   "outputs": [],
   "source": [
    "question_9_df_2018 = team_box_2018_df[['game_id', 'game_date', 'team_display_name', 'team_score', 'opponent_team_display_name', 'opponent_team_score', 'team_home_away']]\n",
    "question_9_df_2019 = team_box_2019_df[['game_id', 'game_date', 'team_display_name', 'team_score', 'opponent_team_display_name', 'opponent_team_score', 'team_home_away']]\n",
    "question_9_df_2020 = team_box_2020_df[['game_id', 'game_date', 'team_display_name', 'team_score', 'opponent_team_display_name', 'opponent_team_score', 'team_home_away']]\n",
    "question_9_df_2021 = team_box_2021_df[['game_id', 'game_date', 'team_display_name', 'team_score', 'opponent_team_display_name', 'opponent_team_score', 'team_home_away']]\n",
    "question_9_df_2022 = team_box_2022_df[['game_id', 'game_date', 'team_display_name', 'team_score', 'opponent_team_display_name', 'opponent_team_score', 'team_home_away']]\n",
    "question_9_df_2023 = team_box_2023_df[['game_id', 'game_date', 'team_display_name', 'team_score', 'opponent_team_display_name', 'opponent_team_score', 'team_home_away']]\n",
    "question_9_df_2024 = team_box_2024_df[['game_id', 'game_date', 'team_display_name', 'team_score', 'opponent_team_display_name', 'opponent_team_score', 'team_home_away']]\n",
    "\n",
    "question_9_df = pd.concat([question_9_df_2018, question_9_df_2019, question_9_df_2020, \n",
    "                           question_9_df_2021, question_9_df_2022, question_9_df_2023,\n",
    "                           question_9_df_2024], ignore_index=True)"
   ]
  },
  {
   "cell_type": "code",
   "execution_count": 35,
   "metadata": {},
   "outputs": [],
   "source": [
    "question_9_df['combined_score'] = question_9_df['team_score'] + question_9_df['opponent_team_score']"
   ]
  },
  {
   "cell_type": "code",
   "execution_count": 36,
   "metadata": {},
   "outputs": [],
   "source": [
    "question_9_df = question_9_df.drop_duplicates(subset='game_id')"
   ]
  },
  {
   "cell_type": "code",
   "execution_count": 37,
   "metadata": {},
   "outputs": [],
   "source": [
    "question_9_df = question_9_df.drop(columns=['team_score', 'opponent_team_score', 'game_id'])"
   ]
  },
  {
   "cell_type": "code",
   "execution_count": 38,
   "metadata": {},
   "outputs": [],
   "source": [
    "question_9_df = question_9_df[~question_9_df['team_display_name'].str.contains('Team')]"
   ]
  },
  {
   "cell_type": "code",
   "execution_count": 39,
   "metadata": {},
   "outputs": [],
   "source": [
    "question_9_df = question_9_df.sort_values(by='combined_score', ascending=False)"
   ]
  },
  {
   "cell_type": "code",
   "execution_count": 40,
   "metadata": {},
   "outputs": [
    {
     "data": {
      "text/html": [
       "<div>\n",
       "<style scoped>\n",
       "    .dataframe tbody tr th:only-of-type {\n",
       "        vertical-align: middle;\n",
       "    }\n",
       "\n",
       "    .dataframe tbody tr th {\n",
       "        vertical-align: top;\n",
       "    }\n",
       "\n",
       "    .dataframe thead th {\n",
       "        text-align: right;\n",
       "    }\n",
       "</style>\n",
       "<table border=\"1\" class=\"dataframe\">\n",
       "  <thead>\n",
       "    <tr style=\"text-align: right;\">\n",
       "      <th></th>\n",
       "      <th>game_date</th>\n",
       "      <th>team_display_name</th>\n",
       "      <th>opponent_team_display_name</th>\n",
       "      <th>team_home_away</th>\n",
       "      <th>combined_score</th>\n",
       "    </tr>\n",
       "  </thead>\n",
       "  <tbody>\n",
       "    <tr>\n",
       "      <th>1802</th>\n",
       "      <td>2022-07-12</td>\n",
       "      <td>Phoenix Mercury</td>\n",
       "      <td>Minnesota Lynx</td>\n",
       "      <td>away</td>\n",
       "      <td>225</td>\n",
       "    </tr>\n",
       "    <tr>\n",
       "      <th>1816</th>\n",
       "      <td>2022-07-06</td>\n",
       "      <td>New York Liberty</td>\n",
       "      <td>Las Vegas Aces</td>\n",
       "      <td>away</td>\n",
       "      <td>223</td>\n",
       "    </tr>\n",
       "    <tr>\n",
       "      <th>46</th>\n",
       "      <td>2018-08-18</td>\n",
       "      <td>Chicago Sky</td>\n",
       "      <td>Indiana Fever</td>\n",
       "      <td>away</td>\n",
       "      <td>221</td>\n",
       "    </tr>\n",
       "    <tr>\n",
       "      <th>1392</th>\n",
       "      <td>2021-07-04</td>\n",
       "      <td>Atlanta Dream</td>\n",
       "      <td>Las Vegas Aces</td>\n",
       "      <td>away</td>\n",
       "      <td>213</td>\n",
       "    </tr>\n",
       "    <tr>\n",
       "      <th>160</th>\n",
       "      <td>2018-07-20</td>\n",
       "      <td>Dallas Wings</td>\n",
       "      <td>Chicago Sky</td>\n",
       "      <td>away</td>\n",
       "      <td>213</td>\n",
       "    </tr>\n",
       "  </tbody>\n",
       "</table>\n",
       "</div>"
      ],
      "text/plain": [
       "       game_date team_display_name opponent_team_display_name team_home_away  \\\n",
       "1802  2022-07-12   Phoenix Mercury             Minnesota Lynx           away   \n",
       "1816  2022-07-06  New York Liberty             Las Vegas Aces           away   \n",
       "46    2018-08-18       Chicago Sky              Indiana Fever           away   \n",
       "1392  2021-07-04     Atlanta Dream             Las Vegas Aces           away   \n",
       "160   2018-07-20      Dallas Wings                Chicago Sky           away   \n",
       "\n",
       "      combined_score  \n",
       "1802             225  \n",
       "1816             223  \n",
       "46               221  \n",
       "1392             213  \n",
       "160              213  "
      ]
     },
     "execution_count": 40,
     "metadata": {},
     "output_type": "execute_result"
    }
   ],
   "source": [
    "question_9_df.head()"
   ]
  },
  {
   "cell_type": "markdown",
   "metadata": {},
   "source": [
    "# 10. Which player played the most minutes in the 2021 season?"
   ]
  },
  {
   "cell_type": "code",
   "execution_count": 41,
   "metadata": {},
   "outputs": [],
   "source": [
    "question_10_df = player_box_2021_df[['athlete_display_name', 'minutes']]"
   ]
  },
  {
   "cell_type": "code",
   "execution_count": 42,
   "metadata": {},
   "outputs": [],
   "source": [
    "question_10_df = question_10_df.groupby('athlete_display_name', as_index=False)['minutes'].sum()"
   ]
  },
  {
   "cell_type": "code",
   "execution_count": 43,
   "metadata": {},
   "outputs": [],
   "source": [
    "question_10_df = question_10_df.sort_values(by='minutes', ascending=False)"
   ]
  },
  {
   "cell_type": "code",
   "execution_count": 44,
   "metadata": {},
   "outputs": [
    {
     "data": {
      "text/html": [
       "<div>\n",
       "<style scoped>\n",
       "    .dataframe tbody tr th:only-of-type {\n",
       "        vertical-align: middle;\n",
       "    }\n",
       "\n",
       "    .dataframe tbody tr th {\n",
       "        vertical-align: top;\n",
       "    }\n",
       "\n",
       "    .dataframe thead th {\n",
       "        text-align: right;\n",
       "    }\n",
       "</style>\n",
       "<table border=\"1\" class=\"dataframe\">\n",
       "  <thead>\n",
       "    <tr style=\"text-align: right;\">\n",
       "      <th></th>\n",
       "      <th>athlete_display_name</th>\n",
       "      <th>minutes</th>\n",
       "    </tr>\n",
       "  </thead>\n",
       "  <tbody>\n",
       "    <tr>\n",
       "      <th>140</th>\n",
       "      <td>Skylar Diggins-Smith</td>\n",
       "      <td>1440.0</td>\n",
       "    </tr>\n",
       "    <tr>\n",
       "      <th>30</th>\n",
       "      <td>Brittney Griner</td>\n",
       "      <td>1394.0</td>\n",
       "    </tr>\n",
       "    <tr>\n",
       "      <th>26</th>\n",
       "      <td>Brianna Turner</td>\n",
       "      <td>1342.0</td>\n",
       "    </tr>\n",
       "    <tr>\n",
       "      <th>42</th>\n",
       "      <td>Courtney Vandersloot</td>\n",
       "      <td>1337.0</td>\n",
       "    </tr>\n",
       "    <tr>\n",
       "      <th>79</th>\n",
       "      <td>Kahleah Copper</td>\n",
       "      <td>1329.0</td>\n",
       "    </tr>\n",
       "  </tbody>\n",
       "</table>\n",
       "</div>"
      ],
      "text/plain": [
       "     athlete_display_name  minutes\n",
       "140  Skylar Diggins-Smith   1440.0\n",
       "30        Brittney Griner   1394.0\n",
       "26         Brianna Turner   1342.0\n",
       "42   Courtney Vandersloot   1337.0\n",
       "79         Kahleah Copper   1329.0"
      ]
     },
     "execution_count": 44,
     "metadata": {},
     "output_type": "execute_result"
    }
   ],
   "source": [
    "question_10_df.head()"
   ]
  },
  {
   "cell_type": "markdown",
   "metadata": {},
   "source": [
    "# 11. What is the average attendance for games in the 2020 season?"
   ]
  },
  {
   "cell_type": "code",
   "execution_count": 45,
   "metadata": {},
   "outputs": [],
   "source": [
    "question_11_df = schedule_2020_df[['attendance']]"
   ]
  },
  {
   "cell_type": "code",
   "execution_count": 46,
   "metadata": {},
   "outputs": [],
   "source": [
    "question_11_df = question_11_df.sort_values(by='attendance', ascending=False)"
   ]
  },
  {
   "cell_type": "code",
   "execution_count": 47,
   "metadata": {},
   "outputs": [
    {
     "data": {
      "text/plain": [
       "1.380952380952381"
      ]
     },
     "execution_count": 47,
     "metadata": {},
     "output_type": "execute_result"
    }
   ],
   "source": [
    "question_11_df['attendance'].mean()"
   ]
  },
  {
   "cell_type": "markdown",
   "metadata": {},
   "source": [
    "# 12. Which player had the highest number of assists in a single game during the 2019 season?"
   ]
  },
  {
   "cell_type": "code",
   "execution_count": 48,
   "metadata": {},
   "outputs": [],
   "source": [
    "question_12_df = player_box_2019_df[['athlete_display_name', 'assists']]"
   ]
  },
  {
   "cell_type": "code",
   "execution_count": 49,
   "metadata": {},
   "outputs": [],
   "source": [
    "question_12_df = question_12_df.sort_values(by='assists', ascending=False)"
   ]
  },
  {
   "cell_type": "code",
   "execution_count": 50,
   "metadata": {},
   "outputs": [
    {
     "data": {
      "text/html": [
       "<div>\n",
       "<style scoped>\n",
       "    .dataframe tbody tr th:only-of-type {\n",
       "        vertical-align: middle;\n",
       "    }\n",
       "\n",
       "    .dataframe tbody tr th {\n",
       "        vertical-align: top;\n",
       "    }\n",
       "\n",
       "    .dataframe thead th {\n",
       "        text-align: right;\n",
       "    }\n",
       "</style>\n",
       "<table border=\"1\" class=\"dataframe\">\n",
       "  <thead>\n",
       "    <tr style=\"text-align: right;\">\n",
       "      <th></th>\n",
       "      <th>athlete_display_name</th>\n",
       "      <th>assists</th>\n",
       "    </tr>\n",
       "  </thead>\n",
       "  <tbody>\n",
       "    <tr>\n",
       "      <th>2648</th>\n",
       "      <td>Courtney Vandersloot</td>\n",
       "      <td>14.0</td>\n",
       "    </tr>\n",
       "    <tr>\n",
       "      <th>3356</th>\n",
       "      <td>Chelsea Gray</td>\n",
       "      <td>13.0</td>\n",
       "    </tr>\n",
       "    <tr>\n",
       "      <th>831</th>\n",
       "      <td>Courtney Vandersloot</td>\n",
       "      <td>13.0</td>\n",
       "    </tr>\n",
       "    <tr>\n",
       "      <th>1968</th>\n",
       "      <td>Courtney Vandersloot</td>\n",
       "      <td>13.0</td>\n",
       "    </tr>\n",
       "    <tr>\n",
       "      <th>1157</th>\n",
       "      <td>Courtney Vandersloot</td>\n",
       "      <td>13.0</td>\n",
       "    </tr>\n",
       "  </tbody>\n",
       "</table>\n",
       "</div>"
      ],
      "text/plain": [
       "      athlete_display_name  assists\n",
       "2648  Courtney Vandersloot     14.0\n",
       "3356          Chelsea Gray     13.0\n",
       "831   Courtney Vandersloot     13.0\n",
       "1968  Courtney Vandersloot     13.0\n",
       "1157  Courtney Vandersloot     13.0"
      ]
     },
     "execution_count": 50,
     "metadata": {},
     "output_type": "execute_result"
    }
   ],
   "source": [
    "question_12_df.head()"
   ]
  },
  {
   "cell_type": "markdown",
   "metadata": {},
   "source": [
    "# 13. How many times did the Chicago Sky make it to the playoffs between 2018 and 2024?"
   ]
  },
  {
   "cell_type": "code",
   "execution_count": 51,
   "metadata": {},
   "outputs": [],
   "source": [
    "question_13_df_2018 = schedule_2018_df[['season', 'season_type', 'home_display_name', 'away_display_name']]\n",
    "question_13_df_2019 = schedule_2019_df[['season', 'season_type', 'home_display_name', 'away_display_name']]\n",
    "question_13_df_2020 = schedule_2020_df[['season', 'season_type', 'home_display_name', 'away_display_name']]\n",
    "question_13_df_2021 = schedule_2021_df[['season', 'season_type', 'home_display_name', 'away_display_name']]\n",
    "question_13_df_2022 = schedule_2022_df[['season', 'season_type', 'home_display_name', 'away_display_name']]\n",
    "question_13_df_2023 = schedule_2023_df[['season', 'season_type', 'home_display_name', 'away_display_name']]\n",
    "question_13_df_2024 = schedule_2024_df[['season', 'season_type', 'home_display_name', 'away_display_name']]\n",
    "\n",
    "question_13_df = pd.concat([question_13_df_2018, question_13_df_2019, question_13_df_2020, \n",
    "                           question_13_df_2021, question_13_df_2022, question_13_df_2023,\n",
    "                           question_13_df_2024], ignore_index=True)"
   ]
  },
  {
   "cell_type": "code",
   "execution_count": 52,
   "metadata": {},
   "outputs": [],
   "source": [
    "question_13_df = question_13_df[question_13_df['season_type'] == 3]"
   ]
  },
  {
   "cell_type": "code",
   "execution_count": 53,
   "metadata": {},
   "outputs": [],
   "source": [
    "question_13_df = question_13_df[(question_13_df['home_display_name'] == 'Chicago Sky') | (question_13_df['away_display_name'] == 'Chicago Sky')]"
   ]
  },
  {
   "cell_type": "code",
   "execution_count": 54,
   "metadata": {},
   "outputs": [],
   "source": [
    "question_13_df = question_13_df[['season']]"
   ]
  },
  {
   "cell_type": "code",
   "execution_count": 55,
   "metadata": {},
   "outputs": [],
   "source": [
    "question_13_df = question_13_df.drop_duplicates(subset='season')"
   ]
  },
  {
   "cell_type": "code",
   "execution_count": 56,
   "metadata": {},
   "outputs": [
    {
     "data": {
      "text/plain": [
       "5"
      ]
     },
     "execution_count": 56,
     "metadata": {},
     "output_type": "execute_result"
    }
   ],
   "source": [
    "question_13_df.shape[0]"
   ]
  },
  {
   "cell_type": "markdown",
   "metadata": {},
   "source": [
    "# 14. What was the average margin of victory for the Las Vegas Aces in the 2022 season?"
   ]
  },
  {
   "cell_type": "code",
   "execution_count": 57,
   "metadata": {},
   "outputs": [],
   "source": [
    "question_14_df = team_box_2022_df[['team_display_name', 'team_score', 'opponent_team_score']]"
   ]
  },
  {
   "cell_type": "code",
   "execution_count": 58,
   "metadata": {},
   "outputs": [],
   "source": [
    "question_14_df = question_14_df[question_14_df['team_display_name'] == 'Las Vegas Aces']"
   ]
  },
  {
   "cell_type": "code",
   "execution_count": 59,
   "metadata": {},
   "outputs": [],
   "source": [
    "question_14_df['score_difference'] = question_14_df['team_score'] - question_14_df['opponent_team_score']"
   ]
  },
  {
   "cell_type": "code",
   "execution_count": 60,
   "metadata": {},
   "outputs": [],
   "source": [
    "question_14_df = question_14_df.drop(columns=['team_score', 'opponent_team_score'])"
   ]
  },
  {
   "cell_type": "code",
   "execution_count": 61,
   "metadata": {},
   "outputs": [],
   "source": [
    "question_14_df = question_14_df.groupby('team_display_name', as_index=False)['score_difference'].mean()"
   ]
  },
  {
   "cell_type": "code",
   "execution_count": 62,
   "metadata": {},
   "outputs": [
    {
     "data": {
      "text/html": [
       "<div>\n",
       "<style scoped>\n",
       "    .dataframe tbody tr th:only-of-type {\n",
       "        vertical-align: middle;\n",
       "    }\n",
       "\n",
       "    .dataframe tbody tr th {\n",
       "        vertical-align: top;\n",
       "    }\n",
       "\n",
       "    .dataframe thead th {\n",
       "        text-align: right;\n",
       "    }\n",
       "</style>\n",
       "<table border=\"1\" class=\"dataframe\">\n",
       "  <thead>\n",
       "    <tr style=\"text-align: right;\">\n",
       "      <th></th>\n",
       "      <th>team_display_name</th>\n",
       "      <th>score_difference</th>\n",
       "    </tr>\n",
       "  </thead>\n",
       "  <tbody>\n",
       "    <tr>\n",
       "      <th>0</th>\n",
       "      <td>Las Vegas Aces</td>\n",
       "      <td>6.510638</td>\n",
       "    </tr>\n",
       "  </tbody>\n",
       "</table>\n",
       "</div>"
      ],
      "text/plain": [
       "  team_display_name  score_difference\n",
       "0    Las Vegas Aces          6.510638"
      ]
     },
     "execution_count": 62,
     "metadata": {},
     "output_type": "execute_result"
    }
   ],
   "source": [
    "question_14_df"
   ]
  },
  {
   "cell_type": "markdown",
   "metadata": {},
   "source": [
    "# 15. Which player had the most steals in the 2023 season?"
   ]
  },
  {
   "cell_type": "code",
   "execution_count": 63,
   "metadata": {},
   "outputs": [],
   "source": [
    "question_15_df = player_box_2023_df[['athlete_display_name', 'steals']]"
   ]
  },
  {
   "cell_type": "code",
   "execution_count": 64,
   "metadata": {},
   "outputs": [],
   "source": [
    "question_15_df = question_15_df.groupby('athlete_display_name', as_index=False)['steals'].sum()"
   ]
  },
  {
   "cell_type": "code",
   "execution_count": 65,
   "metadata": {},
   "outputs": [],
   "source": [
    "question_15_df = question_15_df.sort_values(by='steals', ascending=False)"
   ]
  },
  {
   "cell_type": "code",
   "execution_count": 66,
   "metadata": {},
   "outputs": [
    {
     "data": {
      "text/html": [
       "<div>\n",
       "<style scoped>\n",
       "    .dataframe tbody tr th:only-of-type {\n",
       "        vertical-align: middle;\n",
       "    }\n",
       "\n",
       "    .dataframe tbody tr th {\n",
       "        vertical-align: top;\n",
       "    }\n",
       "\n",
       "    .dataframe thead th {\n",
       "        text-align: right;\n",
       "    }\n",
       "</style>\n",
       "<table border=\"1\" class=\"dataframe\">\n",
       "  <thead>\n",
       "    <tr style=\"text-align: right;\">\n",
       "      <th></th>\n",
       "      <th>athlete_display_name</th>\n",
       "      <th>steals</th>\n",
       "    </tr>\n",
       "  </thead>\n",
       "  <tbody>\n",
       "    <tr>\n",
       "      <th>25</th>\n",
       "      <td>Brittney Sykes</td>\n",
       "      <td>88.0</td>\n",
       "    </tr>\n",
       "    <tr>\n",
       "      <th>72</th>\n",
       "      <td>Jordin Canada</td>\n",
       "      <td>86.0</td>\n",
       "    </tr>\n",
       "    <tr>\n",
       "      <th>10</th>\n",
       "      <td>Alyssa Thomas</td>\n",
       "      <td>85.0</td>\n",
       "    </tr>\n",
       "    <tr>\n",
       "      <th>14</th>\n",
       "      <td>Arike Ogunbowale</td>\n",
       "      <td>77.0</td>\n",
       "    </tr>\n",
       "    <tr>\n",
       "      <th>142</th>\n",
       "      <td>Satou Sabally</td>\n",
       "      <td>76.0</td>\n",
       "    </tr>\n",
       "  </tbody>\n",
       "</table>\n",
       "</div>"
      ],
      "text/plain": [
       "    athlete_display_name  steals\n",
       "25        Brittney Sykes    88.0\n",
       "72         Jordin Canada    86.0\n",
       "10         Alyssa Thomas    85.0\n",
       "14      Arike Ogunbowale    77.0\n",
       "142        Satou Sabally    76.0"
      ]
     },
     "execution_count": 66,
     "metadata": {},
     "output_type": "execute_result"
    }
   ],
   "source": [
    "question_15_df.head()"
   ]
  },
  {
   "cell_type": "markdown",
   "metadata": {},
   "source": [
    "# 16. Identify the top 5 games with the highest attendance between 2018 and 2024."
   ]
  },
  {
   "cell_type": "code",
   "execution_count": 67,
   "metadata": {},
   "outputs": [],
   "source": [
    "question_16_df_2018 = schedule_2018_df[['date', 'attendance', 'away_display_name', 'home_display_name']]\n",
    "question_16_df_2019 = schedule_2019_df[['date', 'attendance', 'away_display_name', 'home_display_name']]\n",
    "question_16_df_2020 = schedule_2020_df[['date', 'attendance', 'away_display_name', 'home_display_name']]\n",
    "question_16_df_2021 = schedule_2021_df[['date', 'attendance', 'away_display_name', 'home_display_name']]\n",
    "question_16_df_2022 = schedule_2022_df[['date', 'attendance', 'away_display_name', 'home_display_name']]\n",
    "question_16_df_2023 = schedule_2023_df[['date', 'attendance', 'away_display_name', 'home_display_name']]\n",
    "question_16_df_2024 = schedule_2024_df[['date', 'attendance', 'away_display_name', 'home_display_name']]\n",
    "\n",
    "question_16_df = pd.concat([question_16_df_2018, question_16_df_2019, question_16_df_2020, \n",
    "                           question_16_df_2021, question_16_df_2022, question_16_df_2023,\n",
    "                           question_16_df_2024], ignore_index=True)"
   ]
  },
  {
   "cell_type": "code",
   "execution_count": 68,
   "metadata": {},
   "outputs": [],
   "source": [
    "question_16_df = question_16_df.sort_values(by='attendance', ascending=False)"
   ]
  },
  {
   "cell_type": "code",
   "execution_count": 69,
   "metadata": {},
   "outputs": [
    {
     "data": {
      "text/html": [
       "<div>\n",
       "<style scoped>\n",
       "    .dataframe tbody tr th:only-of-type {\n",
       "        vertical-align: middle;\n",
       "    }\n",
       "\n",
       "    .dataframe tbody tr th {\n",
       "        vertical-align: top;\n",
       "    }\n",
       "\n",
       "    .dataframe thead th {\n",
       "        text-align: right;\n",
       "    }\n",
       "</style>\n",
       "<table border=\"1\" class=\"dataframe\">\n",
       "  <thead>\n",
       "    <tr style=\"text-align: right;\">\n",
       "      <th></th>\n",
       "      <th>date</th>\n",
       "      <th>attendance</th>\n",
       "      <th>away_display_name</th>\n",
       "      <th>home_display_name</th>\n",
       "    </tr>\n",
       "  </thead>\n",
       "  <tbody>\n",
       "    <tr>\n",
       "      <th>1491</th>\n",
       "      <td>2024-06-07T23:30Z</td>\n",
       "      <td>20333</td>\n",
       "      <td>Indiana Fever</td>\n",
       "      <td>Washington Mystics</td>\n",
       "    </tr>\n",
       "    <tr>\n",
       "      <th>1523</th>\n",
       "      <td>2024-05-25T02:00Z</td>\n",
       "      <td>19103</td>\n",
       "      <td>Indiana Fever</td>\n",
       "      <td>Los Angeles Sparks</td>\n",
       "    </tr>\n",
       "    <tr>\n",
       "      <th>53</th>\n",
       "      <td>2018-08-05T23:00Z</td>\n",
       "      <td>19076</td>\n",
       "      <td>Phoenix Mercury</td>\n",
       "      <td>Los Angeles Sparks</td>\n",
       "    </tr>\n",
       "    <tr>\n",
       "      <th>1527</th>\n",
       "      <td>2024-05-23T02:00Z</td>\n",
       "      <td>18343</td>\n",
       "      <td>Indiana Fever</td>\n",
       "      <td>Seattle Storm</td>\n",
       "    </tr>\n",
       "    <tr>\n",
       "      <th>844</th>\n",
       "      <td>2022-08-07T19:00Z</td>\n",
       "      <td>18100</td>\n",
       "      <td>Las Vegas Aces</td>\n",
       "      <td>Seattle Storm</td>\n",
       "    </tr>\n",
       "  </tbody>\n",
       "</table>\n",
       "</div>"
      ],
      "text/plain": [
       "                   date  attendance away_display_name   home_display_name\n",
       "1491  2024-06-07T23:30Z       20333     Indiana Fever  Washington Mystics\n",
       "1523  2024-05-25T02:00Z       19103     Indiana Fever  Los Angeles Sparks\n",
       "53    2018-08-05T23:00Z       19076   Phoenix Mercury  Los Angeles Sparks\n",
       "1527  2024-05-23T02:00Z       18343     Indiana Fever       Seattle Storm\n",
       "844   2022-08-07T19:00Z       18100    Las Vegas Aces       Seattle Storm"
      ]
     },
     "execution_count": 69,
     "metadata": {},
     "output_type": "execute_result"
    }
   ],
   "source": [
    "question_16_df.head()"
   ]
  },
  {
   "cell_type": "markdown",
   "metadata": {},
   "source": [
    "# 17. What is the average number of three-point shots made per game by each team in the 2023 season?"
   ]
  },
  {
   "cell_type": "code",
   "execution_count": 70,
   "metadata": {},
   "outputs": [
    {
     "name": "stderr",
     "output_type": "stream",
     "text": [
      "/var/folders/bs/1lgq_z0j12s291gbh297h38h0000gn/T/ipykernel_26631/40314853.py:5: SettingWithCopyWarning: \n",
      "A value is trying to be set on a copy of a slice from a DataFrame.\n",
      "Try using .loc[row_indexer,col_indexer] = value instead\n",
      "\n",
      "See the caveats in the documentation: https://pandas.pydata.org/pandas-docs/stable/user_guide/indexing.html#returning-a-view-versus-a-copy\n",
      "  question_17_df['game_id'] = question_17_df['game_id'].astype(str)\n"
     ]
    },
    {
     "data": {
      "text/html": [
       "<div>\n",
       "<style scoped>\n",
       "    .dataframe tbody tr th:only-of-type {\n",
       "        vertical-align: middle;\n",
       "    }\n",
       "\n",
       "    .dataframe tbody tr th {\n",
       "        vertical-align: top;\n",
       "    }\n",
       "\n",
       "    .dataframe thead th {\n",
       "        text-align: right;\n",
       "    }\n",
       "</style>\n",
       "<table border=\"1\" class=\"dataframe\">\n",
       "  <thead>\n",
       "    <tr style=\"text-align: right;\">\n",
       "      <th></th>\n",
       "      <th>team_display_name</th>\n",
       "      <th>three_point_field_goals_made</th>\n",
       "    </tr>\n",
       "  </thead>\n",
       "  <tbody>\n",
       "    <tr>\n",
       "      <th>0</th>\n",
       "      <td>Atlanta Dream</td>\n",
       "      <td>6.425</td>\n",
       "    </tr>\n",
       "    <tr>\n",
       "      <th>1</th>\n",
       "      <td>Chicago Sky</td>\n",
       "      <td>8.250</td>\n",
       "    </tr>\n",
       "    <tr>\n",
       "      <th>2</th>\n",
       "      <td>Connecticut Sun</td>\n",
       "      <td>7.175</td>\n",
       "    </tr>\n",
       "    <tr>\n",
       "      <th>3</th>\n",
       "      <td>Dallas Wings</td>\n",
       "      <td>6.750</td>\n",
       "    </tr>\n",
       "    <tr>\n",
       "      <th>4</th>\n",
       "      <td>Indiana Fever</td>\n",
       "      <td>6.725</td>\n",
       "    </tr>\n",
       "    <tr>\n",
       "      <th>5</th>\n",
       "      <td>Las Vegas Aces</td>\n",
       "      <td>9.275</td>\n",
       "    </tr>\n",
       "    <tr>\n",
       "      <th>6</th>\n",
       "      <td>Los Angeles Sparks</td>\n",
       "      <td>6.500</td>\n",
       "    </tr>\n",
       "    <tr>\n",
       "      <th>7</th>\n",
       "      <td>Minnesota Lynx</td>\n",
       "      <td>6.750</td>\n",
       "    </tr>\n",
       "    <tr>\n",
       "      <th>8</th>\n",
       "      <td>New York Liberty</td>\n",
       "      <td>11.100</td>\n",
       "    </tr>\n",
       "    <tr>\n",
       "      <th>9</th>\n",
       "      <td>Phoenix Mercury</td>\n",
       "      <td>6.775</td>\n",
       "    </tr>\n",
       "    <tr>\n",
       "      <th>10</th>\n",
       "      <td>Seattle Storm</td>\n",
       "      <td>8.500</td>\n",
       "    </tr>\n",
       "    <tr>\n",
       "      <th>11</th>\n",
       "      <td>Washington Mystics</td>\n",
       "      <td>7.750</td>\n",
       "    </tr>\n",
       "  </tbody>\n",
       "</table>\n",
       "</div>"
      ],
      "text/plain": [
       "     team_display_name  three_point_field_goals_made\n",
       "0        Atlanta Dream                         6.425\n",
       "1          Chicago Sky                         8.250\n",
       "2      Connecticut Sun                         7.175\n",
       "3         Dallas Wings                         6.750\n",
       "4        Indiana Fever                         6.725\n",
       "5       Las Vegas Aces                         9.275\n",
       "6   Los Angeles Sparks                         6.500\n",
       "7       Minnesota Lynx                         6.750\n",
       "8     New York Liberty                        11.100\n",
       "9      Phoenix Mercury                         6.775\n",
       "10       Seattle Storm                         8.500\n",
       "11  Washington Mystics                         7.750"
      ]
     },
     "metadata": {},
     "output_type": "display_data"
    }
   ],
   "source": [
    "question_17_df = team_box_2023_df[['team_display_name', 'three_point_field_goals_made', 'game_id']]\n",
    "\n",
    "question_17_games = schedule_2023_df[['id','type_abbreviation']].where(schedule_2023_df.type_abbreviation == 'STD').dropna().reset_index(drop=True)\n",
    "question_17_games['game_id'] = question_17_games['id'].astype(str).str[0:9]\n",
    "question_17_df['game_id'] = question_17_df['game_id'].astype(str)\n",
    "\n",
    "question_17_games\n",
    "# Join the DataFrame with specified suffixes to avoid column overlap\n",
    "question_17_df = question_17_df.join(question_17_games.set_index('game_id'), on='game_id', how='inner', lsuffix='_team', rsuffix='_game')\n",
    "\n",
    "question_17_df = question_17_df.groupby('team_display_name', as_index=False)['three_point_field_goals_made'].mean()\n",
    "display(question_17_df)"
   ]
  },
  {
   "cell_type": "markdown",
   "metadata": {},
   "source": [
    "# 18. Which games had the most technical fouls called between 2018 and 2024?"
   ]
  },
  {
   "cell_type": "code",
   "execution_count": 71,
   "metadata": {},
   "outputs": [],
   "source": [
    "question_18_df_2018 = team_box_2018_df[['game_id', 'game_date', 'team_display_name', 'total_technical_fouls', 'opponent_team_display_name', 'team_home_away']]\n",
    "question_18_df_2019 = team_box_2019_df[['game_id', 'game_date', 'team_display_name', 'total_technical_fouls', 'opponent_team_display_name', 'team_home_away']]\n",
    "question_18_df_2020 = team_box_2020_df[['game_id', 'game_date', 'team_display_name', 'total_technical_fouls', 'opponent_team_display_name', 'team_home_away']]\n",
    "question_18_df_2021 = team_box_2021_df[['game_id', 'game_date', 'team_display_name', 'total_technical_fouls', 'opponent_team_display_name', 'team_home_away']]\n",
    "question_18_df_2022 = team_box_2022_df[['game_id', 'game_date', 'team_display_name', 'total_technical_fouls', 'opponent_team_display_name', 'team_home_away']]\n",
    "question_18_df_2023 = team_box_2023_df[['game_id', 'game_date', 'team_display_name', 'total_technical_fouls', 'opponent_team_display_name', 'team_home_away']]\n",
    "question_18_df_2024 = team_box_2024_df[['game_id', 'game_date', 'team_display_name', 'total_technical_fouls', 'opponent_team_display_name', 'team_home_away']]\n",
    "\n",
    "question_18_df = pd.concat([question_18_df_2018, question_18_df_2019, question_18_df_2020, \n",
    "                           question_18_df_2021, question_18_df_2022, question_18_df_2023,\n",
    "                           question_18_df_2024], ignore_index=True)"
   ]
  },
  {
   "cell_type": "code",
   "execution_count": 72,
   "metadata": {},
   "outputs": [],
   "source": [
    "question_18_df_sub = question_18_df[['game_id', 'total_technical_fouls']]"
   ]
  },
  {
   "cell_type": "code",
   "execution_count": 73,
   "metadata": {},
   "outputs": [],
   "source": [
    "question_18_df_sub = question_18_df_sub.groupby('game_id', as_index=False)['total_technical_fouls'].sum()"
   ]
  },
  {
   "cell_type": "code",
   "execution_count": 74,
   "metadata": {},
   "outputs": [],
   "source": [
    "question_18_df_sub = question_18_df_sub.sort_values(by='total_technical_fouls', ascending=False)"
   ]
  },
  {
   "cell_type": "code",
   "execution_count": 75,
   "metadata": {},
   "outputs": [
    {
     "data": {
      "text/html": [
       "<div>\n",
       "<style scoped>\n",
       "    .dataframe tbody tr th:only-of-type {\n",
       "        vertical-align: middle;\n",
       "    }\n",
       "\n",
       "    .dataframe tbody tr th {\n",
       "        vertical-align: top;\n",
       "    }\n",
       "\n",
       "    .dataframe thead th {\n",
       "        text-align: right;\n",
       "    }\n",
       "</style>\n",
       "<table border=\"1\" class=\"dataframe\">\n",
       "  <thead>\n",
       "    <tr style=\"text-align: right;\">\n",
       "      <th></th>\n",
       "      <th>game_id</th>\n",
       "      <th>total_technical_fouls</th>\n",
       "    </tr>\n",
       "  </thead>\n",
       "  <tbody>\n",
       "    <tr>\n",
       "      <th>1106</th>\n",
       "      <td>401507196</td>\n",
       "      <td>10</td>\n",
       "    </tr>\n",
       "    <tr>\n",
       "      <th>136</th>\n",
       "      <td>401018917</td>\n",
       "      <td>9</td>\n",
       "    </tr>\n",
       "    <tr>\n",
       "      <th>648</th>\n",
       "      <td>401320624</td>\n",
       "      <td>7</td>\n",
       "    </tr>\n",
       "    <tr>\n",
       "      <th>23</th>\n",
       "      <td>401018804</td>\n",
       "      <td>6</td>\n",
       "    </tr>\n",
       "    <tr>\n",
       "      <th>178</th>\n",
       "      <td>401018960</td>\n",
       "      <td>6</td>\n",
       "    </tr>\n",
       "  </tbody>\n",
       "</table>\n",
       "</div>"
      ],
      "text/plain": [
       "        game_id  total_technical_fouls\n",
       "1106  401507196                     10\n",
       "136   401018917                      9\n",
       "648   401320624                      7\n",
       "23    401018804                      6\n",
       "178   401018960                      6"
      ]
     },
     "execution_count": 75,
     "metadata": {},
     "output_type": "execute_result"
    }
   ],
   "source": [
    "question_18_df_sub.head()"
   ]
  },
  {
   "cell_type": "code",
   "execution_count": 76,
   "metadata": {},
   "outputs": [],
   "source": [
    "question_18_df = question_18_df.drop_duplicates(subset='game_id')"
   ]
  },
  {
   "cell_type": "code",
   "execution_count": 77,
   "metadata": {},
   "outputs": [],
   "source": [
    "question_18_df = question_18_df.drop(columns=['total_technical_fouls'])"
   ]
  },
  {
   "cell_type": "code",
   "execution_count": 78,
   "metadata": {},
   "outputs": [
    {
     "data": {
      "text/html": [
       "<div>\n",
       "<style scoped>\n",
       "    .dataframe tbody tr th:only-of-type {\n",
       "        vertical-align: middle;\n",
       "    }\n",
       "\n",
       "    .dataframe tbody tr th {\n",
       "        vertical-align: top;\n",
       "    }\n",
       "\n",
       "    .dataframe thead th {\n",
       "        text-align: right;\n",
       "    }\n",
       "</style>\n",
       "<table border=\"1\" class=\"dataframe\">\n",
       "  <thead>\n",
       "    <tr style=\"text-align: right;\">\n",
       "      <th></th>\n",
       "      <th>game_id</th>\n",
       "      <th>game_date</th>\n",
       "      <th>team_display_name</th>\n",
       "      <th>opponent_team_display_name</th>\n",
       "      <th>team_home_away</th>\n",
       "    </tr>\n",
       "  </thead>\n",
       "  <tbody>\n",
       "    <tr>\n",
       "      <th>2474</th>\n",
       "      <td>401507196</td>\n",
       "      <td>2023-06-20</td>\n",
       "      <td>Atlanta Dream</td>\n",
       "      <td>Dallas Wings</td>\n",
       "      <td>away</td>\n",
       "    </tr>\n",
       "  </tbody>\n",
       "</table>\n",
       "</div>"
      ],
      "text/plain": [
       "        game_id   game_date team_display_name opponent_team_display_name  \\\n",
       "2474  401507196  2023-06-20     Atlanta Dream               Dallas Wings   \n",
       "\n",
       "     team_home_away  \n",
       "2474           away  "
      ]
     },
     "execution_count": 78,
     "metadata": {},
     "output_type": "execute_result"
    }
   ],
   "source": [
    "question_18_df[question_18_df['game_id'] == 401507196]"
   ]
  },
  {
   "cell_type": "code",
   "execution_count": 79,
   "metadata": {},
   "outputs": [
    {
     "data": {
      "text/html": [
       "<div>\n",
       "<style scoped>\n",
       "    .dataframe tbody tr th:only-of-type {\n",
       "        vertical-align: middle;\n",
       "    }\n",
       "\n",
       "    .dataframe tbody tr th {\n",
       "        vertical-align: top;\n",
       "    }\n",
       "\n",
       "    .dataframe thead th {\n",
       "        text-align: right;\n",
       "    }\n",
       "</style>\n",
       "<table border=\"1\" class=\"dataframe\">\n",
       "  <thead>\n",
       "    <tr style=\"text-align: right;\">\n",
       "      <th></th>\n",
       "      <th>game_id</th>\n",
       "      <th>game_date</th>\n",
       "      <th>team_display_name</th>\n",
       "      <th>opponent_team_display_name</th>\n",
       "      <th>team_home_away</th>\n",
       "    </tr>\n",
       "  </thead>\n",
       "  <tbody>\n",
       "    <tr>\n",
       "      <th>168</th>\n",
       "      <td>401018917</td>\n",
       "      <td>2018-07-19</td>\n",
       "      <td>New York Liberty</td>\n",
       "      <td>Atlanta Dream</td>\n",
       "      <td>away</td>\n",
       "    </tr>\n",
       "  </tbody>\n",
       "</table>\n",
       "</div>"
      ],
      "text/plain": [
       "       game_id   game_date team_display_name opponent_team_display_name  \\\n",
       "168  401018917  2018-07-19  New York Liberty              Atlanta Dream   \n",
       "\n",
       "    team_home_away  \n",
       "168           away  "
      ]
     },
     "execution_count": 79,
     "metadata": {},
     "output_type": "execute_result"
    }
   ],
   "source": [
    "question_18_df[question_18_df['game_id'] == 401018917]"
   ]
  },
  {
   "cell_type": "code",
   "execution_count": 80,
   "metadata": {},
   "outputs": [
    {
     "data": {
      "text/html": [
       "<div>\n",
       "<style scoped>\n",
       "    .dataframe tbody tr th:only-of-type {\n",
       "        vertical-align: middle;\n",
       "    }\n",
       "\n",
       "    .dataframe tbody tr th {\n",
       "        vertical-align: top;\n",
       "    }\n",
       "\n",
       "    .dataframe thead th {\n",
       "        text-align: right;\n",
       "    }\n",
       "</style>\n",
       "<table border=\"1\" class=\"dataframe\">\n",
       "  <thead>\n",
       "    <tr style=\"text-align: right;\">\n",
       "      <th></th>\n",
       "      <th>game_id</th>\n",
       "      <th>game_date</th>\n",
       "      <th>team_display_name</th>\n",
       "      <th>opponent_team_display_name</th>\n",
       "      <th>team_home_away</th>\n",
       "    </tr>\n",
       "  </thead>\n",
       "  <tbody>\n",
       "    <tr>\n",
       "      <th>1480</th>\n",
       "      <td>401320624</td>\n",
       "      <td>2021-06-12</td>\n",
       "      <td>Los Angeles Sparks</td>\n",
       "      <td>Minnesota Lynx</td>\n",
       "      <td>away</td>\n",
       "    </tr>\n",
       "  </tbody>\n",
       "</table>\n",
       "</div>"
      ],
      "text/plain": [
       "        game_id   game_date   team_display_name opponent_team_display_name  \\\n",
       "1480  401320624  2021-06-12  Los Angeles Sparks             Minnesota Lynx   \n",
       "\n",
       "     team_home_away  \n",
       "1480           away  "
      ]
     },
     "execution_count": 80,
     "metadata": {},
     "output_type": "execute_result"
    }
   ],
   "source": [
    "question_18_df[question_18_df['game_id'] == 401320624]"
   ]
  },
  {
   "cell_type": "markdown",
   "metadata": {},
   "source": [
    "# 19. Who were the top 3 rebounders in the 2021 season?"
   ]
  },
  {
   "cell_type": "code",
   "execution_count": 81,
   "metadata": {},
   "outputs": [],
   "source": [
    "question_19_df = player_box_2021_df[['athlete_display_name', 'rebounds']]"
   ]
  },
  {
   "cell_type": "code",
   "execution_count": 82,
   "metadata": {},
   "outputs": [],
   "source": [
    "question_19_df = question_19_df.groupby('athlete_display_name', as_index=False)['rebounds'].sum()"
   ]
  },
  {
   "cell_type": "code",
   "execution_count": 83,
   "metadata": {},
   "outputs": [],
   "source": [
    "question_19_df = question_19_df.sort_values(by='rebounds', ascending=False)"
   ]
  },
  {
   "cell_type": "code",
   "execution_count": 84,
   "metadata": {},
   "outputs": [
    {
     "data": {
      "text/html": [
       "<div>\n",
       "<style scoped>\n",
       "    .dataframe tbody tr th:only-of-type {\n",
       "        vertical-align: middle;\n",
       "    }\n",
       "\n",
       "    .dataframe tbody tr th {\n",
       "        vertical-align: top;\n",
       "    }\n",
       "\n",
       "    .dataframe thead th {\n",
       "        text-align: right;\n",
       "    }\n",
       "</style>\n",
       "<table border=\"1\" class=\"dataframe\">\n",
       "  <thead>\n",
       "    <tr style=\"text-align: right;\">\n",
       "      <th></th>\n",
       "      <th>athlete_display_name</th>\n",
       "      <th>rebounds</th>\n",
       "    </tr>\n",
       "  </thead>\n",
       "  <tbody>\n",
       "    <tr>\n",
       "      <th>26</th>\n",
       "      <td>Brianna Turner</td>\n",
       "      <td>411.0</td>\n",
       "    </tr>\n",
       "    <tr>\n",
       "      <th>30</th>\n",
       "      <td>Brittney Griner</td>\n",
       "      <td>379.0</td>\n",
       "    </tr>\n",
       "    <tr>\n",
       "      <th>76</th>\n",
       "      <td>Jonquel Jones</td>\n",
       "      <td>367.0</td>\n",
       "    </tr>\n",
       "    <tr>\n",
       "      <th>0</th>\n",
       "      <td>A'ja Wilson</td>\n",
       "      <td>349.0</td>\n",
       "    </tr>\n",
       "    <tr>\n",
       "      <th>149</th>\n",
       "      <td>Sylvia Fowles</td>\n",
       "      <td>327.0</td>\n",
       "    </tr>\n",
       "  </tbody>\n",
       "</table>\n",
       "</div>"
      ],
      "text/plain": [
       "    athlete_display_name  rebounds\n",
       "26        Brianna Turner     411.0\n",
       "30       Brittney Griner     379.0\n",
       "76         Jonquel Jones     367.0\n",
       "0            A'ja Wilson     349.0\n",
       "149        Sylvia Fowles     327.0"
      ]
     },
     "execution_count": 84,
     "metadata": {},
     "output_type": "execute_result"
    }
   ],
   "source": [
    "question_19_df.head()"
   ]
  },
  {
   "cell_type": "markdown",
   "metadata": {},
   "source": [
    "# 20. What was the total number of blocks by Brittney Griner in the 2023 season?"
   ]
  },
  {
   "cell_type": "code",
   "execution_count": 85,
   "metadata": {},
   "outputs": [],
   "source": [
    "question_20_df = player_box_2023_df[['athlete_display_name', 'blocks']]"
   ]
  },
  {
   "cell_type": "code",
   "execution_count": 86,
   "metadata": {},
   "outputs": [],
   "source": [
    "question_20_df = question_20_df.groupby('athlete_display_name', as_index=False)['blocks'].sum()"
   ]
  },
  {
   "cell_type": "code",
   "execution_count": 87,
   "metadata": {},
   "outputs": [
    {
     "data": {
      "text/html": [
       "<div>\n",
       "<style scoped>\n",
       "    .dataframe tbody tr th:only-of-type {\n",
       "        vertical-align: middle;\n",
       "    }\n",
       "\n",
       "    .dataframe tbody tr th {\n",
       "        vertical-align: top;\n",
       "    }\n",
       "\n",
       "    .dataframe thead th {\n",
       "        text-align: right;\n",
       "    }\n",
       "</style>\n",
       "<table border=\"1\" class=\"dataframe\">\n",
       "  <thead>\n",
       "    <tr style=\"text-align: right;\">\n",
       "      <th></th>\n",
       "      <th>athlete_display_name</th>\n",
       "      <th>blocks</th>\n",
       "    </tr>\n",
       "  </thead>\n",
       "  <tbody>\n",
       "    <tr>\n",
       "      <th>24</th>\n",
       "      <td>Brittney Griner</td>\n",
       "      <td>52.0</td>\n",
       "    </tr>\n",
       "  </tbody>\n",
       "</table>\n",
       "</div>"
      ],
      "text/plain": [
       "   athlete_display_name  blocks\n",
       "24      Brittney Griner    52.0"
      ]
     },
     "execution_count": 87,
     "metadata": {},
     "output_type": "execute_result"
    }
   ],
   "source": [
    "question_20_df[question_20_df['athlete_display_name'] == 'Brittney Griner']"
   ]
  },
  {
   "cell_type": "markdown",
   "metadata": {},
   "source": [
    "# 21. How did the average points per game of the top 3 scorers change each season from 2018 to 2024?"
   ]
  },
  {
   "cell_type": "code",
   "execution_count": 88,
   "metadata": {},
   "outputs": [],
   "source": [
    "question_21_df_2018 = player_box_2018_df[['athlete_display_name', 'game_id', 'points']]\n",
    "question_21_df_2024 = player_box_2024_df[['athlete_display_name', 'game_id', 'points']]\n",
    "\n",
    "def top_3_scorers(df):\n",
    "   \"\"\"Function that returns average points per game for the top 3 scorers\"\"\"\n",
    "   top_3_scorers = df.groupby('athlete_display_name')['points'].mean().nlargest(3)\n",
    "   return top_3_scorers\n",
    "\n",
    "top_3_scorers_2018 = top_3_scorers(question_21_df_2018)\n",
    "top_3_scorers_2024 = top_3_scorers(question_21_df_2024)"
   ]
  },
  {
   "cell_type": "code",
   "execution_count": 89,
   "metadata": {},
   "outputs": [
    {
     "data": {
      "text/plain": [
       "athlete_display_name\n",
       "Liz Cambage        22.647059\n",
       "Breanna Stewart    22.069767\n",
       "A'ja Wilson        20.588235\n",
       "Name: points, dtype: float64"
      ]
     },
     "execution_count": 89,
     "metadata": {},
     "output_type": "execute_result"
    }
   ],
   "source": [
    "top_3_scorers_2018"
   ]
  },
  {
   "cell_type": "code",
   "execution_count": 90,
   "metadata": {},
   "outputs": [
    {
     "data": {
      "text/plain": [
       "athlete_display_name\n",
       "A'ja Wilson         28.636364\n",
       "Arike Ogunbowale    26.181818\n",
       "Kahleah Copper      23.538462\n",
       "Name: points, dtype: float64"
      ]
     },
     "execution_count": 90,
     "metadata": {},
     "output_type": "execute_result"
    }
   ],
   "source": [
    "top_3_scorers_2024"
   ]
  },
  {
   "cell_type": "markdown",
   "metadata": {},
   "source": [
    "# 22. Which team had the highest average home game attendance in the 2021 season?"
   ]
  },
  {
   "cell_type": "code",
   "execution_count": 91,
   "metadata": {},
   "outputs": [],
   "source": [
    "question_22_df = schedule_2021_df[['home_display_name', 'attendance']]"
   ]
  },
  {
   "cell_type": "code",
   "execution_count": 92,
   "metadata": {},
   "outputs": [],
   "source": [
    "question_22_df = question_22_df.groupby('home_display_name', as_index=False)['attendance'].mean()"
   ]
  },
  {
   "cell_type": "code",
   "execution_count": 93,
   "metadata": {},
   "outputs": [],
   "source": [
    "question_22_df = question_22_df.sort_values(by='attendance', ascending=False)"
   ]
  },
  {
   "cell_type": "code",
   "execution_count": 94,
   "metadata": {},
   "outputs": [],
   "source": [
    "question_22_df = question_22_df[question_22_df['home_display_name'] != 'Team WNBA']"
   ]
  },
  {
   "cell_type": "code",
   "execution_count": 95,
   "metadata": {},
   "outputs": [
    {
     "data": {
      "text/html": [
       "<div>\n",
       "<style scoped>\n",
       "    .dataframe tbody tr th:only-of-type {\n",
       "        vertical-align: middle;\n",
       "    }\n",
       "\n",
       "    .dataframe tbody tr th {\n",
       "        vertical-align: top;\n",
       "    }\n",
       "\n",
       "    .dataframe thead th {\n",
       "        text-align: right;\n",
       "    }\n",
       "</style>\n",
       "<table border=\"1\" class=\"dataframe\">\n",
       "  <thead>\n",
       "    <tr style=\"text-align: right;\">\n",
       "      <th></th>\n",
       "      <th>home_display_name</th>\n",
       "      <th>attendance</th>\n",
       "    </tr>\n",
       "  </thead>\n",
       "  <tbody>\n",
       "    <tr>\n",
       "      <th>9</th>\n",
       "      <td>Phoenix Mercury</td>\n",
       "      <td>6744.428571</td>\n",
       "    </tr>\n",
       "    <tr>\n",
       "      <th>1</th>\n",
       "      <td>Chicago Sky</td>\n",
       "      <td>3840.666667</td>\n",
       "    </tr>\n",
       "    <tr>\n",
       "      <th>2</th>\n",
       "      <td>Connecticut Sun</td>\n",
       "      <td>3093.666667</td>\n",
       "    </tr>\n",
       "    <tr>\n",
       "      <th>5</th>\n",
       "      <td>Las Vegas Aces</td>\n",
       "      <td>2934.263158</td>\n",
       "    </tr>\n",
       "    <tr>\n",
       "      <th>10</th>\n",
       "      <td>Seattle Storm</td>\n",
       "      <td>2894.222222</td>\n",
       "    </tr>\n",
       "  </tbody>\n",
       "</table>\n",
       "</div>"
      ],
      "text/plain": [
       "   home_display_name   attendance\n",
       "9    Phoenix Mercury  6744.428571\n",
       "1        Chicago Sky  3840.666667\n",
       "2    Connecticut Sun  3093.666667\n",
       "5     Las Vegas Aces  2934.263158\n",
       "10     Seattle Storm  2894.222222"
      ]
     },
     "execution_count": 95,
     "metadata": {},
     "output_type": "execute_result"
    }
   ],
   "source": [
    "question_22_df.head()"
   ]
  },
  {
   "cell_type": "markdown",
   "metadata": {},
   "source": [
    "# 23. What was the average plus-minus of players who played more than 30 minutes per game in the 2022 season?"
   ]
  },
  {
   "cell_type": "code",
   "execution_count": 96,
   "metadata": {},
   "outputs": [],
   "source": [
    "question_23_df = player_box_2022_df[['plus_minus', 'minutes']]"
   ]
  },
  {
   "cell_type": "code",
   "execution_count": 97,
   "metadata": {},
   "outputs": [],
   "source": [
    "question_23_df = question_23_df[question_23_df['minutes'] > 30.0]"
   ]
  },
  {
   "cell_type": "code",
   "execution_count": 98,
   "metadata": {},
   "outputs": [],
   "source": [
    "question_23_df = question_23_df.drop(columns=['minutes'])"
   ]
  },
  {
   "cell_type": "code",
   "execution_count": 99,
   "metadata": {},
   "outputs": [
    {
     "name": "stderr",
     "output_type": "stream",
     "text": [
      "/var/folders/bs/1lgq_z0j12s291gbh297h38h0000gn/T/ipykernel_26631/3952893295.py:1: FutureWarning: The default value of regex will change from True to False in a future version. In addition, single character regular expressions will *not* be treated as literal strings when regex=True.\n",
      "  question_23_df['plus_minus'] = question_23_df['plus_minus'].str.replace('+', '').astype(int)\n"
     ]
    }
   ],
   "source": [
    "question_23_df['plus_minus'] = question_23_df['plus_minus'].str.replace('+', '').astype(int)"
   ]
  },
  {
   "cell_type": "code",
   "execution_count": 100,
   "metadata": {},
   "outputs": [
    {
     "data": {
      "text/plain": [
       "1.2449177153920619"
      ]
     },
     "execution_count": 100,
     "metadata": {},
     "output_type": "execute_result"
    }
   ],
   "source": [
    "question_23_df['plus_minus'].mean()"
   ]
  },
  {
   "cell_type": "markdown",
   "metadata": {},
   "source": [
    "# 24. Which player had the highest scoring average in games where their team lost during the 2020 season?"
   ]
  },
  {
   "cell_type": "code",
   "execution_count": 101,
   "metadata": {},
   "outputs": [],
   "source": [
    "question_24_df = player_box_2020_df[['athlete_display_name', 'points', 'team_winner']]"
   ]
  },
  {
   "cell_type": "code",
   "execution_count": 102,
   "metadata": {},
   "outputs": [],
   "source": [
    "question_24_df = question_24_df[question_24_df['team_winner'] == False]"
   ]
  },
  {
   "cell_type": "code",
   "execution_count": 103,
   "metadata": {},
   "outputs": [],
   "source": [
    "question_24_df = question_24_df.drop(columns=['team_winner'])"
   ]
  },
  {
   "cell_type": "code",
   "execution_count": 104,
   "metadata": {},
   "outputs": [],
   "source": [
    "question_24_df = question_24_df.groupby('athlete_display_name', as_index=False)['points'].mean()"
   ]
  },
  {
   "cell_type": "code",
   "execution_count": 105,
   "metadata": {},
   "outputs": [],
   "source": [
    "question_24_df = question_24_df.sort_values(by='points', ascending=False)"
   ]
  },
  {
   "cell_type": "code",
   "execution_count": 106,
   "metadata": {},
   "outputs": [
    {
     "data": {
      "text/html": [
       "<div>\n",
       "<style scoped>\n",
       "    .dataframe tbody tr th:only-of-type {\n",
       "        vertical-align: middle;\n",
       "    }\n",
       "\n",
       "    .dataframe tbody tr th {\n",
       "        vertical-align: top;\n",
       "    }\n",
       "\n",
       "    .dataframe thead th {\n",
       "        text-align: right;\n",
       "    }\n",
       "</style>\n",
       "<table border=\"1\" class=\"dataframe\">\n",
       "  <thead>\n",
       "    <tr style=\"text-align: right;\">\n",
       "      <th></th>\n",
       "      <th>athlete_display_name</th>\n",
       "      <th>points</th>\n",
       "    </tr>\n",
       "  </thead>\n",
       "  <tbody>\n",
       "    <tr>\n",
       "      <th>15</th>\n",
       "      <td>Arike Ogunbowale</td>\n",
       "      <td>20.714286</td>\n",
       "    </tr>\n",
       "    <tr>\n",
       "      <th>23</th>\n",
       "      <td>Breanna Stewart</td>\n",
       "      <td>20.666667</td>\n",
       "    </tr>\n",
       "    <tr>\n",
       "      <th>46</th>\n",
       "      <td>DeWanna Bonner</td>\n",
       "      <td>19.000000</td>\n",
       "    </tr>\n",
       "    <tr>\n",
       "      <th>125</th>\n",
       "      <td>Sabrina Ionescu</td>\n",
       "      <td>18.333333</td>\n",
       "    </tr>\n",
       "    <tr>\n",
       "      <th>69</th>\n",
       "      <td>Jewell Loyd</td>\n",
       "      <td>18.250000</td>\n",
       "    </tr>\n",
       "  </tbody>\n",
       "</table>\n",
       "</div>"
      ],
      "text/plain": [
       "    athlete_display_name     points\n",
       "15      Arike Ogunbowale  20.714286\n",
       "23       Breanna Stewart  20.666667\n",
       "46        DeWanna Bonner  19.000000\n",
       "125      Sabrina Ionescu  18.333333\n",
       "69           Jewell Loyd  18.250000"
      ]
     },
     "execution_count": 106,
     "metadata": {},
     "output_type": "execute_result"
    }
   ],
   "source": [
    "question_24_df.head()"
   ]
  },
  {
   "cell_type": "markdown",
   "metadata": {},
   "source": [
    "# 25. Compare the shooting percentages of three-point shots versus two-point shots for the top 5 scorers in the 2023 season."
   ]
  },
  {
   "cell_type": "code",
   "execution_count": 107,
   "metadata": {},
   "outputs": [
    {
     "data": {
      "text/html": [
       "<div>\n",
       "<style scoped>\n",
       "    .dataframe tbody tr th:only-of-type {\n",
       "        vertical-align: middle;\n",
       "    }\n",
       "\n",
       "    .dataframe tbody tr th {\n",
       "        vertical-align: top;\n",
       "    }\n",
       "\n",
       "    .dataframe thead th {\n",
       "        text-align: right;\n",
       "    }\n",
       "</style>\n",
       "<table border=\"1\" class=\"dataframe\">\n",
       "  <thead>\n",
       "    <tr style=\"text-align: right;\">\n",
       "      <th></th>\n",
       "      <th>athlete_display_name</th>\n",
       "      <th>field_goal_percentage</th>\n",
       "      <th>three_point_percentage</th>\n",
       "    </tr>\n",
       "  </thead>\n",
       "  <tbody>\n",
       "    <tr>\n",
       "      <th>0</th>\n",
       "      <td>A'ja Wilson</td>\n",
       "      <td>0.552972</td>\n",
       "      <td>0.324324</td>\n",
       "    </tr>\n",
       "    <tr>\n",
       "      <th>1</th>\n",
       "      <td>Breanna Stewart</td>\n",
       "      <td>0.437360</td>\n",
       "      <td>0.327526</td>\n",
       "    </tr>\n",
       "    <tr>\n",
       "      <th>2</th>\n",
       "      <td>Jewell Loyd</td>\n",
       "      <td>0.372475</td>\n",
       "      <td>0.363372</td>\n",
       "    </tr>\n",
       "    <tr>\n",
       "      <th>3</th>\n",
       "      <td>Arike Ogunbowale</td>\n",
       "      <td>0.395189</td>\n",
       "      <td>0.339332</td>\n",
       "    </tr>\n",
       "    <tr>\n",
       "      <th>4</th>\n",
       "      <td>Kelsey Plum</td>\n",
       "      <td>0.466374</td>\n",
       "      <td>0.397554</td>\n",
       "    </tr>\n",
       "  </tbody>\n",
       "</table>\n",
       "</div>"
      ],
      "text/plain": [
       "  athlete_display_name  field_goal_percentage  three_point_percentage\n",
       "0          A'ja Wilson               0.552972                0.324324\n",
       "1      Breanna Stewart               0.437360                0.327526\n",
       "2          Jewell Loyd               0.372475                0.363372\n",
       "3     Arike Ogunbowale               0.395189                0.339332\n",
       "4          Kelsey Plum               0.466374                0.397554"
      ]
     },
     "execution_count": 107,
     "metadata": {},
     "output_type": "execute_result"
    }
   ],
   "source": [
    "question_25_df = player_box_2023_df[['athlete_display_name', 'points', 'field_goals_made', 'field_goals_attempted', 'three_point_field_goals_made', 'three_point_field_goals_attempted']]\n",
    "question_25_df = question_25_df.groupby('athlete_display_name', as_index=False).sum().sort_values(by='points', ascending=False).reset_index(drop=True)\n",
    "question_25_df['field_goal_percentage'] = question_25_df['field_goals_made'] / question_25_df['field_goals_attempted']\n",
    "question_25_df['three_point_percentage'] = question_25_df['three_point_field_goals_made'] / question_25_df['three_point_field_goals_attempted']\n",
    "\n",
    "# Limit to top 5 scorers\n",
    "question_25_df = question_25_df.head(5)\n",
    "question_25_df[['athlete_display_name','field_goal_percentage','three_point_percentage']]\n"
   ]
  },
  {
   "cell_type": "markdown",
   "metadata": {},
   "source": [
    "# 26. Which player had the highest average assists in the last 3 minutes of games during the 2021 season?"
   ]
  },
  {
   "cell_type": "code",
   "execution_count": 108,
   "metadata": {},
   "outputs": [],
   "source": [
    "question_26_df = pbp_2021_df[['athlete_id_2', 'text', 'scoring_play', 'start_game_seconds_remaining', 'game_id']]"
   ]
  },
  {
   "cell_type": "code",
   "execution_count": 109,
   "metadata": {},
   "outputs": [],
   "source": [
    "question_26_df = question_26_df[question_26_df['scoring_play'] == True]"
   ]
  },
  {
   "cell_type": "code",
   "execution_count": 110,
   "metadata": {},
   "outputs": [],
   "source": [
    "question_26_df = question_26_df[question_26_df['start_game_seconds_remaining'] < 180]"
   ]
  },
  {
   "cell_type": "code",
   "execution_count": 111,
   "metadata": {},
   "outputs": [],
   "source": [
    "question_26_df['text'] = question_26_df['text'].str.lower()"
   ]
  },
  {
   "cell_type": "code",
   "execution_count": 112,
   "metadata": {},
   "outputs": [],
   "source": [
    "question_26_df = question_26_df[question_26_df['text'].str.contains('assists')]"
   ]
  },
  {
   "cell_type": "code",
   "execution_count": 113,
   "metadata": {},
   "outputs": [],
   "source": [
    "question_26_df = question_26_df.drop(columns=['text', 'scoring_play', 'start_game_seconds_remaining'])"
   ]
  },
  {
   "cell_type": "code",
   "execution_count": 114,
   "metadata": {},
   "outputs": [],
   "source": [
    "question_26_df['assist_count'] = 1"
   ]
  },
  {
   "cell_type": "code",
   "execution_count": 115,
   "metadata": {},
   "outputs": [],
   "source": [
    "question_26_df = question_26_df.groupby(['athlete_id_2', 'game_id'])['assist_count'].sum().reset_index()"
   ]
  },
  {
   "cell_type": "code",
   "execution_count": 116,
   "metadata": {},
   "outputs": [],
   "source": [
    "question_26_df['game_id'] = 1"
   ]
  },
  {
   "cell_type": "code",
   "execution_count": 117,
   "metadata": {},
   "outputs": [
    {
     "name": "stderr",
     "output_type": "stream",
     "text": [
      "/var/folders/bs/1lgq_z0j12s291gbh297h38h0000gn/T/ipykernel_26631/3166729950.py:1: FutureWarning: Indexing with multiple keys (implicitly converted to a tuple of keys) will be deprecated, use a list instead.\n",
      "  question_26_df = question_26_df.groupby(['athlete_id_2'])['game_id', 'assist_count'].sum().reset_index()\n"
     ]
    }
   ],
   "source": [
    "question_26_df = question_26_df.groupby(['athlete_id_2'])['game_id', 'assist_count'].sum().reset_index()"
   ]
  },
  {
   "cell_type": "code",
   "execution_count": 118,
   "metadata": {},
   "outputs": [],
   "source": [
    "question_26_df['APG'] = question_26_df['assist_count'] / question_26_df['game_id']"
   ]
  },
  {
   "cell_type": "code",
   "execution_count": 119,
   "metadata": {},
   "outputs": [],
   "source": [
    "question_26_df = question_26_df.drop(columns=['assist_count', 'game_id'])"
   ]
  },
  {
   "cell_type": "code",
   "execution_count": 120,
   "metadata": {},
   "outputs": [],
   "source": [
    "question_26_df = question_26_df.sort_values(by='APG', ascending=False)"
   ]
  },
  {
   "cell_type": "code",
   "execution_count": 121,
   "metadata": {},
   "outputs": [
    {
     "data": {
      "text/html": [
       "<div>\n",
       "<style scoped>\n",
       "    .dataframe tbody tr th:only-of-type {\n",
       "        vertical-align: middle;\n",
       "    }\n",
       "\n",
       "    .dataframe tbody tr th {\n",
       "        vertical-align: top;\n",
       "    }\n",
       "\n",
       "    .dataframe thead th {\n",
       "        text-align: right;\n",
       "    }\n",
       "</style>\n",
       "<table border=\"1\" class=\"dataframe\">\n",
       "  <thead>\n",
       "    <tr style=\"text-align: right;\">\n",
       "      <th></th>\n",
       "      <th>athlete_id_2</th>\n",
       "      <th>APG</th>\n",
       "    </tr>\n",
       "  </thead>\n",
       "  <tbody>\n",
       "    <tr>\n",
       "      <th>2</th>\n",
       "      <td>689.0</td>\n",
       "      <td>2.000000</td>\n",
       "    </tr>\n",
       "    <tr>\n",
       "      <th>123</th>\n",
       "      <td>4282168.0</td>\n",
       "      <td>2.000000</td>\n",
       "    </tr>\n",
       "    <tr>\n",
       "      <th>15</th>\n",
       "      <td>981.0</td>\n",
       "      <td>1.875000</td>\n",
       "    </tr>\n",
       "    <tr>\n",
       "      <th>81</th>\n",
       "      <td>3142250.0</td>\n",
       "      <td>1.800000</td>\n",
       "    </tr>\n",
       "    <tr>\n",
       "      <th>26</th>\n",
       "      <td>2284331.0</td>\n",
       "      <td>1.666667</td>\n",
       "    </tr>\n",
       "  </tbody>\n",
       "</table>\n",
       "</div>"
      ],
      "text/plain": [
       "     athlete_id_2       APG\n",
       "2           689.0  2.000000\n",
       "123     4282168.0  2.000000\n",
       "15          981.0  1.875000\n",
       "81      3142250.0  1.800000\n",
       "26      2284331.0  1.666667"
      ]
     },
     "execution_count": 121,
     "metadata": {},
     "output_type": "execute_result"
    }
   ],
   "source": [
    "question_26_df.head()"
   ]
  },
  {
   "cell_type": "code",
   "execution_count": 122,
   "metadata": {},
   "outputs": [],
   "source": [
    "question_26_df_player_info = player_info_df[['athlete_id', 'athlete_name']]"
   ]
  },
  {
   "cell_type": "code",
   "execution_count": 123,
   "metadata": {},
   "outputs": [],
   "source": [
    "question_26_df_player_info = question_26_df_player_info[(question_26_df_player_info['athlete_id'] == 689) | (question_26_df_player_info['athlete_id'] == 4282168)]"
   ]
  },
  {
   "cell_type": "code",
   "execution_count": 124,
   "metadata": {},
   "outputs": [
    {
     "data": {
      "text/html": [
       "<div>\n",
       "<style scoped>\n",
       "    .dataframe tbody tr th:only-of-type {\n",
       "        vertical-align: middle;\n",
       "    }\n",
       "\n",
       "    .dataframe tbody tr th {\n",
       "        vertical-align: top;\n",
       "    }\n",
       "\n",
       "    .dataframe thead th {\n",
       "        text-align: right;\n",
       "    }\n",
       "</style>\n",
       "<table border=\"1\" class=\"dataframe\">\n",
       "  <thead>\n",
       "    <tr style=\"text-align: right;\">\n",
       "      <th></th>\n",
       "      <th>athlete_id</th>\n",
       "      <th>athlete_name</th>\n",
       "    </tr>\n",
       "  </thead>\n",
       "  <tbody>\n",
       "    <tr>\n",
       "      <th>13</th>\n",
       "      <td>689</td>\n",
       "      <td>Candice Dupree</td>\n",
       "    </tr>\n",
       "    <tr>\n",
       "      <th>276</th>\n",
       "      <td>4282168</td>\n",
       "      <td>Kiana Williams</td>\n",
       "    </tr>\n",
       "  </tbody>\n",
       "</table>\n",
       "</div>"
      ],
      "text/plain": [
       "     athlete_id    athlete_name\n",
       "13          689  Candice Dupree\n",
       "276     4282168  Kiana Williams"
      ]
     },
     "execution_count": 124,
     "metadata": {},
     "output_type": "execute_result"
    }
   ],
   "source": [
    "question_26_df_player_info"
   ]
  },
  {
   "cell_type": "markdown",
   "metadata": {},
   "source": [
    "# 29. Identify the player with the most made pull-up jump shots between 2018 and 2024."
   ]
  },
  {
   "cell_type": "code",
   "execution_count": 125,
   "metadata": {},
   "outputs": [],
   "source": [
    "question_29_df_2018 = pbp_2018_df[['athlete_id_1', 'type_text', 'scoring_play']]\n",
    "question_29_df_2019 = pbp_2019_df[['athlete_id_1', 'type_text', 'scoring_play']]\n",
    "question_29_df_2020 = pbp_2020_df[['athlete_id_1', 'type_text', 'scoring_play']]\n",
    "question_29_df_2021 = pbp_2021_df[['athlete_id_1', 'type_text', 'scoring_play']]\n",
    "question_29_df_2022 = pbp_2022_df[['athlete_id_1', 'type_text', 'scoring_play']]\n",
    "question_29_df_2023 = pbp_2023_df[['athlete_id_1', 'type_text', 'scoring_play']]\n",
    "question_29_df_2024 = pbp_2024_df[['athlete_id_1', 'type_text', 'scoring_play']]\n",
    "\n",
    "question_29_df = pd.concat([question_29_df_2018, question_29_df_2019, question_29_df_2020, \n",
    "                           question_29_df_2021, question_29_df_2022, question_29_df_2023,\n",
    "                           question_29_df_2024], ignore_index=True)"
   ]
  },
  {
   "cell_type": "code",
   "execution_count": 126,
   "metadata": {},
   "outputs": [],
   "source": [
    "question_29_df['type_text'] = question_29_df['type_text'].str.lower()"
   ]
  },
  {
   "cell_type": "code",
   "execution_count": 127,
   "metadata": {},
   "outputs": [],
   "source": [
    "question_29_df = question_29_df[question_29_df['type_text'].str.contains('pullup')]"
   ]
  },
  {
   "cell_type": "code",
   "execution_count": 128,
   "metadata": {},
   "outputs": [],
   "source": [
    "question_29_df = question_29_df.drop(columns=['type_text'])"
   ]
  },
  {
   "cell_type": "code",
   "execution_count": 129,
   "metadata": {},
   "outputs": [],
   "source": [
    "question_29_df = question_29_df[question_29_df['scoring_play'] == True]"
   ]
  },
  {
   "cell_type": "code",
   "execution_count": 130,
   "metadata": {},
   "outputs": [],
   "source": [
    "question_29_df = question_29_df.astype(int)"
   ]
  },
  {
   "cell_type": "code",
   "execution_count": 131,
   "metadata": {},
   "outputs": [],
   "source": [
    "question_29_df = question_29_df.groupby('athlete_id_1', as_index=False)['scoring_play'].sum()"
   ]
  },
  {
   "cell_type": "code",
   "execution_count": 132,
   "metadata": {},
   "outputs": [],
   "source": [
    "question_29_df = question_29_df.sort_values(by='scoring_play', ascending=False)"
   ]
  },
  {
   "cell_type": "code",
   "execution_count": 133,
   "metadata": {},
   "outputs": [
    {
     "data": {
      "text/html": [
       "<div>\n",
       "<style scoped>\n",
       "    .dataframe tbody tr th:only-of-type {\n",
       "        vertical-align: middle;\n",
       "    }\n",
       "\n",
       "    .dataframe tbody tr th {\n",
       "        vertical-align: top;\n",
       "    }\n",
       "\n",
       "    .dataframe thead th {\n",
       "        text-align: right;\n",
       "    }\n",
       "</style>\n",
       "<table border=\"1\" class=\"dataframe\">\n",
       "  <thead>\n",
       "    <tr style=\"text-align: right;\">\n",
       "      <th></th>\n",
       "      <th>athlete_id_1</th>\n",
       "      <th>scoring_play</th>\n",
       "    </tr>\n",
       "  </thead>\n",
       "  <tbody>\n",
       "    <tr>\n",
       "      <th>101</th>\n",
       "      <td>2987891</td>\n",
       "      <td>488</td>\n",
       "    </tr>\n",
       "    <tr>\n",
       "      <th>69</th>\n",
       "      <td>2529122</td>\n",
       "      <td>367</td>\n",
       "    </tr>\n",
       "    <tr>\n",
       "      <th>149</th>\n",
       "      <td>3904577</td>\n",
       "      <td>241</td>\n",
       "    </tr>\n",
       "    <tr>\n",
       "      <th>133</th>\n",
       "      <td>3142191</td>\n",
       "      <td>238</td>\n",
       "    </tr>\n",
       "    <tr>\n",
       "      <th>175</th>\n",
       "      <td>4065870</td>\n",
       "      <td>233</td>\n",
       "    </tr>\n",
       "  </tbody>\n",
       "</table>\n",
       "</div>"
      ],
      "text/plain": [
       "     athlete_id_1  scoring_play\n",
       "101       2987891           488\n",
       "69        2529122           367\n",
       "149       3904577           241\n",
       "133       3142191           238\n",
       "175       4065870           233"
      ]
     },
     "execution_count": 133,
     "metadata": {},
     "output_type": "execute_result"
    }
   ],
   "source": [
    "question_29_df.head()"
   ]
  },
  {
   "cell_type": "code",
   "execution_count": 134,
   "metadata": {},
   "outputs": [],
   "source": [
    "question_29_df_player_info = player_info_df[['athlete_id', 'athlete_name']]"
   ]
  },
  {
   "cell_type": "code",
   "execution_count": 135,
   "metadata": {},
   "outputs": [],
   "source": [
    "question_29_df_player_info = question_29_df_player_info[question_29_df_player_info['athlete_id'] == 2987891]"
   ]
  },
  {
   "cell_type": "code",
   "execution_count": 136,
   "metadata": {},
   "outputs": [
    {
     "data": {
      "text/html": [
       "<div>\n",
       "<style scoped>\n",
       "    .dataframe tbody tr th:only-of-type {\n",
       "        vertical-align: middle;\n",
       "    }\n",
       "\n",
       "    .dataframe tbody tr th {\n",
       "        vertical-align: top;\n",
       "    }\n",
       "\n",
       "    .dataframe thead th {\n",
       "        text-align: right;\n",
       "    }\n",
       "</style>\n",
       "<table border=\"1\" class=\"dataframe\">\n",
       "  <thead>\n",
       "    <tr style=\"text-align: right;\">\n",
       "      <th></th>\n",
       "      <th>athlete_id</th>\n",
       "      <th>athlete_name</th>\n",
       "    </tr>\n",
       "  </thead>\n",
       "  <tbody>\n",
       "    <tr>\n",
       "      <th>133</th>\n",
       "      <td>2987891</td>\n",
       "      <td>Courtney Williams</td>\n",
       "    </tr>\n",
       "  </tbody>\n",
       "</table>\n",
       "</div>"
      ],
      "text/plain": [
       "     athlete_id       athlete_name\n",
       "133     2987891  Courtney Williams"
      ]
     },
     "execution_count": 136,
     "metadata": {},
     "output_type": "execute_result"
    }
   ],
   "source": [
    "question_29_df_player_info"
   ]
  },
  {
   "cell_type": "markdown",
   "metadata": {},
   "source": [
    "# 30. Which team had the most efficient offense in terms of points per shot attempt, excluding free throws, in the 2023 season?"
   ]
  },
  {
   "cell_type": "code",
   "execution_count": 137,
   "metadata": {},
   "outputs": [],
   "source": [
    "question_30_df = team_box_2023_df[['team_display_name', 'team_score', 'field_goals_attempted', 'free_throws_made']]"
   ]
  },
  {
   "cell_type": "code",
   "execution_count": 138,
   "metadata": {},
   "outputs": [
    {
     "name": "stderr",
     "output_type": "stream",
     "text": [
      "/var/folders/bs/1lgq_z0j12s291gbh297h38h0000gn/T/ipykernel_26631/3461317518.py:1: SettingWithCopyWarning: \n",
      "A value is trying to be set on a copy of a slice from a DataFrame.\n",
      "Try using .loc[row_indexer,col_indexer] = value instead\n",
      "\n",
      "See the caveats in the documentation: https://pandas.pydata.org/pandas-docs/stable/user_guide/indexing.html#returning-a-view-versus-a-copy\n",
      "  question_30_df['team_score'] = question_30_df['team_score'] - question_30_df['free_throws_made']\n"
     ]
    }
   ],
   "source": [
    "question_30_df['team_score'] = question_30_df['team_score'] - question_30_df['free_throws_made']"
   ]
  },
  {
   "cell_type": "code",
   "execution_count": 139,
   "metadata": {},
   "outputs": [],
   "source": [
    "question_30_df = question_30_df.drop(columns=['free_throws_made'])"
   ]
  },
  {
   "cell_type": "code",
   "execution_count": 140,
   "metadata": {},
   "outputs": [],
   "source": [
    "question_30_df = question_30_df[question_30_df['team_display_name'] != 'Team Wilson']\n",
    "question_30_df = question_30_df[question_30_df['team_display_name'] != 'Team Stewart']"
   ]
  },
  {
   "cell_type": "code",
   "execution_count": 141,
   "metadata": {},
   "outputs": [
    {
     "name": "stderr",
     "output_type": "stream",
     "text": [
      "/var/folders/bs/1lgq_z0j12s291gbh297h38h0000gn/T/ipykernel_26631/1916515642.py:1: FutureWarning: Indexing with multiple keys (implicitly converted to a tuple of keys) will be deprecated, use a list instead.\n",
      "  question_30_df = question_30_df.groupby(['team_display_name'])['team_score', 'field_goals_attempted'].sum()\n"
     ]
    }
   ],
   "source": [
    "question_30_df = question_30_df.groupby(['team_display_name'])['team_score', 'field_goals_attempted'].sum()"
   ]
  },
  {
   "cell_type": "code",
   "execution_count": 142,
   "metadata": {},
   "outputs": [],
   "source": [
    "question_30_df['points_per_shot_attempt'] = question_30_df['team_score'] / question_30_df['field_goals_attempted']"
   ]
  },
  {
   "cell_type": "code",
   "execution_count": 143,
   "metadata": {},
   "outputs": [],
   "source": [
    "question_30_df = question_30_df.drop(columns=['team_score', 'field_goals_attempted'])"
   ]
  },
  {
   "cell_type": "code",
   "execution_count": 144,
   "metadata": {},
   "outputs": [],
   "source": [
    "question_30_df = question_30_df.sort_values(by='points_per_shot_attempt', ascending=False)"
   ]
  },
  {
   "cell_type": "code",
   "execution_count": 145,
   "metadata": {},
   "outputs": [
    {
     "data": {
      "text/html": [
       "<div>\n",
       "<style scoped>\n",
       "    .dataframe tbody tr th:only-of-type {\n",
       "        vertical-align: middle;\n",
       "    }\n",
       "\n",
       "    .dataframe tbody tr th {\n",
       "        vertical-align: top;\n",
       "    }\n",
       "\n",
       "    .dataframe thead th {\n",
       "        text-align: right;\n",
       "    }\n",
       "</style>\n",
       "<table border=\"1\" class=\"dataframe\">\n",
       "  <thead>\n",
       "    <tr style=\"text-align: right;\">\n",
       "      <th></th>\n",
       "      <th>points_per_shot_attempt</th>\n",
       "    </tr>\n",
       "    <tr>\n",
       "      <th>team_display_name</th>\n",
       "      <th></th>\n",
       "    </tr>\n",
       "  </thead>\n",
       "  <tbody>\n",
       "    <tr>\n",
       "      <th>Las Vegas Aces</th>\n",
       "      <td>1.083768</td>\n",
       "    </tr>\n",
       "    <tr>\n",
       "      <th>New York Liberty</th>\n",
       "      <td>1.058182</td>\n",
       "    </tr>\n",
       "    <tr>\n",
       "      <th>Connecticut Sun</th>\n",
       "      <td>1.005324</td>\n",
       "    </tr>\n",
       "    <tr>\n",
       "      <th>Phoenix Mercury</th>\n",
       "      <td>0.994136</td>\n",
       "    </tr>\n",
       "    <tr>\n",
       "      <th>Chicago Sky</th>\n",
       "      <td>0.992466</td>\n",
       "    </tr>\n",
       "  </tbody>\n",
       "</table>\n",
       "</div>"
      ],
      "text/plain": [
       "                   points_per_shot_attempt\n",
       "team_display_name                         \n",
       "Las Vegas Aces                    1.083768\n",
       "New York Liberty                  1.058182\n",
       "Connecticut Sun                   1.005324\n",
       "Phoenix Mercury                   0.994136\n",
       "Chicago Sky                       0.992466"
      ]
     },
     "execution_count": 145,
     "metadata": {},
     "output_type": "execute_result"
    }
   ],
   "source": [
    "question_30_df.head()"
   ]
  },
  {
   "cell_type": "markdown",
   "metadata": {},
   "source": [
    "# 31. What was the shooting percentage of players on pull-up jumpers in the 2022 season?"
   ]
  },
  {
   "cell_type": "code",
   "execution_count": 146,
   "metadata": {},
   "outputs": [],
   "source": [
    "question_31_df = pbp_2022_df[['type_text', 'scoring_play', 'shooting_play']]"
   ]
  },
  {
   "cell_type": "code",
   "execution_count": 147,
   "metadata": {},
   "outputs": [
    {
     "name": "stderr",
     "output_type": "stream",
     "text": [
      "/var/folders/bs/1lgq_z0j12s291gbh297h38h0000gn/T/ipykernel_26631/2359925827.py:1: SettingWithCopyWarning: \n",
      "A value is trying to be set on a copy of a slice from a DataFrame.\n",
      "Try using .loc[row_indexer,col_indexer] = value instead\n",
      "\n",
      "See the caveats in the documentation: https://pandas.pydata.org/pandas-docs/stable/user_guide/indexing.html#returning-a-view-versus-a-copy\n",
      "  question_31_df['type_text'] = question_31_df['type_text'].str.lower()\n"
     ]
    }
   ],
   "source": [
    "question_31_df['type_text'] = question_31_df['type_text'].str.lower()"
   ]
  },
  {
   "cell_type": "code",
   "execution_count": 148,
   "metadata": {},
   "outputs": [],
   "source": [
    "question_31_df = question_31_df[question_31_df['type_text'].str.contains('pullup')]"
   ]
  },
  {
   "cell_type": "code",
   "execution_count": 149,
   "metadata": {},
   "outputs": [],
   "source": [
    "question_31_df = question_31_df.drop(columns=['type_text'])"
   ]
  },
  {
   "cell_type": "code",
   "execution_count": 150,
   "metadata": {},
   "outputs": [],
   "source": [
    "question_31_df = question_31_df.astype(int)"
   ]
  },
  {
   "cell_type": "code",
   "execution_count": 151,
   "metadata": {},
   "outputs": [],
   "source": [
    "question_31_df = pd.DataFrame(question_31_df.sum()).transpose()"
   ]
  },
  {
   "cell_type": "code",
   "execution_count": 152,
   "metadata": {},
   "outputs": [],
   "source": [
    "question_31_df['shoot_perc'] = question_31_df['scoring_play'] / question_31_df['shooting_play']"
   ]
  },
  {
   "cell_type": "code",
   "execution_count": 153,
   "metadata": {},
   "outputs": [],
   "source": [
    "question_31_df = question_31_df.drop(columns=['scoring_play', 'shooting_play'])"
   ]
  },
  {
   "cell_type": "code",
   "execution_count": 154,
   "metadata": {},
   "outputs": [
    {
     "data": {
      "text/html": [
       "<div>\n",
       "<style scoped>\n",
       "    .dataframe tbody tr th:only-of-type {\n",
       "        vertical-align: middle;\n",
       "    }\n",
       "\n",
       "    .dataframe tbody tr th {\n",
       "        vertical-align: top;\n",
       "    }\n",
       "\n",
       "    .dataframe thead th {\n",
       "        text-align: right;\n",
       "    }\n",
       "</style>\n",
       "<table border=\"1\" class=\"dataframe\">\n",
       "  <thead>\n",
       "    <tr style=\"text-align: right;\">\n",
       "      <th></th>\n",
       "      <th>shoot_perc</th>\n",
       "    </tr>\n",
       "  </thead>\n",
       "  <tbody>\n",
       "    <tr>\n",
       "      <th>0</th>\n",
       "      <td>0.360007</td>\n",
       "    </tr>\n",
       "  </tbody>\n",
       "</table>\n",
       "</div>"
      ],
      "text/plain": [
       "   shoot_perc\n",
       "0    0.360007"
      ]
     },
     "execution_count": 154,
     "metadata": {},
     "output_type": "execute_result"
    }
   ],
   "source": [
    "question_31_df"
   ]
  },
  {
   "cell_type": "markdown",
   "metadata": {},
   "source": [
    "# 32. Which player had the most significant improvement in scoring average from one season to the next between 2018 and 2024? Consider out of players who played at least 100 minutes per season."
   ]
  },
  {
   "cell_type": "code",
   "execution_count": 155,
   "metadata": {},
   "outputs": [],
   "source": [
    "question_32_df_2018 = player_box_2018_df[['season', 'season_type', 'athlete_display_name', 'did_not_play', 'minutes', 'points']]\n",
    "question_32_df_2019 = player_box_2019_df[['season', 'season_type', 'athlete_display_name', 'did_not_play', 'minutes', 'points']]\n",
    "question_32_df_2020 = player_box_2020_df[['season', 'season_type', 'athlete_display_name', 'did_not_play', 'minutes', 'points']]\n",
    "question_32_df_2021 = player_box_2021_df[['season', 'season_type', 'athlete_display_name', 'did_not_play', 'minutes', 'points']]\n",
    "question_32_df_2022 = player_box_2022_df[['season', 'season_type', 'athlete_display_name', 'did_not_play', 'minutes', 'points']]\n",
    "question_32_df_2023 = player_box_2023_df[['season', 'season_type', 'athlete_display_name', 'did_not_play', 'minutes', 'points']]\n",
    "question_32_df_2024 = player_box_2024_df[['season', 'season_type', 'athlete_display_name', 'did_not_play', 'minutes', 'points']]\n",
    "\n",
    "question_32_df = pd.concat([question_32_df_2018, question_32_df_2019, question_32_df_2020, \n",
    "                           question_32_df_2021, question_32_df_2022, question_32_df_2023,\n",
    "                           question_32_df_2024], ignore_index=True)"
   ]
  },
  {
   "cell_type": "code",
   "execution_count": 156,
   "metadata": {},
   "outputs": [],
   "source": [
    "question_32_df = question_32_df[question_32_df['season_type'] == 2]"
   ]
  },
  {
   "cell_type": "code",
   "execution_count": 157,
   "metadata": {},
   "outputs": [],
   "source": [
    "question_32_df = question_32_df[question_32_df['did_not_play'] == False]"
   ]
  },
  {
   "cell_type": "code",
   "execution_count": 158,
   "metadata": {},
   "outputs": [],
   "source": [
    "question_32_df = question_32_df.drop(columns=['season_type', 'did_not_play'])"
   ]
  },
  {
   "cell_type": "code",
   "execution_count": 159,
   "metadata": {},
   "outputs": [],
   "source": [
    "question_32_df['games'] = 1"
   ]
  },
  {
   "cell_type": "code",
   "execution_count": 160,
   "metadata": {},
   "outputs": [
    {
     "name": "stderr",
     "output_type": "stream",
     "text": [
      "/var/folders/bs/1lgq_z0j12s291gbh297h38h0000gn/T/ipykernel_26631/1213672606.py:1: FutureWarning: Indexing with multiple keys (implicitly converted to a tuple of keys) will be deprecated, use a list instead.\n",
      "  question_32_df = question_32_df.groupby(['athlete_display_name', 'season'])['points', 'games', 'minutes'].sum().reset_index()\n"
     ]
    }
   ],
   "source": [
    "question_32_df = question_32_df.groupby(['athlete_display_name', 'season'])['points', 'games', 'minutes'].sum().reset_index()"
   ]
  },
  {
   "cell_type": "code",
   "execution_count": 161,
   "metadata": {},
   "outputs": [],
   "source": [
    "question_32_df = question_32_df[question_32_df['minutes'] >= 100]"
   ]
  },
  {
   "cell_type": "code",
   "execution_count": 162,
   "metadata": {},
   "outputs": [],
   "source": [
    "question_32_df['PPG'] = question_32_df['points'] / question_32_df['games']"
   ]
  },
  {
   "cell_type": "code",
   "execution_count": 163,
   "metadata": {},
   "outputs": [],
   "source": [
    "question_32_df = question_32_df.drop(columns=['points', 'games', 'minutes'])"
   ]
  },
  {
   "cell_type": "code",
   "execution_count": 164,
   "metadata": {},
   "outputs": [],
   "source": [
    "question_32_df = question_32_df.sort_values(by=['athlete_display_name', 'season'])"
   ]
  },
  {
   "cell_type": "code",
   "execution_count": 165,
   "metadata": {},
   "outputs": [],
   "source": [
    "question_32_df['PPG_diff'] = question_32_df.groupby('athlete_display_name')['PPG'].diff()\n",
    "question_32_df['season_diff'] = question_32_df.groupby('athlete_display_name')['season'].diff()"
   ]
  },
  {
   "cell_type": "code",
   "execution_count": 166,
   "metadata": {},
   "outputs": [],
   "source": [
    "question_32_df = question_32_df[(question_32_df['season_diff'] == 1)]"
   ]
  },
  {
   "cell_type": "code",
   "execution_count": 167,
   "metadata": {},
   "outputs": [],
   "source": [
    "question_32_df = question_32_df.drop(columns=['PPG', 'season_diff'])"
   ]
  },
  {
   "cell_type": "code",
   "execution_count": 168,
   "metadata": {},
   "outputs": [],
   "source": [
    "question_32_df = question_32_df.sort_values(by='PPG_diff', ascending=False)"
   ]
  },
  {
   "cell_type": "code",
   "execution_count": 169,
   "metadata": {},
   "outputs": [
    {
     "data": {
      "text/html": [
       "<div>\n",
       "<style scoped>\n",
       "    .dataframe tbody tr th:only-of-type {\n",
       "        vertical-align: middle;\n",
       "    }\n",
       "\n",
       "    .dataframe tbody tr th {\n",
       "        vertical-align: top;\n",
       "    }\n",
       "\n",
       "    .dataframe thead th {\n",
       "        text-align: right;\n",
       "    }\n",
       "</style>\n",
       "<table border=\"1\" class=\"dataframe\">\n",
       "  <thead>\n",
       "    <tr style=\"text-align: right;\">\n",
       "      <th></th>\n",
       "      <th>athlete_display_name</th>\n",
       "      <th>season</th>\n",
       "      <th>PPG_diff</th>\n",
       "    </tr>\n",
       "  </thead>\n",
       "  <tbody>\n",
       "    <tr>\n",
       "      <th>764</th>\n",
       "      <td>Myisha Hines-Allen</td>\n",
       "      <td>2020</td>\n",
       "      <td>14.666667</td>\n",
       "    </tr>\n",
       "    <tr>\n",
       "      <th>335</th>\n",
       "      <td>Diana Taurasi</td>\n",
       "      <td>2020</td>\n",
       "      <td>14.403509</td>\n",
       "    </tr>\n",
       "    <tr>\n",
       "      <th>138</th>\n",
       "      <td>Betnijah Laney</td>\n",
       "      <td>2020</td>\n",
       "      <td>11.534759</td>\n",
       "    </tr>\n",
       "    <tr>\n",
       "      <th>312</th>\n",
       "      <td>Dearica Hamby</td>\n",
       "      <td>2024</td>\n",
       "      <td>11.100000</td>\n",
       "    </tr>\n",
       "    <tr>\n",
       "      <th>695</th>\n",
       "      <td>Maddy Siegrist</td>\n",
       "      <td>2024</td>\n",
       "      <td>10.529138</td>\n",
       "    </tr>\n",
       "  </tbody>\n",
       "</table>\n",
       "</div>"
      ],
      "text/plain": [
       "    athlete_display_name  season   PPG_diff\n",
       "764   Myisha Hines-Allen    2020  14.666667\n",
       "335        Diana Taurasi    2020  14.403509\n",
       "138       Betnijah Laney    2020  11.534759\n",
       "312        Dearica Hamby    2024  11.100000\n",
       "695       Maddy Siegrist    2024  10.529138"
      ]
     },
     "execution_count": 169,
     "metadata": {},
     "output_type": "execute_result"
    }
   ],
   "source": [
    "question_32_df.head()"
   ]
  },
  {
   "cell_type": "markdown",
   "metadata": {},
   "source": [
    "# 33. How many buzzer-beaters, at the end of the game, were made in the 2023 season and by whom?"
   ]
  },
  {
   "cell_type": "code",
   "execution_count": 170,
   "metadata": {},
   "outputs": [],
   "source": [
    "question_33_df = pbp_2023_df[['athlete_id_1', 'scoring_play', 'start_game_seconds_remaining']]"
   ]
  },
  {
   "cell_type": "code",
   "execution_count": 171,
   "metadata": {},
   "outputs": [],
   "source": [
    "question_33_df = question_33_df[question_33_df['scoring_play'] == True]"
   ]
  },
  {
   "cell_type": "code",
   "execution_count": 172,
   "metadata": {},
   "outputs": [],
   "source": [
    "question_33_df = question_33_df[question_33_df['start_game_seconds_remaining'] == 0]"
   ]
  },
  {
   "cell_type": "code",
   "execution_count": 173,
   "metadata": {},
   "outputs": [],
   "source": [
    "question_33_df = question_33_df.drop(columns=['scoring_play', 'start_game_seconds_remaining'])"
   ]
  },
  {
   "cell_type": "code",
   "execution_count": 174,
   "metadata": {},
   "outputs": [
    {
     "data": {
      "text/html": [
       "<div>\n",
       "<style scoped>\n",
       "    .dataframe tbody tr th:only-of-type {\n",
       "        vertical-align: middle;\n",
       "    }\n",
       "\n",
       "    .dataframe tbody tr th {\n",
       "        vertical-align: top;\n",
       "    }\n",
       "\n",
       "    .dataframe thead th {\n",
       "        text-align: right;\n",
       "    }\n",
       "</style>\n",
       "<table border=\"1\" class=\"dataframe\">\n",
       "  <thead>\n",
       "    <tr style=\"text-align: right;\">\n",
       "      <th></th>\n",
       "      <th>athlete_id_1</th>\n",
       "    </tr>\n",
       "  </thead>\n",
       "  <tbody>\n",
       "    <tr>\n",
       "      <th>27215</th>\n",
       "      <td>3907781.0</td>\n",
       "    </tr>\n",
       "    <tr>\n",
       "      <th>55964</th>\n",
       "      <td>4432831.0</td>\n",
       "    </tr>\n",
       "    <tr>\n",
       "      <th>88152</th>\n",
       "      <td>3913881.0</td>\n",
       "    </tr>\n",
       "    <tr>\n",
       "      <th>89392</th>\n",
       "      <td>2998928.0</td>\n",
       "    </tr>\n",
       "  </tbody>\n",
       "</table>\n",
       "</div>"
      ],
      "text/plain": [
       "       athlete_id_1\n",
       "27215     3907781.0\n",
       "55964     4432831.0\n",
       "88152     3913881.0\n",
       "89392     2998928.0"
      ]
     },
     "execution_count": 174,
     "metadata": {},
     "output_type": "execute_result"
    }
   ],
   "source": [
    "question_33_df"
   ]
  },
  {
   "cell_type": "code",
   "execution_count": 175,
   "metadata": {},
   "outputs": [],
   "source": [
    "question_33_df_player_info = player_info_df[['athlete_id', 'athlete_name']]"
   ]
  },
  {
   "cell_type": "code",
   "execution_count": 176,
   "metadata": {},
   "outputs": [],
   "source": [
    "question_33_df_player_info = question_33_df_player_info[(question_33_df_player_info['athlete_id'] == 3907781) \n",
    "                                                        | (question_33_df_player_info['athlete_id'] == 4432831)\n",
    "                                                        | (question_33_df_player_info['athlete_id'] == 3913881)\n",
    "                                                        | (question_33_df_player_info['athlete_id'] == 2998928)]"
   ]
  },
  {
   "cell_type": "code",
   "execution_count": 177,
   "metadata": {},
   "outputs": [
    {
     "data": {
      "text/html": [
       "<div>\n",
       "<style scoped>\n",
       "    .dataframe tbody tr th:only-of-type {\n",
       "        vertical-align: middle;\n",
       "    }\n",
       "\n",
       "    .dataframe tbody tr th {\n",
       "        vertical-align: top;\n",
       "    }\n",
       "\n",
       "    .dataframe thead th {\n",
       "        text-align: right;\n",
       "    }\n",
       "</style>\n",
       "<table border=\"1\" class=\"dataframe\">\n",
       "  <thead>\n",
       "    <tr style=\"text-align: right;\">\n",
       "      <th></th>\n",
       "      <th>athlete_id</th>\n",
       "      <th>athlete_name</th>\n",
       "    </tr>\n",
       "  </thead>\n",
       "  <tbody>\n",
       "    <tr>\n",
       "      <th>136</th>\n",
       "      <td>2998928</td>\n",
       "      <td>Breanna Stewart</td>\n",
       "    </tr>\n",
       "    <tr>\n",
       "      <th>205</th>\n",
       "      <td>3907781</td>\n",
       "      <td>Sophie Cunningham</td>\n",
       "    </tr>\n",
       "    <tr>\n",
       "      <th>208</th>\n",
       "      <td>3913881</td>\n",
       "      <td>Alanna Smith</td>\n",
       "    </tr>\n",
       "    <tr>\n",
       "      <th>316</th>\n",
       "      <td>4432831</td>\n",
       "      <td>Aliyah Boston</td>\n",
       "    </tr>\n",
       "  </tbody>\n",
       "</table>\n",
       "</div>"
      ],
      "text/plain": [
       "     athlete_id       athlete_name\n",
       "136     2998928    Breanna Stewart\n",
       "205     3907781  Sophie Cunningham\n",
       "208     3913881       Alanna Smith\n",
       "316     4432831      Aliyah Boston"
      ]
     },
     "execution_count": 177,
     "metadata": {},
     "output_type": "execute_result"
    }
   ],
   "source": [
    "question_33_df_player_info"
   ]
  },
  {
   "cell_type": "markdown",
   "metadata": {},
   "source": [
    "# 34. What was the average regular-season turnover rate for teams that made it to the playoffs versus those that didn't in the 2021 season?"
   ]
  },
  {
   "cell_type": "code",
   "execution_count": 178,
   "metadata": {},
   "outputs": [],
   "source": [
    "playoff_teams = ['Chicago Sky', 'Phoenix Mercury', 'Seattle Storm', 'Minnesota Lynx',\n",
    "                'Connecticut Sun', 'Las Vegas Aces']"
   ]
  },
  {
   "cell_type": "code",
   "execution_count": 179,
   "metadata": {},
   "outputs": [],
   "source": [
    "question_34_df = team_box_2023_df[['team_display_name', 'season_type', 'team_turnovers', 'field_goals_attempted', 'free_throws_attempted', 'assists']]"
   ]
  },
  {
   "cell_type": "code",
   "execution_count": 180,
   "metadata": {},
   "outputs": [
    {
     "name": "stderr",
     "output_type": "stream",
     "text": [
      "/var/folders/bs/1lgq_z0j12s291gbh297h38h0000gn/T/ipykernel_26631/1236675886.py:1: SettingWithCopyWarning: \n",
      "A value is trying to be set on a copy of a slice from a DataFrame.\n",
      "Try using .loc[row_indexer,col_indexer] = value instead\n",
      "\n",
      "See the caveats in the documentation: https://pandas.pydata.org/pandas-docs/stable/user_guide/indexing.html#returning-a-view-versus-a-copy\n",
      "  question_34_df['isPlayoffTeam'] = question_34_df['team_display_name'].isin(playoff_teams)\n"
     ]
    }
   ],
   "source": [
    "question_34_df['isPlayoffTeam'] = question_34_df['team_display_name'].isin(playoff_teams)"
   ]
  },
  {
   "cell_type": "code",
   "execution_count": 181,
   "metadata": {},
   "outputs": [],
   "source": [
    "question_34_df = question_34_df[question_34_df['season_type'] == 2]"
   ]
  },
  {
   "cell_type": "code",
   "execution_count": 182,
   "metadata": {},
   "outputs": [],
   "source": [
    "question_34_df = question_34_df.drop(columns=['team_display_name', 'season_type'])"
   ]
  },
  {
   "cell_type": "code",
   "execution_count": 183,
   "metadata": {},
   "outputs": [
    {
     "name": "stderr",
     "output_type": "stream",
     "text": [
      "/var/folders/bs/1lgq_z0j12s291gbh297h38h0000gn/T/ipykernel_26631/18013814.py:1: FutureWarning: Indexing with multiple keys (implicitly converted to a tuple of keys) will be deprecated, use a list instead.\n",
      "  question_34_df = question_34_df.groupby(['isPlayoffTeam'])['team_turnovers', 'field_goals_attempted', 'free_throws_attempted', 'assists'].sum().reset_index()\n"
     ]
    }
   ],
   "source": [
    "question_34_df = question_34_df.groupby(['isPlayoffTeam'])['team_turnovers', 'field_goals_attempted', 'free_throws_attempted', 'assists'].sum().reset_index()"
   ]
  },
  {
   "cell_type": "code",
   "execution_count": 184,
   "metadata": {},
   "outputs": [],
   "source": [
    "question_34_df['toRatio'] = (question_34_df['team_turnovers'] * 100) "
   ]
  },
  {
   "cell_type": "code",
   "execution_count": 185,
   "metadata": {},
   "outputs": [],
   "source": [
    "question_34_df['toRatio'] /= (question_34_df['field_goals_attempted'] + (0.44 * question_34_df['free_throws_attempted']) + question_34_df['assists'] + question_34_df['team_turnovers'])"
   ]
  },
  {
   "cell_type": "code",
   "execution_count": 186,
   "metadata": {},
   "outputs": [],
   "source": [
    "question_34_df = question_34_df.drop(columns=['team_turnovers', 'field_goals_attempted', 'free_throws_attempted', 'assists'])"
   ]
  },
  {
   "cell_type": "code",
   "execution_count": 187,
   "metadata": {},
   "outputs": [
    {
     "data": {
      "text/html": [
       "<div>\n",
       "<style scoped>\n",
       "    .dataframe tbody tr th:only-of-type {\n",
       "        vertical-align: middle;\n",
       "    }\n",
       "\n",
       "    .dataframe tbody tr th {\n",
       "        vertical-align: top;\n",
       "    }\n",
       "\n",
       "    .dataframe thead th {\n",
       "        text-align: right;\n",
       "    }\n",
       "</style>\n",
       "<table border=\"1\" class=\"dataframe\">\n",
       "  <thead>\n",
       "    <tr style=\"text-align: right;\">\n",
       "      <th></th>\n",
       "      <th>isPlayoffTeam</th>\n",
       "      <th>toRatio</th>\n",
       "    </tr>\n",
       "  </thead>\n",
       "  <tbody>\n",
       "    <tr>\n",
       "      <th>0</th>\n",
       "      <td>False</td>\n",
       "      <td>0.905455</td>\n",
       "    </tr>\n",
       "    <tr>\n",
       "      <th>1</th>\n",
       "      <td>True</td>\n",
       "      <td>1.024440</td>\n",
       "    </tr>\n",
       "  </tbody>\n",
       "</table>\n",
       "</div>"
      ],
      "text/plain": [
       "   isPlayoffTeam   toRatio\n",
       "0          False  0.905455\n",
       "1           True  1.024440"
      ]
     },
     "execution_count": 187,
     "metadata": {},
     "output_type": "execute_result"
    }
   ],
   "source": [
    "question_34_df"
   ]
  },
  {
   "cell_type": "markdown",
   "metadata": {},
   "source": [
    "# 37. Compare the average playing time of starters versus bench players for each team in the 2022 season."
   ]
  },
  {
   "cell_type": "code",
   "execution_count": 188,
   "metadata": {},
   "outputs": [],
   "source": [
    "question_37_df = player_box_2022_df[['athlete_display_name', 'minutes', 'starter', 'team_display_name']]"
   ]
  },
  {
   "cell_type": "code",
   "execution_count": 189,
   "metadata": {},
   "outputs": [],
   "source": [
    "question_37_df = question_37_df[(question_37_df['minutes'] > 0) & (question_37_df['minutes'].notna())]"
   ]
  },
  {
   "cell_type": "code",
   "execution_count": 190,
   "metadata": {},
   "outputs": [],
   "source": [
    "question_37_df = question_37_df.groupby(['athlete_display_name', 'team_display_name', 'starter'])['minutes'].mean().reset_index()"
   ]
  },
  {
   "cell_type": "code",
   "execution_count": 191,
   "metadata": {},
   "outputs": [],
   "source": [
    "question_37_df = question_37_df.groupby(['team_display_name', 'starter'])['minutes'].mean().reset_index()"
   ]
  },
  {
   "cell_type": "code",
   "execution_count": 192,
   "metadata": {},
   "outputs": [],
   "source": [
    "question_37_df = question_37_df[question_37_df['team_display_name'] != 'Team Wilson']\n",
    "question_37_df = question_37_df[question_37_df['team_display_name'] != 'Team Stewart']"
   ]
  },
  {
   "cell_type": "code",
   "execution_count": 193,
   "metadata": {},
   "outputs": [],
   "source": [
    "question_37_df = question_37_df.pivot(index='team_display_name', columns='starter', values='minutes')"
   ]
  },
  {
   "cell_type": "code",
   "execution_count": 194,
   "metadata": {},
   "outputs": [],
   "source": [
    "question_37_df.columns = ['Non-Starter Minutes', 'Starter Minutes']"
   ]
  },
  {
   "cell_type": "code",
   "execution_count": 195,
   "metadata": {},
   "outputs": [
    {
     "data": {
      "text/html": [
       "<div>\n",
       "<style scoped>\n",
       "    .dataframe tbody tr th:only-of-type {\n",
       "        vertical-align: middle;\n",
       "    }\n",
       "\n",
       "    .dataframe tbody tr th {\n",
       "        vertical-align: top;\n",
       "    }\n",
       "\n",
       "    .dataframe thead th {\n",
       "        text-align: right;\n",
       "    }\n",
       "</style>\n",
       "<table border=\"1\" class=\"dataframe\">\n",
       "  <thead>\n",
       "    <tr style=\"text-align: right;\">\n",
       "      <th></th>\n",
       "      <th>Non-Starter Minutes</th>\n",
       "      <th>Starter Minutes</th>\n",
       "    </tr>\n",
       "    <tr>\n",
       "      <th>team_display_name</th>\n",
       "      <th></th>\n",
       "      <th></th>\n",
       "    </tr>\n",
       "  </thead>\n",
       "  <tbody>\n",
       "    <tr>\n",
       "      <th>Atlanta Dream</th>\n",
       "      <td>14.572200</td>\n",
       "      <td>25.220963</td>\n",
       "    </tr>\n",
       "    <tr>\n",
       "      <th>Chicago Sky</th>\n",
       "      <td>11.648889</td>\n",
       "      <td>28.892886</td>\n",
       "    </tr>\n",
       "    <tr>\n",
       "      <th>Connecticut Sun</th>\n",
       "      <td>11.622491</td>\n",
       "      <td>28.493668</td>\n",
       "    </tr>\n",
       "    <tr>\n",
       "      <th>Dallas Wings</th>\n",
       "      <td>12.987244</td>\n",
       "      <td>25.998915</td>\n",
       "    </tr>\n",
       "    <tr>\n",
       "      <th>Indiana Fever</th>\n",
       "      <td>13.471734</td>\n",
       "      <td>25.648515</td>\n",
       "    </tr>\n",
       "    <tr>\n",
       "      <th>Las Vegas Aces</th>\n",
       "      <td>10.376067</td>\n",
       "      <td>28.556540</td>\n",
       "    </tr>\n",
       "    <tr>\n",
       "      <th>Los Angeles Sparks</th>\n",
       "      <td>15.850656</td>\n",
       "      <td>23.802048</td>\n",
       "    </tr>\n",
       "    <tr>\n",
       "      <th>Minnesota Lynx</th>\n",
       "      <td>13.423512</td>\n",
       "      <td>24.429795</td>\n",
       "    </tr>\n",
       "    <tr>\n",
       "      <th>New York Liberty</th>\n",
       "      <td>14.438222</td>\n",
       "      <td>25.922970</td>\n",
       "    </tr>\n",
       "    <tr>\n",
       "      <th>Phoenix Mercury</th>\n",
       "      <td>11.801839</td>\n",
       "      <td>27.823280</td>\n",
       "    </tr>\n",
       "    <tr>\n",
       "      <th>Seattle Storm</th>\n",
       "      <td>12.283931</td>\n",
       "      <td>28.588537</td>\n",
       "    </tr>\n",
       "    <tr>\n",
       "      <th>Washington Mystics</th>\n",
       "      <td>11.340023</td>\n",
       "      <td>27.853783</td>\n",
       "    </tr>\n",
       "  </tbody>\n",
       "</table>\n",
       "</div>"
      ],
      "text/plain": [
       "                    Non-Starter Minutes  Starter Minutes\n",
       "team_display_name                                       \n",
       "Atlanta Dream                 14.572200        25.220963\n",
       "Chicago Sky                   11.648889        28.892886\n",
       "Connecticut Sun               11.622491        28.493668\n",
       "Dallas Wings                  12.987244        25.998915\n",
       "Indiana Fever                 13.471734        25.648515\n",
       "Las Vegas Aces                10.376067        28.556540\n",
       "Los Angeles Sparks            15.850656        23.802048\n",
       "Minnesota Lynx                13.423512        24.429795\n",
       "New York Liberty              14.438222        25.922970\n",
       "Phoenix Mercury               11.801839        27.823280\n",
       "Seattle Storm                 12.283931        28.588537\n",
       "Washington Mystics            11.340023        27.853783"
      ]
     },
     "execution_count": 195,
     "metadata": {},
     "output_type": "execute_result"
    }
   ],
   "source": [
    "question_37_df"
   ]
  },
  {
   "cell_type": "markdown",
   "metadata": {},
   "source": [
    "# 38. Which player scored the most clutch points in the 2023 season? Let’s define clutch points as points scored in the last 2 minutes of games where the teams’ scores are within 5 points of each other."
   ]
  },
  {
   "cell_type": "code",
   "execution_count": 196,
   "metadata": {},
   "outputs": [],
   "source": [
    "question_38_df = pbp_2023_df[['athlete_id_1', 'score_value', 'scoring_play', 'start_game_seconds_remaining', 'away_score', 'home_score']]"
   ]
  },
  {
   "cell_type": "code",
   "execution_count": 197,
   "metadata": {},
   "outputs": [],
   "source": [
    "question_38_df = question_38_df[question_38_df['scoring_play'] == True]"
   ]
  },
  {
   "cell_type": "code",
   "execution_count": 198,
   "metadata": {},
   "outputs": [],
   "source": [
    "question_38_df = question_38_df[question_38_df['start_game_seconds_remaining'] <= 120]"
   ]
  },
  {
   "cell_type": "code",
   "execution_count": 199,
   "metadata": {},
   "outputs": [],
   "source": [
    "question_38_df = question_38_df[abs(question_38_df['away_score'] - question_38_df['home_score']) <= 5]"
   ]
  },
  {
   "cell_type": "code",
   "execution_count": 200,
   "metadata": {},
   "outputs": [],
   "source": [
    "question_38_df = question_38_df.drop(columns=['scoring_play', 'start_game_seconds_remaining', 'away_score', 'home_score'])"
   ]
  },
  {
   "cell_type": "code",
   "execution_count": 201,
   "metadata": {},
   "outputs": [],
   "source": [
    "question_38_df = question_38_df.groupby('athlete_id_1', as_index=False)['score_value'].sum()"
   ]
  },
  {
   "cell_type": "code",
   "execution_count": 202,
   "metadata": {},
   "outputs": [],
   "source": [
    "question_38_df = question_38_df.sort_values(by='score_value', ascending=False)"
   ]
  },
  {
   "cell_type": "code",
   "execution_count": 203,
   "metadata": {},
   "outputs": [
    {
     "data": {
      "text/html": [
       "<div>\n",
       "<style scoped>\n",
       "    .dataframe tbody tr th:only-of-type {\n",
       "        vertical-align: middle;\n",
       "    }\n",
       "\n",
       "    .dataframe tbody tr th {\n",
       "        vertical-align: top;\n",
       "    }\n",
       "\n",
       "    .dataframe thead th {\n",
       "        text-align: right;\n",
       "    }\n",
       "</style>\n",
       "<table border=\"1\" class=\"dataframe\">\n",
       "  <thead>\n",
       "    <tr style=\"text-align: right;\">\n",
       "      <th></th>\n",
       "      <th>athlete_id_1</th>\n",
       "      <th>score_value</th>\n",
       "    </tr>\n",
       "  </thead>\n",
       "  <tbody>\n",
       "    <tr>\n",
       "      <th>56</th>\n",
       "      <td>3904577.0</td>\n",
       "      <td>37</td>\n",
       "    </tr>\n",
       "    <tr>\n",
       "      <th>69</th>\n",
       "      <td>4066533.0</td>\n",
       "      <td>34</td>\n",
       "    </tr>\n",
       "    <tr>\n",
       "      <th>64</th>\n",
       "      <td>3917450.0</td>\n",
       "      <td>33</td>\n",
       "    </tr>\n",
       "    <tr>\n",
       "      <th>35</th>\n",
       "      <td>2998928.0</td>\n",
       "      <td>32</td>\n",
       "    </tr>\n",
       "    <tr>\n",
       "      <th>88</th>\n",
       "      <td>4432831.0</td>\n",
       "      <td>32</td>\n",
       "    </tr>\n",
       "  </tbody>\n",
       "</table>\n",
       "</div>"
      ],
      "text/plain": [
       "    athlete_id_1  score_value\n",
       "56     3904577.0           37\n",
       "69     4066533.0           34\n",
       "64     3917450.0           33\n",
       "35     2998928.0           32\n",
       "88     4432831.0           32"
      ]
     },
     "execution_count": 203,
     "metadata": {},
     "output_type": "execute_result"
    }
   ],
   "source": [
    "question_38_df.head()"
   ]
  },
  {
   "cell_type": "code",
   "execution_count": 204,
   "metadata": {},
   "outputs": [],
   "source": [
    "question_38_df_player_info = player_info_df[['athlete_id', 'athlete_name']]"
   ]
  },
  {
   "cell_type": "code",
   "execution_count": 205,
   "metadata": {},
   "outputs": [],
   "source": [
    "question_38_df_player_info = question_38_df_player_info[question_38_df_player_info['athlete_id'] == 3904577]"
   ]
  },
  {
   "cell_type": "code",
   "execution_count": 206,
   "metadata": {},
   "outputs": [
    {
     "data": {
      "text/html": [
       "<div>\n",
       "<style scoped>\n",
       "    .dataframe tbody tr th:only-of-type {\n",
       "        vertical-align: middle;\n",
       "    }\n",
       "\n",
       "    .dataframe tbody tr th {\n",
       "        vertical-align: top;\n",
       "    }\n",
       "\n",
       "    .dataframe thead th {\n",
       "        text-align: right;\n",
       "    }\n",
       "</style>\n",
       "<table border=\"1\" class=\"dataframe\">\n",
       "  <thead>\n",
       "    <tr style=\"text-align: right;\">\n",
       "      <th></th>\n",
       "      <th>athlete_id</th>\n",
       "      <th>athlete_name</th>\n",
       "    </tr>\n",
       "  </thead>\n",
       "  <tbody>\n",
       "    <tr>\n",
       "      <th>199</th>\n",
       "      <td>3904577</td>\n",
       "      <td>Arike Ogunbowale</td>\n",
       "    </tr>\n",
       "  </tbody>\n",
       "</table>\n",
       "</div>"
      ],
      "text/plain": [
       "     athlete_id      athlete_name\n",
       "199     3904577  Arike Ogunbowale"
      ]
     },
     "execution_count": 206,
     "metadata": {},
     "output_type": "execute_result"
    }
   ],
   "source": [
    "question_38_df_player_info"
   ]
  },
  {
   "cell_type": "markdown",
   "metadata": {},
   "source": [
    "# 40. How did the shooting efficiency, in terms of Effective Field Goal percentage, of players differ between home and away regular season games in the 2022 season?"
   ]
  },
  {
   "cell_type": "code",
   "execution_count": 207,
   "metadata": {},
   "outputs": [],
   "source": [
    "question_40_df = player_box_2022_df[['season_type', 'field_goals_made', 'three_point_field_goals_made', 'field_goals_attempted', 'home_away']]"
   ]
  },
  {
   "cell_type": "code",
   "execution_count": 208,
   "metadata": {},
   "outputs": [],
   "source": [
    "question_40_df = question_40_df[question_40_df['season_type'] == 2]"
   ]
  },
  {
   "cell_type": "code",
   "execution_count": 209,
   "metadata": {},
   "outputs": [],
   "source": [
    "question_40_df = question_40_df.drop(columns=['season_type'])"
   ]
  },
  {
   "cell_type": "code",
   "execution_count": 210,
   "metadata": {},
   "outputs": [
    {
     "name": "stderr",
     "output_type": "stream",
     "text": [
      "/var/folders/bs/1lgq_z0j12s291gbh297h38h0000gn/T/ipykernel_26631/2940104026.py:1: FutureWarning: Indexing with multiple keys (implicitly converted to a tuple of keys) will be deprecated, use a list instead.\n",
      "  question_40_df = question_40_df.groupby(['home_away'])['field_goals_made', 'three_point_field_goals_made', 'field_goals_attempted'].sum().reset_index()\n"
     ]
    }
   ],
   "source": [
    "question_40_df = question_40_df.groupby(['home_away'])['field_goals_made', 'three_point_field_goals_made', 'field_goals_attempted'].sum().reset_index()"
   ]
  },
  {
   "cell_type": "code",
   "execution_count": 211,
   "metadata": {},
   "outputs": [],
   "source": [
    "question_40_df['efg'] = (question_40_df['field_goals_made'] + 0.5 * question_40_df['three_point_field_goals_made']) / question_40_df['field_goals_attempted']"
   ]
  },
  {
   "cell_type": "code",
   "execution_count": 212,
   "metadata": {},
   "outputs": [],
   "source": [
    "question_40_df = question_40_df.drop(columns=['field_goals_made', 'three_point_field_goals_made', 'field_goals_attempted'])"
   ]
  },
  {
   "cell_type": "code",
   "execution_count": 213,
   "metadata": {},
   "outputs": [
    {
     "data": {
      "text/html": [
       "<div>\n",
       "<style scoped>\n",
       "    .dataframe tbody tr th:only-of-type {\n",
       "        vertical-align: middle;\n",
       "    }\n",
       "\n",
       "    .dataframe tbody tr th {\n",
       "        vertical-align: top;\n",
       "    }\n",
       "\n",
       "    .dataframe thead th {\n",
       "        text-align: right;\n",
       "    }\n",
       "</style>\n",
       "<table border=\"1\" class=\"dataframe\">\n",
       "  <thead>\n",
       "    <tr style=\"text-align: right;\">\n",
       "      <th></th>\n",
       "      <th>home_away</th>\n",
       "      <th>efg</th>\n",
       "    </tr>\n",
       "  </thead>\n",
       "  <tbody>\n",
       "    <tr>\n",
       "      <th>0</th>\n",
       "      <td>away</td>\n",
       "      <td>0.499630</td>\n",
       "    </tr>\n",
       "    <tr>\n",
       "      <th>1</th>\n",
       "      <td>home</td>\n",
       "      <td>0.499261</td>\n",
       "    </tr>\n",
       "  </tbody>\n",
       "</table>\n",
       "</div>"
      ],
      "text/plain": [
       "  home_away       efg\n",
       "0      away  0.499630\n",
       "1      home  0.499261"
      ]
     },
     "execution_count": 213,
     "metadata": {},
     "output_type": "execute_result"
    }
   ],
   "source": [
    "question_40_df"
   ]
  },
  {
   "cell_type": "code",
   "execution_count": null,
   "metadata": {},
   "outputs": [],
   "source": []
  }
 ],
 "metadata": {
  "hide_input": false,
  "kernelspec": {
   "display_name": "Python 3 (ipykernel)",
   "language": "python",
   "name": "python3"
  },
  "language_info": {
   "codemirror_mode": {
    "name": "ipython",
    "version": 3
   },
   "file_extension": ".py",
   "mimetype": "text/x-python",
   "name": "python",
   "nbconvert_exporter": "python",
   "pygments_lexer": "ipython3",
   "version": "3.9.7"
  }
 },
 "nbformat": 4,
 "nbformat_minor": 4
}
