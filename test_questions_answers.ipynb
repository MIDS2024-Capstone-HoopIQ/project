{
 "cells": [
  {
   "cell_type": "code",
   "execution_count": 1,
   "metadata": {},
   "outputs": [],
   "source": [
    "import matplotlib.pyplot as plt\n",
    "import numpy as np\n",
    "import pandas as pd"
   ]
  },
  {
   "cell_type": "code",
   "execution_count": 2,
   "metadata": {},
   "outputs": [],
   "source": [
    "player_info_df = pd.read_csv('data/player_info.csv')\n",
    "\n",
    "pbp_2018_df = pd.read_csv('data/wnba_pbp_2018.csv')\n",
    "pbp_2019_df = pd.read_csv('data/wnba_pbp_2019.csv')\n",
    "pbp_2020_df = pd.read_csv('data/wnba_pbp_2020.csv')\n",
    "pbp_2021_df = pd.read_csv('data/wnba_pbp_2021.csv')\n",
    "pbp_2022_df = pd.read_csv('data/wnba_pbp_2022.csv')\n",
    "pbp_2023_df = pd.read_csv('data/wnba_pbp_2023.csv')\n",
    "pbp_2024_df = pd.read_csv('data/wnba_pbp_2024.csv')\n",
    "\n",
    "player_box_2018_df = pd.read_csv('data/wnba_player_box_2018.csv')\n",
    "player_box_2019_df = pd.read_csv('data/wnba_player_box_2019.csv')\n",
    "player_box_2020_df = pd.read_csv('data/wnba_player_box_2020.csv')\n",
    "player_box_2021_df = pd.read_csv('data/wnba_player_box_2021.csv')\n",
    "player_box_2022_df = pd.read_csv('data/wnba_player_box_2022.csv')\n",
    "player_box_2023_df = pd.read_csv('data/wnba_player_box_2023.csv')\n",
    "player_box_2024_df = pd.read_csv('data/wnba_player_box_2024.csv')\n",
    "\n",
    "schedule_2018_df = pd.read_csv('data/wnba_schedule_2018.csv')\n",
    "schedule_2019_df = pd.read_csv('data/wnba_schedule_2019.csv')\n",
    "schedule_2020_df = pd.read_csv('data/wnba_schedule_2020.csv')\n",
    "schedule_2021_df = pd.read_csv('data/wnba_schedule_2021.csv')\n",
    "schedule_2022_df = pd.read_csv('data/wnba_schedule_2022.csv')\n",
    "schedule_2023_df = pd.read_csv('data/wnba_schedule_2023.csv')\n",
    "schedule_2024_df = pd.read_csv('data/wnba_schedule_2024.csv')\n",
    "\n",
    "team_box_2018_df = pd.read_csv('data/wnba_team_box_2018.csv')\n",
    "team_box_2019_df = pd.read_csv('data/wnba_team_box_2019.csv')\n",
    "team_box_2020_df = pd.read_csv('data/wnba_team_box_2020.csv')\n",
    "team_box_2021_df = pd.read_csv('data/wnba_team_box_2021.csv')\n",
    "team_box_2022_df = pd.read_csv('data/wnba_team_box_2022.csv')\n",
    "team_box_2023_df = pd.read_csv('data/wnba_team_box_2023.csv')\n",
    "team_box_2024_df = pd.read_csv('data/wnba_team_box_2024.csv')"
   ]
  },
  {
   "cell_type": "markdown",
   "metadata": {},
   "source": [
    "# 1. Which player scored the most points in a single game between 2018 and 2024?"
   ]
  },
  {
   "cell_type": "code",
   "execution_count": 3,
   "metadata": {},
   "outputs": [],
   "source": [
    "question_1_df_2018 = player_box_2018_df[['athlete_display_name', 'points']]\n",
    "question_1_df_2019 = player_box_2019_df[['athlete_display_name', 'points']]\n",
    "question_1_df_2020 = player_box_2020_df[['athlete_display_name', 'points']]\n",
    "question_1_df_2021 = player_box_2021_df[['athlete_display_name', 'points']]\n",
    "question_1_df_2022 = player_box_2022_df[['athlete_display_name', 'points']]\n",
    "question_1_df_2023 = player_box_2023_df[['athlete_display_name', 'points']]\n",
    "question_1_df_2024 = player_box_2024_df[['athlete_display_name', 'points']]\n",
    "\n",
    "question_1_df = pd.concat([question_1_df_2018, question_1_df_2019, question_1_df_2020, \n",
    "                           question_1_df_2021, question_1_df_2022, question_1_df_2023,\n",
    "                           question_1_df_2024], ignore_index=True)"
   ]
  },
  {
   "cell_type": "code",
   "execution_count": 4,
   "metadata": {},
   "outputs": [],
   "source": [
    "question_1_df = question_1_df.groupby('athlete_display_name', as_index=False)['points'].max()"
   ]
  },
  {
   "cell_type": "code",
   "execution_count": 5,
   "metadata": {},
   "outputs": [],
   "source": [
    "question_1_df = question_1_df.sort_values(by='points', ascending=False)"
   ]
  },
  {
   "cell_type": "code",
   "execution_count": 6,
   "metadata": {},
   "outputs": [
    {
     "data": {
      "text/html": [
       "<div>\n",
       "<style scoped>\n",
       "    .dataframe tbody tr th:only-of-type {\n",
       "        vertical-align: middle;\n",
       "    }\n",
       "\n",
       "    .dataframe tbody tr th {\n",
       "        vertical-align: top;\n",
       "    }\n",
       "\n",
       "    .dataframe thead th {\n",
       "        text-align: right;\n",
       "    }\n",
       "</style>\n",
       "<table border=\"1\" class=\"dataframe\">\n",
       "  <thead>\n",
       "    <tr style=\"text-align: right;\">\n",
       "      <th></th>\n",
       "      <th>athlete_display_name</th>\n",
       "      <th>points</th>\n",
       "    </tr>\n",
       "  </thead>\n",
       "  <tbody>\n",
       "    <tr>\n",
       "      <th>0</th>\n",
       "      <td>A'ja Wilson</td>\n",
       "      <td>53.0</td>\n",
       "    </tr>\n",
       "    <tr>\n",
       "      <th>219</th>\n",
       "      <td>Liz Cambage</td>\n",
       "      <td>53.0</td>\n",
       "    </tr>\n",
       "    <tr>\n",
       "      <th>51</th>\n",
       "      <td>Breanna Stewart</td>\n",
       "      <td>45.0</td>\n",
       "    </tr>\n",
       "    <tr>\n",
       "      <th>280</th>\n",
       "      <td>Rhyne Howard</td>\n",
       "      <td>43.0</td>\n",
       "    </tr>\n",
       "    <tr>\n",
       "      <th>105</th>\n",
       "      <td>Diana Taurasi</td>\n",
       "      <td>42.0</td>\n",
       "    </tr>\n",
       "  </tbody>\n",
       "</table>\n",
       "</div>"
      ],
      "text/plain": [
       "    athlete_display_name  points\n",
       "0            A'ja Wilson    53.0\n",
       "219          Liz Cambage    53.0\n",
       "51       Breanna Stewart    45.0\n",
       "280         Rhyne Howard    43.0\n",
       "105        Diana Taurasi    42.0"
      ]
     },
     "execution_count": 6,
     "metadata": {},
     "output_type": "execute_result"
    }
   ],
   "source": [
    "question_1_df.head()"
   ]
  },
  {
   "cell_type": "markdown",
   "metadata": {},
   "source": [
    "# 2. Which team had the highest average points per game in the 2021 season?"
   ]
  },
  {
   "cell_type": "code",
   "execution_count": 7,
   "metadata": {},
   "outputs": [],
   "source": [
    "question_2_df = team_box_2021_df[['team_display_name', 'team_score']]"
   ]
  },
  {
   "cell_type": "code",
   "execution_count": 8,
   "metadata": {},
   "outputs": [],
   "source": [
    "question_2_df = question_2_df.groupby('team_display_name', as_index=False)['team_score'].mean()"
   ]
  },
  {
   "cell_type": "code",
   "execution_count": 9,
   "metadata": {},
   "outputs": [],
   "source": [
    "question_2_df = question_2_df.sort_values(by='team_score', ascending=False)"
   ]
  },
  {
   "cell_type": "code",
   "execution_count": 10,
   "metadata": {},
   "outputs": [],
   "source": [
    "question_2_df = question_2_df[question_2_df['team_display_name'] != 'Team WNBA']\n",
    "question_2_df = question_2_df[question_2_df['team_display_name'] != 'Team Usa']"
   ]
  },
  {
   "cell_type": "code",
   "execution_count": 11,
   "metadata": {},
   "outputs": [
    {
     "data": {
      "text/html": [
       "<div>\n",
       "<style scoped>\n",
       "    .dataframe tbody tr th:only-of-type {\n",
       "        vertical-align: middle;\n",
       "    }\n",
       "\n",
       "    .dataframe tbody tr th {\n",
       "        vertical-align: top;\n",
       "    }\n",
       "\n",
       "    .dataframe thead th {\n",
       "        text-align: right;\n",
       "    }\n",
       "</style>\n",
       "<table border=\"1\" class=\"dataframe\">\n",
       "  <thead>\n",
       "    <tr style=\"text-align: right;\">\n",
       "      <th></th>\n",
       "      <th>team_display_name</th>\n",
       "      <th>team_score</th>\n",
       "    </tr>\n",
       "  </thead>\n",
       "  <tbody>\n",
       "    <tr>\n",
       "      <th>5</th>\n",
       "      <td>Las Vegas Aces</td>\n",
       "      <td>88.648649</td>\n",
       "    </tr>\n",
       "    <tr>\n",
       "      <th>10</th>\n",
       "      <td>Seattle Storm</td>\n",
       "      <td>84.500000</td>\n",
       "    </tr>\n",
       "    <tr>\n",
       "      <th>1</th>\n",
       "      <td>Chicago Sky</td>\n",
       "      <td>83.595238</td>\n",
       "    </tr>\n",
       "    <tr>\n",
       "      <th>7</th>\n",
       "      <td>Minnesota Lynx</td>\n",
       "      <td>82.515152</td>\n",
       "    </tr>\n",
       "    <tr>\n",
       "      <th>9</th>\n",
       "      <td>Phoenix Mercury</td>\n",
       "      <td>82.395349</td>\n",
       "    </tr>\n",
       "  </tbody>\n",
       "</table>\n",
       "</div>"
      ],
      "text/plain": [
       "   team_display_name  team_score\n",
       "5     Las Vegas Aces   88.648649\n",
       "10     Seattle Storm   84.500000\n",
       "1        Chicago Sky   83.595238\n",
       "7     Minnesota Lynx   82.515152\n",
       "9    Phoenix Mercury   82.395349"
      ]
     },
     "execution_count": 11,
     "metadata": {},
     "output_type": "execute_result"
    }
   ],
   "source": [
    "question_2_df.head()"
   ]
  },
  {
   "cell_type": "markdown",
   "metadata": {},
   "source": [
    "# 3. How many games ended in overtime during the 2023 season?"
   ]
  },
  {
   "cell_type": "code",
   "execution_count": 12,
   "metadata": {},
   "outputs": [],
   "source": [
    "question_3_df = pbp_2023_df[['game_id', 'qtr']]"
   ]
  },
  {
   "cell_type": "code",
   "execution_count": 13,
   "metadata": {},
   "outputs": [],
   "source": [
    "question_3_df = question_3_df[question_3_df['qtr'] == 5]"
   ]
  },
  {
   "cell_type": "code",
   "execution_count": 14,
   "metadata": {},
   "outputs": [],
   "source": [
    "question_3_df = question_3_df.drop_duplicates(subset='game_id')"
   ]
  },
  {
   "cell_type": "code",
   "execution_count": 15,
   "metadata": {},
   "outputs": [
    {
     "data": {
      "text/plain": [
       "11"
      ]
     },
     "execution_count": 15,
     "metadata": {},
     "output_type": "execute_result"
    }
   ],
   "source": [
    "question_3_df.shape[0]"
   ]
  },
  {
   "cell_type": "markdown",
   "metadata": {},
   "source": [
    "# 4. Which player had the highest free throw percentage in the 2020 season (min. 25 FT’s attempted)?"
   ]
  },
  {
   "cell_type": "code",
   "execution_count": 16,
   "metadata": {},
   "outputs": [],
   "source": [
    "question_4_df = player_box_2020_df[['athlete_display_name', 'free_throws_made', 'free_throws_attempted']]"
   ]
  },
  {
   "cell_type": "code",
   "execution_count": 17,
   "metadata": {},
   "outputs": [],
   "source": [
    "question_4_df = question_4_df.groupby('athlete_display_name', as_index=False).sum()"
   ]
  },
  {
   "cell_type": "code",
   "execution_count": 18,
   "metadata": {},
   "outputs": [],
   "source": [
    "question_4_df = question_4_df[question_4_df['free_throws_attempted'] >= 25.0]"
   ]
  },
  {
   "cell_type": "code",
   "execution_count": 19,
   "metadata": {},
   "outputs": [],
   "source": [
    "question_4_df['free_throws_percentage'] = question_4_df['free_throws_made'] / question_4_df['free_throws_attempted']"
   ]
  },
  {
   "cell_type": "code",
   "execution_count": 20,
   "metadata": {},
   "outputs": [],
   "source": [
    "question_4_df = question_4_df.drop(columns=['free_throws_made', 'free_throws_attempted'])"
   ]
  },
  {
   "cell_type": "code",
   "execution_count": 21,
   "metadata": {},
   "outputs": [],
   "source": [
    "question_4_df = question_4_df.sort_values(by='free_throws_percentage', ascending=False)"
   ]
  },
  {
   "cell_type": "code",
   "execution_count": 22,
   "metadata": {},
   "outputs": [
    {
     "data": {
      "text/html": [
       "<div>\n",
       "<style scoped>\n",
       "    .dataframe tbody tr th:only-of-type {\n",
       "        vertical-align: middle;\n",
       "    }\n",
       "\n",
       "    .dataframe tbody tr th {\n",
       "        vertical-align: top;\n",
       "    }\n",
       "\n",
       "    .dataframe thead th {\n",
       "        text-align: right;\n",
       "    }\n",
       "</style>\n",
       "<table border=\"1\" class=\"dataframe\">\n",
       "  <thead>\n",
       "    <tr style=\"text-align: right;\">\n",
       "      <th></th>\n",
       "      <th>athlete_display_name</th>\n",
       "      <th>free_throws_percentage</th>\n",
       "    </tr>\n",
       "  </thead>\n",
       "  <tbody>\n",
       "    <tr>\n",
       "      <th>149</th>\n",
       "      <td>Tiffany Mitchell</td>\n",
       "      <td>0.950617</td>\n",
       "    </tr>\n",
       "    <tr>\n",
       "      <th>36</th>\n",
       "      <td>Chelsea Gray</td>\n",
       "      <td>0.938776</td>\n",
       "    </tr>\n",
       "    <tr>\n",
       "      <th>119</th>\n",
       "      <td>Odyssey Sims</td>\n",
       "      <td>0.938776</td>\n",
       "    </tr>\n",
       "    <tr>\n",
       "      <th>8</th>\n",
       "      <td>Allie Quigley</td>\n",
       "      <td>0.926829</td>\n",
       "    </tr>\n",
       "    <tr>\n",
       "      <th>49</th>\n",
       "      <td>Diana Taurasi</td>\n",
       "      <td>0.918033</td>\n",
       "    </tr>\n",
       "  </tbody>\n",
       "</table>\n",
       "</div>"
      ],
      "text/plain": [
       "    athlete_display_name  free_throws_percentage\n",
       "149     Tiffany Mitchell                0.950617\n",
       "36          Chelsea Gray                0.938776\n",
       "119         Odyssey Sims                0.938776\n",
       "8          Allie Quigley                0.926829\n",
       "49         Diana Taurasi                0.918033"
      ]
     },
     "execution_count": 22,
     "metadata": {},
     "output_type": "execute_result"
    }
   ],
   "source": [
    "question_4_df.head()"
   ]
  },
  {
   "cell_type": "markdown",
   "metadata": {},
   "source": [
    "# 5. What was the win-loss record of the Seattle Storm in the 2022 season?"
   ]
  },
  {
   "cell_type": "code",
   "execution_count": 23,
   "metadata": {},
   "outputs": [],
   "source": [
    "question_5_df = team_box_2022_df[['team_display_name', 'team_winner']]"
   ]
  },
  {
   "cell_type": "code",
   "execution_count": 24,
   "metadata": {},
   "outputs": [],
   "source": [
    "question_5_df = question_5_df[question_5_df['team_display_name'] == 'Seattle Storm']"
   ]
  },
  {
   "cell_type": "code",
   "execution_count": 25,
   "metadata": {},
   "outputs": [
    {
     "data": {
      "text/plain": [
       "True     25\n",
       "False    17\n",
       "Name: team_winner, dtype: int64"
      ]
     },
     "execution_count": 25,
     "metadata": {},
     "output_type": "execute_result"
    }
   ],
   "source": [
    "question_5_df['team_winner'].value_counts()"
   ]
  },
  {
   "cell_type": "markdown",
   "metadata": {},
   "source": [
    "# 8. Which team had the best defense in the 2024 season (by opponent points)?"
   ]
  },
  {
   "cell_type": "code",
   "execution_count": 26,
   "metadata": {},
   "outputs": [],
   "source": [
    "question_8_df = team_box_2024_df[['team_display_name', 'opponent_team_score']]"
   ]
  },
  {
   "cell_type": "code",
   "execution_count": 27,
   "metadata": {},
   "outputs": [],
   "source": [
    "question_8_df = question_8_df.groupby('team_display_name', as_index=False)['opponent_team_score'].mean()"
   ]
  },
  {
   "cell_type": "code",
   "execution_count": 28,
   "metadata": {},
   "outputs": [],
   "source": [
    "question_8_df = question_8_df.sort_values(by='opponent_team_score', ascending=True)"
   ]
  },
  {
   "cell_type": "code",
   "execution_count": 29,
   "metadata": {},
   "outputs": [
    {
     "data": {
      "text/html": [
       "<div>\n",
       "<style scoped>\n",
       "    .dataframe tbody tr th:only-of-type {\n",
       "        vertical-align: middle;\n",
       "    }\n",
       "\n",
       "    .dataframe tbody tr th {\n",
       "        vertical-align: top;\n",
       "    }\n",
       "\n",
       "    .dataframe thead th {\n",
       "        text-align: right;\n",
       "    }\n",
       "</style>\n",
       "<table border=\"1\" class=\"dataframe\">\n",
       "  <thead>\n",
       "    <tr style=\"text-align: right;\">\n",
       "      <th></th>\n",
       "      <th>team_display_name</th>\n",
       "      <th>opponent_team_score</th>\n",
       "    </tr>\n",
       "  </thead>\n",
       "  <tbody>\n",
       "    <tr>\n",
       "      <th>2</th>\n",
       "      <td>Connecticut Sun</td>\n",
       "      <td>71.083333</td>\n",
       "    </tr>\n",
       "    <tr>\n",
       "      <th>8</th>\n",
       "      <td>New York Liberty</td>\n",
       "      <td>75.923077</td>\n",
       "    </tr>\n",
       "    <tr>\n",
       "      <th>7</th>\n",
       "      <td>Minnesota Lynx</td>\n",
       "      <td>76.000000</td>\n",
       "    </tr>\n",
       "    <tr>\n",
       "      <th>10</th>\n",
       "      <td>Seattle Storm</td>\n",
       "      <td>78.076923</td>\n",
       "    </tr>\n",
       "    <tr>\n",
       "      <th>1</th>\n",
       "      <td>Chicago Sky</td>\n",
       "      <td>80.000000</td>\n",
       "    </tr>\n",
       "  </tbody>\n",
       "</table>\n",
       "</div>"
      ],
      "text/plain": [
       "   team_display_name  opponent_team_score\n",
       "2    Connecticut Sun            71.083333\n",
       "8   New York Liberty            75.923077\n",
       "7     Minnesota Lynx            76.000000\n",
       "10     Seattle Storm            78.076923\n",
       "1        Chicago Sky            80.000000"
      ]
     },
     "execution_count": 29,
     "metadata": {},
     "output_type": "execute_result"
    }
   ],
   "source": [
    "question_8_df.head()"
   ]
  },
  {
   "cell_type": "markdown",
   "metadata": {},
   "source": [
    "# 9. Identify the game with the highest combined score (both teams) from 2018 to 2024."
   ]
  },
  {
   "cell_type": "code",
   "execution_count": 30,
   "metadata": {},
   "outputs": [],
   "source": [
    "question_9_df_2018 = team_box_2018_df[['game_id', 'game_date', 'team_display_name', 'team_score', 'opponent_team_display_name', 'opponent_team_score', 'team_home_away']]\n",
    "question_9_df_2019 = team_box_2019_df[['game_id', 'game_date', 'team_display_name', 'team_score', 'opponent_team_display_name', 'opponent_team_score', 'team_home_away']]\n",
    "question_9_df_2020 = team_box_2020_df[['game_id', 'game_date', 'team_display_name', 'team_score', 'opponent_team_display_name', 'opponent_team_score', 'team_home_away']]\n",
    "question_9_df_2021 = team_box_2021_df[['game_id', 'game_date', 'team_display_name', 'team_score', 'opponent_team_display_name', 'opponent_team_score', 'team_home_away']]\n",
    "question_9_df_2022 = team_box_2022_df[['game_id', 'game_date', 'team_display_name', 'team_score', 'opponent_team_display_name', 'opponent_team_score', 'team_home_away']]\n",
    "question_9_df_2023 = team_box_2023_df[['game_id', 'game_date', 'team_display_name', 'team_score', 'opponent_team_display_name', 'opponent_team_score', 'team_home_away']]\n",
    "question_9_df_2024 = team_box_2024_df[['game_id', 'game_date', 'team_display_name', 'team_score', 'opponent_team_display_name', 'opponent_team_score', 'team_home_away']]\n",
    "\n",
    "question_9_df = pd.concat([question_9_df_2018, question_9_df_2019, question_9_df_2020, \n",
    "                           question_9_df_2021, question_9_df_2022, question_9_df_2023,\n",
    "                           question_9_df_2024], ignore_index=True)"
   ]
  },
  {
   "cell_type": "code",
   "execution_count": 31,
   "metadata": {},
   "outputs": [],
   "source": [
    "question_9_df['combined_score'] = question_9_df['team_score'] + question_9_df['opponent_team_score']"
   ]
  },
  {
   "cell_type": "code",
   "execution_count": 32,
   "metadata": {},
   "outputs": [],
   "source": [
    "question_9_df = question_9_df.drop_duplicates(subset='game_id')"
   ]
  },
  {
   "cell_type": "code",
   "execution_count": 33,
   "metadata": {},
   "outputs": [],
   "source": [
    "question_9_df = question_9_df.drop(columns=['team_score', 'opponent_team_score', 'game_id'])"
   ]
  },
  {
   "cell_type": "code",
   "execution_count": 34,
   "metadata": {},
   "outputs": [],
   "source": [
    "question_9_df = question_9_df[~question_9_df['team_display_name'].str.contains('Team')]"
   ]
  },
  {
   "cell_type": "code",
   "execution_count": 35,
   "metadata": {},
   "outputs": [],
   "source": [
    "question_9_df = question_9_df.sort_values(by='combined_score', ascending=False)"
   ]
  },
  {
   "cell_type": "code",
   "execution_count": 36,
   "metadata": {},
   "outputs": [
    {
     "data": {
      "text/html": [
       "<div>\n",
       "<style scoped>\n",
       "    .dataframe tbody tr th:only-of-type {\n",
       "        vertical-align: middle;\n",
       "    }\n",
       "\n",
       "    .dataframe tbody tr th {\n",
       "        vertical-align: top;\n",
       "    }\n",
       "\n",
       "    .dataframe thead th {\n",
       "        text-align: right;\n",
       "    }\n",
       "</style>\n",
       "<table border=\"1\" class=\"dataframe\">\n",
       "  <thead>\n",
       "    <tr style=\"text-align: right;\">\n",
       "      <th></th>\n",
       "      <th>game_date</th>\n",
       "      <th>team_display_name</th>\n",
       "      <th>opponent_team_display_name</th>\n",
       "      <th>team_home_away</th>\n",
       "      <th>combined_score</th>\n",
       "    </tr>\n",
       "  </thead>\n",
       "  <tbody>\n",
       "    <tr>\n",
       "      <th>1802</th>\n",
       "      <td>2022-07-12</td>\n",
       "      <td>Phoenix Mercury</td>\n",
       "      <td>Minnesota Lynx</td>\n",
       "      <td>away</td>\n",
       "      <td>225</td>\n",
       "    </tr>\n",
       "    <tr>\n",
       "      <th>1816</th>\n",
       "      <td>2022-07-06</td>\n",
       "      <td>New York Liberty</td>\n",
       "      <td>Las Vegas Aces</td>\n",
       "      <td>away</td>\n",
       "      <td>223</td>\n",
       "    </tr>\n",
       "    <tr>\n",
       "      <th>46</th>\n",
       "      <td>2018-08-18</td>\n",
       "      <td>Chicago Sky</td>\n",
       "      <td>Indiana Fever</td>\n",
       "      <td>away</td>\n",
       "      <td>221</td>\n",
       "    </tr>\n",
       "    <tr>\n",
       "      <th>1392</th>\n",
       "      <td>2021-07-04</td>\n",
       "      <td>Atlanta Dream</td>\n",
       "      <td>Las Vegas Aces</td>\n",
       "      <td>away</td>\n",
       "      <td>213</td>\n",
       "    </tr>\n",
       "    <tr>\n",
       "      <th>160</th>\n",
       "      <td>2018-07-20</td>\n",
       "      <td>Dallas Wings</td>\n",
       "      <td>Chicago Sky</td>\n",
       "      <td>away</td>\n",
       "      <td>213</td>\n",
       "    </tr>\n",
       "  </tbody>\n",
       "</table>\n",
       "</div>"
      ],
      "text/plain": [
       "       game_date team_display_name opponent_team_display_name team_home_away  \\\n",
       "1802  2022-07-12   Phoenix Mercury             Minnesota Lynx           away   \n",
       "1816  2022-07-06  New York Liberty             Las Vegas Aces           away   \n",
       "46    2018-08-18       Chicago Sky              Indiana Fever           away   \n",
       "1392  2021-07-04     Atlanta Dream             Las Vegas Aces           away   \n",
       "160   2018-07-20      Dallas Wings                Chicago Sky           away   \n",
       "\n",
       "      combined_score  \n",
       "1802             225  \n",
       "1816             223  \n",
       "46               221  \n",
       "1392             213  \n",
       "160              213  "
      ]
     },
     "execution_count": 36,
     "metadata": {},
     "output_type": "execute_result"
    }
   ],
   "source": [
    "question_9_df.head()"
   ]
  },
  {
   "cell_type": "markdown",
   "metadata": {},
   "source": [
    "# 10. Which player played the most minutes in the 2021 season?"
   ]
  },
  {
   "cell_type": "code",
   "execution_count": 37,
   "metadata": {},
   "outputs": [],
   "source": [
    "question_10_df = player_box_2021_df[['athlete_display_name', 'minutes']]"
   ]
  },
  {
   "cell_type": "code",
   "execution_count": 38,
   "metadata": {},
   "outputs": [],
   "source": [
    "question_10_df = question_10_df.groupby('athlete_display_name', as_index=False)['minutes'].sum()"
   ]
  },
  {
   "cell_type": "code",
   "execution_count": 39,
   "metadata": {},
   "outputs": [],
   "source": [
    "question_10_df = question_10_df.sort_values(by='minutes', ascending=False)"
   ]
  },
  {
   "cell_type": "code",
   "execution_count": 40,
   "metadata": {},
   "outputs": [
    {
     "data": {
      "text/html": [
       "<div>\n",
       "<style scoped>\n",
       "    .dataframe tbody tr th:only-of-type {\n",
       "        vertical-align: middle;\n",
       "    }\n",
       "\n",
       "    .dataframe tbody tr th {\n",
       "        vertical-align: top;\n",
       "    }\n",
       "\n",
       "    .dataframe thead th {\n",
       "        text-align: right;\n",
       "    }\n",
       "</style>\n",
       "<table border=\"1\" class=\"dataframe\">\n",
       "  <thead>\n",
       "    <tr style=\"text-align: right;\">\n",
       "      <th></th>\n",
       "      <th>athlete_display_name</th>\n",
       "      <th>minutes</th>\n",
       "    </tr>\n",
       "  </thead>\n",
       "  <tbody>\n",
       "    <tr>\n",
       "      <th>140</th>\n",
       "      <td>Skylar Diggins-Smith</td>\n",
       "      <td>1440.0</td>\n",
       "    </tr>\n",
       "    <tr>\n",
       "      <th>30</th>\n",
       "      <td>Brittney Griner</td>\n",
       "      <td>1394.0</td>\n",
       "    </tr>\n",
       "    <tr>\n",
       "      <th>26</th>\n",
       "      <td>Brianna Turner</td>\n",
       "      <td>1342.0</td>\n",
       "    </tr>\n",
       "    <tr>\n",
       "      <th>42</th>\n",
       "      <td>Courtney Vandersloot</td>\n",
       "      <td>1337.0</td>\n",
       "    </tr>\n",
       "    <tr>\n",
       "      <th>79</th>\n",
       "      <td>Kahleah Copper</td>\n",
       "      <td>1329.0</td>\n",
       "    </tr>\n",
       "  </tbody>\n",
       "</table>\n",
       "</div>"
      ],
      "text/plain": [
       "     athlete_display_name  minutes\n",
       "140  Skylar Diggins-Smith   1440.0\n",
       "30        Brittney Griner   1394.0\n",
       "26         Brianna Turner   1342.0\n",
       "42   Courtney Vandersloot   1337.0\n",
       "79         Kahleah Copper   1329.0"
      ]
     },
     "execution_count": 40,
     "metadata": {},
     "output_type": "execute_result"
    }
   ],
   "source": [
    "question_10_df.head()"
   ]
  },
  {
   "cell_type": "markdown",
   "metadata": {},
   "source": [
    "# 11. What is the average attendance for games in the 2020 season?"
   ]
  },
  {
   "cell_type": "code",
   "execution_count": 41,
   "metadata": {},
   "outputs": [],
   "source": [
    "question_11_df = schedule_2020_df[['attendance']]"
   ]
  },
  {
   "cell_type": "code",
   "execution_count": 42,
   "metadata": {},
   "outputs": [],
   "source": [
    "question_11_df = question_11_df.sort_values(by='attendance', ascending=False)"
   ]
  },
  {
   "cell_type": "code",
   "execution_count": 43,
   "metadata": {},
   "outputs": [
    {
     "data": {
      "text/plain": [
       "1.380952380952381"
      ]
     },
     "execution_count": 43,
     "metadata": {},
     "output_type": "execute_result"
    }
   ],
   "source": [
    "question_11_df['attendance'].mean()"
   ]
  },
  {
   "cell_type": "markdown",
   "metadata": {},
   "source": [
    "# 12. Which player had the highest number of assists in a single game during the 2019 season?"
   ]
  },
  {
   "cell_type": "code",
   "execution_count": 44,
   "metadata": {},
   "outputs": [],
   "source": [
    "question_12_df = player_box_2019_df[['athlete_display_name', 'assists']]"
   ]
  },
  {
   "cell_type": "code",
   "execution_count": 45,
   "metadata": {},
   "outputs": [],
   "source": [
    "question_12_df = question_12_df.sort_values(by='assists', ascending=False)"
   ]
  },
  {
   "cell_type": "code",
   "execution_count": 46,
   "metadata": {},
   "outputs": [
    {
     "data": {
      "text/html": [
       "<div>\n",
       "<style scoped>\n",
       "    .dataframe tbody tr th:only-of-type {\n",
       "        vertical-align: middle;\n",
       "    }\n",
       "\n",
       "    .dataframe tbody tr th {\n",
       "        vertical-align: top;\n",
       "    }\n",
       "\n",
       "    .dataframe thead th {\n",
       "        text-align: right;\n",
       "    }\n",
       "</style>\n",
       "<table border=\"1\" class=\"dataframe\">\n",
       "  <thead>\n",
       "    <tr style=\"text-align: right;\">\n",
       "      <th></th>\n",
       "      <th>athlete_display_name</th>\n",
       "      <th>assists</th>\n",
       "    </tr>\n",
       "  </thead>\n",
       "  <tbody>\n",
       "    <tr>\n",
       "      <th>2648</th>\n",
       "      <td>Courtney Vandersloot</td>\n",
       "      <td>14.0</td>\n",
       "    </tr>\n",
       "    <tr>\n",
       "      <th>3356</th>\n",
       "      <td>Chelsea Gray</td>\n",
       "      <td>13.0</td>\n",
       "    </tr>\n",
       "    <tr>\n",
       "      <th>831</th>\n",
       "      <td>Courtney Vandersloot</td>\n",
       "      <td>13.0</td>\n",
       "    </tr>\n",
       "    <tr>\n",
       "      <th>1968</th>\n",
       "      <td>Courtney Vandersloot</td>\n",
       "      <td>13.0</td>\n",
       "    </tr>\n",
       "    <tr>\n",
       "      <th>1157</th>\n",
       "      <td>Courtney Vandersloot</td>\n",
       "      <td>13.0</td>\n",
       "    </tr>\n",
       "  </tbody>\n",
       "</table>\n",
       "</div>"
      ],
      "text/plain": [
       "      athlete_display_name  assists\n",
       "2648  Courtney Vandersloot     14.0\n",
       "3356          Chelsea Gray     13.0\n",
       "831   Courtney Vandersloot     13.0\n",
       "1968  Courtney Vandersloot     13.0\n",
       "1157  Courtney Vandersloot     13.0"
      ]
     },
     "execution_count": 46,
     "metadata": {},
     "output_type": "execute_result"
    }
   ],
   "source": [
    "question_12_df.head()"
   ]
  },
  {
   "cell_type": "markdown",
   "metadata": {},
   "source": [
    "# 13. How many times did the Chicago Sky make it to the playoffs between 2018 and 2024?"
   ]
  },
  {
   "cell_type": "code",
   "execution_count": 47,
   "metadata": {},
   "outputs": [],
   "source": [
    "question_13_df_2018 = schedule_2018_df[['season', 'season_type', 'home_display_name', 'away_display_name']]\n",
    "question_13_df_2019 = schedule_2019_df[['season', 'season_type', 'home_display_name', 'away_display_name']]\n",
    "question_13_df_2020 = schedule_2020_df[['season', 'season_type', 'home_display_name', 'away_display_name']]\n",
    "question_13_df_2021 = schedule_2021_df[['season', 'season_type', 'home_display_name', 'away_display_name']]\n",
    "question_13_df_2022 = schedule_2022_df[['season', 'season_type', 'home_display_name', 'away_display_name']]\n",
    "question_13_df_2023 = schedule_2023_df[['season', 'season_type', 'home_display_name', 'away_display_name']]\n",
    "question_13_df_2024 = schedule_2024_df[['season', 'season_type', 'home_display_name', 'away_display_name']]\n",
    "\n",
    "question_13_df = pd.concat([question_13_df_2018, question_13_df_2019, question_13_df_2020, \n",
    "                           question_13_df_2021, question_13_df_2022, question_13_df_2023,\n",
    "                           question_13_df_2024], ignore_index=True)"
   ]
  },
  {
   "cell_type": "code",
   "execution_count": 48,
   "metadata": {},
   "outputs": [],
   "source": [
    "question_13_df = question_13_df[question_13_df['season_type'] == 3]"
   ]
  },
  {
   "cell_type": "code",
   "execution_count": 49,
   "metadata": {},
   "outputs": [],
   "source": [
    "question_13_df = question_13_df[(question_13_df['home_display_name'] == 'Chicago Sky') | (question_13_df['away_display_name'] == 'Chicago Sky')]"
   ]
  },
  {
   "cell_type": "code",
   "execution_count": 50,
   "metadata": {},
   "outputs": [],
   "source": [
    "question_13_df = question_13_df[['season']]"
   ]
  },
  {
   "cell_type": "code",
   "execution_count": 51,
   "metadata": {},
   "outputs": [],
   "source": [
    "question_13_df = question_13_df.drop_duplicates(subset='season')"
   ]
  },
  {
   "cell_type": "code",
   "execution_count": 52,
   "metadata": {},
   "outputs": [
    {
     "data": {
      "text/plain": [
       "5"
      ]
     },
     "execution_count": 52,
     "metadata": {},
     "output_type": "execute_result"
    }
   ],
   "source": [
    "question_13_df.shape[0]"
   ]
  },
  {
   "cell_type": "markdown",
   "metadata": {},
   "source": [
    "# 14. What was the average margin of victory for the Las Vegas Aces in the 2022 season?"
   ]
  },
  {
   "cell_type": "code",
   "execution_count": 53,
   "metadata": {},
   "outputs": [],
   "source": [
    "question_14_df = team_box_2022_df[['team_display_name', 'team_score', 'opponent_team_score']]"
   ]
  },
  {
   "cell_type": "code",
   "execution_count": 54,
   "metadata": {},
   "outputs": [],
   "source": [
    "question_14_df = question_14_df[question_14_df['team_display_name'] == 'Las Vegas Aces']"
   ]
  },
  {
   "cell_type": "code",
   "execution_count": 55,
   "metadata": {},
   "outputs": [],
   "source": [
    "question_14_df['score_difference'] = question_14_df['team_score'] - question_14_df['opponent_team_score']"
   ]
  },
  {
   "cell_type": "code",
   "execution_count": 56,
   "metadata": {},
   "outputs": [],
   "source": [
    "question_14_df = question_14_df.drop(columns=['team_score', 'opponent_team_score'])"
   ]
  },
  {
   "cell_type": "code",
   "execution_count": 57,
   "metadata": {},
   "outputs": [],
   "source": [
    "question_14_df = question_14_df.groupby('team_display_name', as_index=False)['score_difference'].mean()"
   ]
  },
  {
   "cell_type": "code",
   "execution_count": 58,
   "metadata": {},
   "outputs": [
    {
     "data": {
      "text/html": [
       "<div>\n",
       "<style scoped>\n",
       "    .dataframe tbody tr th:only-of-type {\n",
       "        vertical-align: middle;\n",
       "    }\n",
       "\n",
       "    .dataframe tbody tr th {\n",
       "        vertical-align: top;\n",
       "    }\n",
       "\n",
       "    .dataframe thead th {\n",
       "        text-align: right;\n",
       "    }\n",
       "</style>\n",
       "<table border=\"1\" class=\"dataframe\">\n",
       "  <thead>\n",
       "    <tr style=\"text-align: right;\">\n",
       "      <th></th>\n",
       "      <th>team_display_name</th>\n",
       "      <th>score_difference</th>\n",
       "    </tr>\n",
       "  </thead>\n",
       "  <tbody>\n",
       "    <tr>\n",
       "      <th>0</th>\n",
       "      <td>Las Vegas Aces</td>\n",
       "      <td>6.510638</td>\n",
       "    </tr>\n",
       "  </tbody>\n",
       "</table>\n",
       "</div>"
      ],
      "text/plain": [
       "  team_display_name  score_difference\n",
       "0    Las Vegas Aces          6.510638"
      ]
     },
     "execution_count": 58,
     "metadata": {},
     "output_type": "execute_result"
    }
   ],
   "source": [
    "question_14_df"
   ]
  },
  {
   "cell_type": "markdown",
   "metadata": {},
   "source": [
    "# 15. Which player had the most steals in the 2023 season?"
   ]
  },
  {
   "cell_type": "code",
   "execution_count": 59,
   "metadata": {},
   "outputs": [],
   "source": [
    "question_15_df = player_box_2023_df[['athlete_display_name', 'steals']]"
   ]
  },
  {
   "cell_type": "code",
   "execution_count": 60,
   "metadata": {},
   "outputs": [],
   "source": [
    "question_15_df = question_15_df.groupby('athlete_display_name', as_index=False)['steals'].sum()"
   ]
  },
  {
   "cell_type": "code",
   "execution_count": 61,
   "metadata": {},
   "outputs": [],
   "source": [
    "question_15_df = question_15_df.sort_values(by='steals', ascending=False)"
   ]
  },
  {
   "cell_type": "code",
   "execution_count": 62,
   "metadata": {},
   "outputs": [
    {
     "data": {
      "text/html": [
       "<div>\n",
       "<style scoped>\n",
       "    .dataframe tbody tr th:only-of-type {\n",
       "        vertical-align: middle;\n",
       "    }\n",
       "\n",
       "    .dataframe tbody tr th {\n",
       "        vertical-align: top;\n",
       "    }\n",
       "\n",
       "    .dataframe thead th {\n",
       "        text-align: right;\n",
       "    }\n",
       "</style>\n",
       "<table border=\"1\" class=\"dataframe\">\n",
       "  <thead>\n",
       "    <tr style=\"text-align: right;\">\n",
       "      <th></th>\n",
       "      <th>athlete_display_name</th>\n",
       "      <th>steals</th>\n",
       "    </tr>\n",
       "  </thead>\n",
       "  <tbody>\n",
       "    <tr>\n",
       "      <th>25</th>\n",
       "      <td>Brittney Sykes</td>\n",
       "      <td>88.0</td>\n",
       "    </tr>\n",
       "    <tr>\n",
       "      <th>72</th>\n",
       "      <td>Jordin Canada</td>\n",
       "      <td>86.0</td>\n",
       "    </tr>\n",
       "    <tr>\n",
       "      <th>10</th>\n",
       "      <td>Alyssa Thomas</td>\n",
       "      <td>85.0</td>\n",
       "    </tr>\n",
       "    <tr>\n",
       "      <th>14</th>\n",
       "      <td>Arike Ogunbowale</td>\n",
       "      <td>77.0</td>\n",
       "    </tr>\n",
       "    <tr>\n",
       "      <th>142</th>\n",
       "      <td>Satou Sabally</td>\n",
       "      <td>76.0</td>\n",
       "    </tr>\n",
       "  </tbody>\n",
       "</table>\n",
       "</div>"
      ],
      "text/plain": [
       "    athlete_display_name  steals\n",
       "25        Brittney Sykes    88.0\n",
       "72         Jordin Canada    86.0\n",
       "10         Alyssa Thomas    85.0\n",
       "14      Arike Ogunbowale    77.0\n",
       "142        Satou Sabally    76.0"
      ]
     },
     "execution_count": 62,
     "metadata": {},
     "output_type": "execute_result"
    }
   ],
   "source": [
    "question_15_df.head()"
   ]
  },
  {
   "cell_type": "markdown",
   "metadata": {},
   "source": [
    "# 16. Identify the top 5 games with the highest attendance between 2018 and 2024."
   ]
  },
  {
   "cell_type": "code",
   "execution_count": 63,
   "metadata": {},
   "outputs": [],
   "source": [
    "question_16_df_2018 = schedule_2018_df[['date', 'attendance', 'away_display_name', 'home_display_name']]\n",
    "question_16_df_2019 = schedule_2019_df[['date', 'attendance', 'away_display_name', 'home_display_name']]\n",
    "question_16_df_2020 = schedule_2020_df[['date', 'attendance', 'away_display_name', 'home_display_name']]\n",
    "question_16_df_2021 = schedule_2021_df[['date', 'attendance', 'away_display_name', 'home_display_name']]\n",
    "question_16_df_2022 = schedule_2022_df[['date', 'attendance', 'away_display_name', 'home_display_name']]\n",
    "question_16_df_2023 = schedule_2023_df[['date', 'attendance', 'away_display_name', 'home_display_name']]\n",
    "question_16_df_2024 = schedule_2024_df[['date', 'attendance', 'away_display_name', 'home_display_name']]\n",
    "\n",
    "question_16_df = pd.concat([question_16_df_2018, question_16_df_2019, question_16_df_2020, \n",
    "                           question_16_df_2021, question_16_df_2022, question_16_df_2023,\n",
    "                           question_16_df_2024], ignore_index=True)"
   ]
  },
  {
   "cell_type": "code",
   "execution_count": 64,
   "metadata": {},
   "outputs": [],
   "source": [
    "question_16_df = question_16_df.sort_values(by='attendance', ascending=False)"
   ]
  },
  {
   "cell_type": "code",
   "execution_count": 65,
   "metadata": {},
   "outputs": [
    {
     "data": {
      "text/html": [
       "<div>\n",
       "<style scoped>\n",
       "    .dataframe tbody tr th:only-of-type {\n",
       "        vertical-align: middle;\n",
       "    }\n",
       "\n",
       "    .dataframe tbody tr th {\n",
       "        vertical-align: top;\n",
       "    }\n",
       "\n",
       "    .dataframe thead th {\n",
       "        text-align: right;\n",
       "    }\n",
       "</style>\n",
       "<table border=\"1\" class=\"dataframe\">\n",
       "  <thead>\n",
       "    <tr style=\"text-align: right;\">\n",
       "      <th></th>\n",
       "      <th>date</th>\n",
       "      <th>attendance</th>\n",
       "      <th>away_display_name</th>\n",
       "      <th>home_display_name</th>\n",
       "    </tr>\n",
       "  </thead>\n",
       "  <tbody>\n",
       "    <tr>\n",
       "      <th>1491</th>\n",
       "      <td>2024-06-07T23:30Z</td>\n",
       "      <td>20333</td>\n",
       "      <td>Indiana Fever</td>\n",
       "      <td>Washington Mystics</td>\n",
       "    </tr>\n",
       "    <tr>\n",
       "      <th>1523</th>\n",
       "      <td>2024-05-25T02:00Z</td>\n",
       "      <td>19103</td>\n",
       "      <td>Indiana Fever</td>\n",
       "      <td>Los Angeles Sparks</td>\n",
       "    </tr>\n",
       "    <tr>\n",
       "      <th>53</th>\n",
       "      <td>2018-08-05T23:00Z</td>\n",
       "      <td>19076</td>\n",
       "      <td>Phoenix Mercury</td>\n",
       "      <td>Los Angeles Sparks</td>\n",
       "    </tr>\n",
       "    <tr>\n",
       "      <th>1527</th>\n",
       "      <td>2024-05-23T02:00Z</td>\n",
       "      <td>18343</td>\n",
       "      <td>Indiana Fever</td>\n",
       "      <td>Seattle Storm</td>\n",
       "    </tr>\n",
       "    <tr>\n",
       "      <th>844</th>\n",
       "      <td>2022-08-07T19:00Z</td>\n",
       "      <td>18100</td>\n",
       "      <td>Las Vegas Aces</td>\n",
       "      <td>Seattle Storm</td>\n",
       "    </tr>\n",
       "  </tbody>\n",
       "</table>\n",
       "</div>"
      ],
      "text/plain": [
       "                   date  attendance away_display_name   home_display_name\n",
       "1491  2024-06-07T23:30Z       20333     Indiana Fever  Washington Mystics\n",
       "1523  2024-05-25T02:00Z       19103     Indiana Fever  Los Angeles Sparks\n",
       "53    2018-08-05T23:00Z       19076   Phoenix Mercury  Los Angeles Sparks\n",
       "1527  2024-05-23T02:00Z       18343     Indiana Fever       Seattle Storm\n",
       "844   2022-08-07T19:00Z       18100    Las Vegas Aces       Seattle Storm"
      ]
     },
     "execution_count": 65,
     "metadata": {},
     "output_type": "execute_result"
    }
   ],
   "source": [
    "question_16_df.head()"
   ]
  },
  {
   "cell_type": "markdown",
   "metadata": {},
   "source": [
    "# 18. Which games had the most technical fouls called between 2018 and 2024?"
   ]
  },
  {
   "cell_type": "code",
   "execution_count": 66,
   "metadata": {},
   "outputs": [],
   "source": [
    "question_18_df_2018 = team_box_2018_df[['game_id', 'game_date', 'team_display_name', 'total_technical_fouls', 'opponent_team_display_name', 'team_home_away']]\n",
    "question_18_df_2019 = team_box_2019_df[['game_id', 'game_date', 'team_display_name', 'total_technical_fouls', 'opponent_team_display_name', 'team_home_away']]\n",
    "question_18_df_2020 = team_box_2020_df[['game_id', 'game_date', 'team_display_name', 'total_technical_fouls', 'opponent_team_display_name', 'team_home_away']]\n",
    "question_18_df_2021 = team_box_2021_df[['game_id', 'game_date', 'team_display_name', 'total_technical_fouls', 'opponent_team_display_name', 'team_home_away']]\n",
    "question_18_df_2022 = team_box_2022_df[['game_id', 'game_date', 'team_display_name', 'total_technical_fouls', 'opponent_team_display_name', 'team_home_away']]\n",
    "question_18_df_2023 = team_box_2023_df[['game_id', 'game_date', 'team_display_name', 'total_technical_fouls', 'opponent_team_display_name', 'team_home_away']]\n",
    "question_18_df_2024 = team_box_2024_df[['game_id', 'game_date', 'team_display_name', 'total_technical_fouls', 'opponent_team_display_name', 'team_home_away']]\n",
    "\n",
    "question_18_df = pd.concat([question_18_df_2018, question_18_df_2019, question_18_df_2020, \n",
    "                           question_18_df_2021, question_18_df_2022, question_18_df_2023,\n",
    "                           question_18_df_2024], ignore_index=True)"
   ]
  },
  {
   "cell_type": "code",
   "execution_count": 67,
   "metadata": {},
   "outputs": [],
   "source": [
    "question_18_df_sub = question_18_df[['game_id', 'total_technical_fouls']]"
   ]
  },
  {
   "cell_type": "code",
   "execution_count": 68,
   "metadata": {},
   "outputs": [],
   "source": [
    "question_18_df_sub = question_18_df_sub.groupby('game_id', as_index=False)['total_technical_fouls'].sum()"
   ]
  },
  {
   "cell_type": "code",
   "execution_count": 69,
   "metadata": {},
   "outputs": [],
   "source": [
    "question_18_df_sub = question_18_df_sub.sort_values(by='total_technical_fouls', ascending=False)"
   ]
  },
  {
   "cell_type": "code",
   "execution_count": 70,
   "metadata": {},
   "outputs": [
    {
     "data": {
      "text/html": [
       "<div>\n",
       "<style scoped>\n",
       "    .dataframe tbody tr th:only-of-type {\n",
       "        vertical-align: middle;\n",
       "    }\n",
       "\n",
       "    .dataframe tbody tr th {\n",
       "        vertical-align: top;\n",
       "    }\n",
       "\n",
       "    .dataframe thead th {\n",
       "        text-align: right;\n",
       "    }\n",
       "</style>\n",
       "<table border=\"1\" class=\"dataframe\">\n",
       "  <thead>\n",
       "    <tr style=\"text-align: right;\">\n",
       "      <th></th>\n",
       "      <th>game_id</th>\n",
       "      <th>total_technical_fouls</th>\n",
       "    </tr>\n",
       "  </thead>\n",
       "  <tbody>\n",
       "    <tr>\n",
       "      <th>1106</th>\n",
       "      <td>401507196</td>\n",
       "      <td>10</td>\n",
       "    </tr>\n",
       "    <tr>\n",
       "      <th>136</th>\n",
       "      <td>401018917</td>\n",
       "      <td>9</td>\n",
       "    </tr>\n",
       "    <tr>\n",
       "      <th>648</th>\n",
       "      <td>401320624</td>\n",
       "      <td>7</td>\n",
       "    </tr>\n",
       "    <tr>\n",
       "      <th>23</th>\n",
       "      <td>401018804</td>\n",
       "      <td>6</td>\n",
       "    </tr>\n",
       "    <tr>\n",
       "      <th>178</th>\n",
       "      <td>401018960</td>\n",
       "      <td>6</td>\n",
       "    </tr>\n",
       "  </tbody>\n",
       "</table>\n",
       "</div>"
      ],
      "text/plain": [
       "        game_id  total_technical_fouls\n",
       "1106  401507196                     10\n",
       "136   401018917                      9\n",
       "648   401320624                      7\n",
       "23    401018804                      6\n",
       "178   401018960                      6"
      ]
     },
     "execution_count": 70,
     "metadata": {},
     "output_type": "execute_result"
    }
   ],
   "source": [
    "question_18_df_sub.head()"
   ]
  },
  {
   "cell_type": "code",
   "execution_count": 71,
   "metadata": {},
   "outputs": [],
   "source": [
    "question_18_df = question_18_df.drop_duplicates(subset='game_id')"
   ]
  },
  {
   "cell_type": "code",
   "execution_count": 72,
   "metadata": {},
   "outputs": [],
   "source": [
    "question_18_df = question_18_df.drop(columns=['total_technical_fouls'])"
   ]
  },
  {
   "cell_type": "code",
   "execution_count": 73,
   "metadata": {},
   "outputs": [
    {
     "data": {
      "text/html": [
       "<div>\n",
       "<style scoped>\n",
       "    .dataframe tbody tr th:only-of-type {\n",
       "        vertical-align: middle;\n",
       "    }\n",
       "\n",
       "    .dataframe tbody tr th {\n",
       "        vertical-align: top;\n",
       "    }\n",
       "\n",
       "    .dataframe thead th {\n",
       "        text-align: right;\n",
       "    }\n",
       "</style>\n",
       "<table border=\"1\" class=\"dataframe\">\n",
       "  <thead>\n",
       "    <tr style=\"text-align: right;\">\n",
       "      <th></th>\n",
       "      <th>game_id</th>\n",
       "      <th>game_date</th>\n",
       "      <th>team_display_name</th>\n",
       "      <th>opponent_team_display_name</th>\n",
       "      <th>team_home_away</th>\n",
       "    </tr>\n",
       "  </thead>\n",
       "  <tbody>\n",
       "    <tr>\n",
       "      <th>2474</th>\n",
       "      <td>401507196</td>\n",
       "      <td>2023-06-20</td>\n",
       "      <td>Atlanta Dream</td>\n",
       "      <td>Dallas Wings</td>\n",
       "      <td>away</td>\n",
       "    </tr>\n",
       "  </tbody>\n",
       "</table>\n",
       "</div>"
      ],
      "text/plain": [
       "        game_id   game_date team_display_name opponent_team_display_name  \\\n",
       "2474  401507196  2023-06-20     Atlanta Dream               Dallas Wings   \n",
       "\n",
       "     team_home_away  \n",
       "2474           away  "
      ]
     },
     "execution_count": 73,
     "metadata": {},
     "output_type": "execute_result"
    }
   ],
   "source": [
    "question_18_df[question_18_df['game_id'] == 401507196]"
   ]
  },
  {
   "cell_type": "code",
   "execution_count": 74,
   "metadata": {},
   "outputs": [
    {
     "data": {
      "text/html": [
       "<div>\n",
       "<style scoped>\n",
       "    .dataframe tbody tr th:only-of-type {\n",
       "        vertical-align: middle;\n",
       "    }\n",
       "\n",
       "    .dataframe tbody tr th {\n",
       "        vertical-align: top;\n",
       "    }\n",
       "\n",
       "    .dataframe thead th {\n",
       "        text-align: right;\n",
       "    }\n",
       "</style>\n",
       "<table border=\"1\" class=\"dataframe\">\n",
       "  <thead>\n",
       "    <tr style=\"text-align: right;\">\n",
       "      <th></th>\n",
       "      <th>game_id</th>\n",
       "      <th>game_date</th>\n",
       "      <th>team_display_name</th>\n",
       "      <th>opponent_team_display_name</th>\n",
       "      <th>team_home_away</th>\n",
       "    </tr>\n",
       "  </thead>\n",
       "  <tbody>\n",
       "    <tr>\n",
       "      <th>168</th>\n",
       "      <td>401018917</td>\n",
       "      <td>2018-07-19</td>\n",
       "      <td>New York Liberty</td>\n",
       "      <td>Atlanta Dream</td>\n",
       "      <td>away</td>\n",
       "    </tr>\n",
       "  </tbody>\n",
       "</table>\n",
       "</div>"
      ],
      "text/plain": [
       "       game_id   game_date team_display_name opponent_team_display_name  \\\n",
       "168  401018917  2018-07-19  New York Liberty              Atlanta Dream   \n",
       "\n",
       "    team_home_away  \n",
       "168           away  "
      ]
     },
     "execution_count": 74,
     "metadata": {},
     "output_type": "execute_result"
    }
   ],
   "source": [
    "question_18_df[question_18_df['game_id'] == 401018917]"
   ]
  },
  {
   "cell_type": "code",
   "execution_count": 75,
   "metadata": {},
   "outputs": [
    {
     "data": {
      "text/html": [
       "<div>\n",
       "<style scoped>\n",
       "    .dataframe tbody tr th:only-of-type {\n",
       "        vertical-align: middle;\n",
       "    }\n",
       "\n",
       "    .dataframe tbody tr th {\n",
       "        vertical-align: top;\n",
       "    }\n",
       "\n",
       "    .dataframe thead th {\n",
       "        text-align: right;\n",
       "    }\n",
       "</style>\n",
       "<table border=\"1\" class=\"dataframe\">\n",
       "  <thead>\n",
       "    <tr style=\"text-align: right;\">\n",
       "      <th></th>\n",
       "      <th>game_id</th>\n",
       "      <th>game_date</th>\n",
       "      <th>team_display_name</th>\n",
       "      <th>opponent_team_display_name</th>\n",
       "      <th>team_home_away</th>\n",
       "    </tr>\n",
       "  </thead>\n",
       "  <tbody>\n",
       "    <tr>\n",
       "      <th>1480</th>\n",
       "      <td>401320624</td>\n",
       "      <td>2021-06-12</td>\n",
       "      <td>Los Angeles Sparks</td>\n",
       "      <td>Minnesota Lynx</td>\n",
       "      <td>away</td>\n",
       "    </tr>\n",
       "  </tbody>\n",
       "</table>\n",
       "</div>"
      ],
      "text/plain": [
       "        game_id   game_date   team_display_name opponent_team_display_name  \\\n",
       "1480  401320624  2021-06-12  Los Angeles Sparks             Minnesota Lynx   \n",
       "\n",
       "     team_home_away  \n",
       "1480           away  "
      ]
     },
     "execution_count": 75,
     "metadata": {},
     "output_type": "execute_result"
    }
   ],
   "source": [
    "question_18_df[question_18_df['game_id'] == 401320624]"
   ]
  },
  {
   "cell_type": "markdown",
   "metadata": {},
   "source": [
    "# 19. Who were the top 3 rebounders in the 2021 season?"
   ]
  },
  {
   "cell_type": "code",
   "execution_count": 76,
   "metadata": {},
   "outputs": [],
   "source": [
    "question_19_df = player_box_2021_df[['athlete_display_name', 'rebounds']]"
   ]
  },
  {
   "cell_type": "code",
   "execution_count": 77,
   "metadata": {},
   "outputs": [],
   "source": [
    "question_19_df = question_19_df.groupby('athlete_display_name', as_index=False)['rebounds'].sum()"
   ]
  },
  {
   "cell_type": "code",
   "execution_count": 78,
   "metadata": {},
   "outputs": [],
   "source": [
    "question_19_df = question_19_df.sort_values(by='rebounds', ascending=False)"
   ]
  },
  {
   "cell_type": "code",
   "execution_count": 79,
   "metadata": {},
   "outputs": [
    {
     "data": {
      "text/html": [
       "<div>\n",
       "<style scoped>\n",
       "    .dataframe tbody tr th:only-of-type {\n",
       "        vertical-align: middle;\n",
       "    }\n",
       "\n",
       "    .dataframe tbody tr th {\n",
       "        vertical-align: top;\n",
       "    }\n",
       "\n",
       "    .dataframe thead th {\n",
       "        text-align: right;\n",
       "    }\n",
       "</style>\n",
       "<table border=\"1\" class=\"dataframe\">\n",
       "  <thead>\n",
       "    <tr style=\"text-align: right;\">\n",
       "      <th></th>\n",
       "      <th>athlete_display_name</th>\n",
       "      <th>rebounds</th>\n",
       "    </tr>\n",
       "  </thead>\n",
       "  <tbody>\n",
       "    <tr>\n",
       "      <th>26</th>\n",
       "      <td>Brianna Turner</td>\n",
       "      <td>411.0</td>\n",
       "    </tr>\n",
       "    <tr>\n",
       "      <th>30</th>\n",
       "      <td>Brittney Griner</td>\n",
       "      <td>379.0</td>\n",
       "    </tr>\n",
       "    <tr>\n",
       "      <th>76</th>\n",
       "      <td>Jonquel Jones</td>\n",
       "      <td>367.0</td>\n",
       "    </tr>\n",
       "    <tr>\n",
       "      <th>0</th>\n",
       "      <td>A'ja Wilson</td>\n",
       "      <td>349.0</td>\n",
       "    </tr>\n",
       "    <tr>\n",
       "      <th>149</th>\n",
       "      <td>Sylvia Fowles</td>\n",
       "      <td>327.0</td>\n",
       "    </tr>\n",
       "  </tbody>\n",
       "</table>\n",
       "</div>"
      ],
      "text/plain": [
       "    athlete_display_name  rebounds\n",
       "26        Brianna Turner     411.0\n",
       "30       Brittney Griner     379.0\n",
       "76         Jonquel Jones     367.0\n",
       "0            A'ja Wilson     349.0\n",
       "149        Sylvia Fowles     327.0"
      ]
     },
     "execution_count": 79,
     "metadata": {},
     "output_type": "execute_result"
    }
   ],
   "source": [
    "question_19_df.head()"
   ]
  },
  {
   "cell_type": "markdown",
   "metadata": {},
   "source": [
    "# 20. What was the total number of blocks by Brittney Griner in the 2023 season?"
   ]
  },
  {
   "cell_type": "code",
   "execution_count": 80,
   "metadata": {},
   "outputs": [],
   "source": [
    "question_20_df = player_box_2023_df[['athlete_display_name', 'blocks']]"
   ]
  },
  {
   "cell_type": "code",
   "execution_count": 81,
   "metadata": {},
   "outputs": [],
   "source": [
    "question_20_df = question_20_df.groupby('athlete_display_name', as_index=False)['blocks'].sum()"
   ]
  },
  {
   "cell_type": "code",
   "execution_count": 82,
   "metadata": {},
   "outputs": [
    {
     "data": {
      "text/html": [
       "<div>\n",
       "<style scoped>\n",
       "    .dataframe tbody tr th:only-of-type {\n",
       "        vertical-align: middle;\n",
       "    }\n",
       "\n",
       "    .dataframe tbody tr th {\n",
       "        vertical-align: top;\n",
       "    }\n",
       "\n",
       "    .dataframe thead th {\n",
       "        text-align: right;\n",
       "    }\n",
       "</style>\n",
       "<table border=\"1\" class=\"dataframe\">\n",
       "  <thead>\n",
       "    <tr style=\"text-align: right;\">\n",
       "      <th></th>\n",
       "      <th>athlete_display_name</th>\n",
       "      <th>blocks</th>\n",
       "    </tr>\n",
       "  </thead>\n",
       "  <tbody>\n",
       "    <tr>\n",
       "      <th>24</th>\n",
       "      <td>Brittney Griner</td>\n",
       "      <td>52.0</td>\n",
       "    </tr>\n",
       "  </tbody>\n",
       "</table>\n",
       "</div>"
      ],
      "text/plain": [
       "   athlete_display_name  blocks\n",
       "24      Brittney Griner    52.0"
      ]
     },
     "execution_count": 82,
     "metadata": {},
     "output_type": "execute_result"
    }
   ],
   "source": [
    "question_20_df[question_20_df['athlete_display_name'] == 'Brittney Griner']"
   ]
  },
  {
   "cell_type": "markdown",
   "metadata": {},
   "source": [
    "# 22. Which team had the highest average home game attendance in the 2021 season?"
   ]
  },
  {
   "cell_type": "code",
   "execution_count": 83,
   "metadata": {},
   "outputs": [],
   "source": [
    "question_22_df = schedule_2021_df[['home_display_name', 'attendance']]"
   ]
  },
  {
   "cell_type": "code",
   "execution_count": 84,
   "metadata": {},
   "outputs": [],
   "source": [
    "question_22_df = question_22_df.groupby('home_display_name', as_index=False)['attendance'].mean()"
   ]
  },
  {
   "cell_type": "code",
   "execution_count": 85,
   "metadata": {},
   "outputs": [],
   "source": [
    "question_22_df = question_22_df.sort_values(by='attendance', ascending=False)"
   ]
  },
  {
   "cell_type": "code",
   "execution_count": 86,
   "metadata": {},
   "outputs": [],
   "source": [
    "question_22_df = question_22_df[question_22_df['home_display_name'] != 'Team WNBA']"
   ]
  },
  {
   "cell_type": "code",
   "execution_count": 87,
   "metadata": {},
   "outputs": [
    {
     "data": {
      "text/html": [
       "<div>\n",
       "<style scoped>\n",
       "    .dataframe tbody tr th:only-of-type {\n",
       "        vertical-align: middle;\n",
       "    }\n",
       "\n",
       "    .dataframe tbody tr th {\n",
       "        vertical-align: top;\n",
       "    }\n",
       "\n",
       "    .dataframe thead th {\n",
       "        text-align: right;\n",
       "    }\n",
       "</style>\n",
       "<table border=\"1\" class=\"dataframe\">\n",
       "  <thead>\n",
       "    <tr style=\"text-align: right;\">\n",
       "      <th></th>\n",
       "      <th>home_display_name</th>\n",
       "      <th>attendance</th>\n",
       "    </tr>\n",
       "  </thead>\n",
       "  <tbody>\n",
       "    <tr>\n",
       "      <th>9</th>\n",
       "      <td>Phoenix Mercury</td>\n",
       "      <td>6744.428571</td>\n",
       "    </tr>\n",
       "    <tr>\n",
       "      <th>1</th>\n",
       "      <td>Chicago Sky</td>\n",
       "      <td>3840.666667</td>\n",
       "    </tr>\n",
       "    <tr>\n",
       "      <th>2</th>\n",
       "      <td>Connecticut Sun</td>\n",
       "      <td>3093.666667</td>\n",
       "    </tr>\n",
       "    <tr>\n",
       "      <th>5</th>\n",
       "      <td>Las Vegas Aces</td>\n",
       "      <td>2934.263158</td>\n",
       "    </tr>\n",
       "    <tr>\n",
       "      <th>10</th>\n",
       "      <td>Seattle Storm</td>\n",
       "      <td>2894.222222</td>\n",
       "    </tr>\n",
       "  </tbody>\n",
       "</table>\n",
       "</div>"
      ],
      "text/plain": [
       "   home_display_name   attendance\n",
       "9    Phoenix Mercury  6744.428571\n",
       "1        Chicago Sky  3840.666667\n",
       "2    Connecticut Sun  3093.666667\n",
       "5     Las Vegas Aces  2934.263158\n",
       "10     Seattle Storm  2894.222222"
      ]
     },
     "execution_count": 87,
     "metadata": {},
     "output_type": "execute_result"
    }
   ],
   "source": [
    "question_22_df.head()"
   ]
  },
  {
   "cell_type": "markdown",
   "metadata": {},
   "source": [
    "# 23. What was the average plus-minus of players who played more than 30 minutes per game in the 2022 season?"
   ]
  },
  {
   "cell_type": "code",
   "execution_count": 88,
   "metadata": {},
   "outputs": [],
   "source": [
    "question_23_df = player_box_2022_df[['plus_minus', 'minutes']]"
   ]
  },
  {
   "cell_type": "code",
   "execution_count": 89,
   "metadata": {},
   "outputs": [],
   "source": [
    "question_23_df = question_23_df[question_23_df['minutes'] > 30.0]"
   ]
  },
  {
   "cell_type": "code",
   "execution_count": 90,
   "metadata": {},
   "outputs": [],
   "source": [
    "question_23_df = question_23_df.drop(columns=['minutes'])"
   ]
  },
  {
   "cell_type": "code",
   "execution_count": 91,
   "metadata": {},
   "outputs": [
    {
     "name": "stderr",
     "output_type": "stream",
     "text": [
      "/var/folders/bs/1lgq_z0j12s291gbh297h38h0000gn/T/ipykernel_10109/3952893295.py:1: FutureWarning: The default value of regex will change from True to False in a future version. In addition, single character regular expressions will *not* be treated as literal strings when regex=True.\n",
      "  question_23_df['plus_minus'] = question_23_df['plus_minus'].str.replace('+', '').astype(int)\n"
     ]
    }
   ],
   "source": [
    "question_23_df['plus_minus'] = question_23_df['plus_minus'].str.replace('+', '').astype(int)"
   ]
  },
  {
   "cell_type": "code",
   "execution_count": 92,
   "metadata": {},
   "outputs": [
    {
     "data": {
      "text/plain": [
       "1.2449177153920619"
      ]
     },
     "execution_count": 92,
     "metadata": {},
     "output_type": "execute_result"
    }
   ],
   "source": [
    "question_23_df['plus_minus'].mean()"
   ]
  },
  {
   "cell_type": "markdown",
   "metadata": {},
   "source": [
    "# 24. Which player had the highest scoring average in games where their team lost during the 2020 season?"
   ]
  },
  {
   "cell_type": "code",
   "execution_count": 93,
   "metadata": {},
   "outputs": [],
   "source": [
    "question_24_df = player_box_2020_df[['athlete_display_name', 'points', 'team_winner']]"
   ]
  },
  {
   "cell_type": "code",
   "execution_count": 94,
   "metadata": {},
   "outputs": [],
   "source": [
    "question_24_df = question_24_df[question_24_df['team_winner'] == False]"
   ]
  },
  {
   "cell_type": "code",
   "execution_count": 95,
   "metadata": {},
   "outputs": [],
   "source": [
    "question_24_df = question_24_df.drop(columns=['team_winner'])"
   ]
  },
  {
   "cell_type": "code",
   "execution_count": 96,
   "metadata": {},
   "outputs": [],
   "source": [
    "question_24_df = question_24_df.groupby('athlete_display_name', as_index=False)['points'].mean()"
   ]
  },
  {
   "cell_type": "code",
   "execution_count": 97,
   "metadata": {},
   "outputs": [],
   "source": [
    "question_24_df = question_24_df.sort_values(by='points', ascending=False)"
   ]
  },
  {
   "cell_type": "code",
   "execution_count": 98,
   "metadata": {},
   "outputs": [
    {
     "data": {
      "text/html": [
       "<div>\n",
       "<style scoped>\n",
       "    .dataframe tbody tr th:only-of-type {\n",
       "        vertical-align: middle;\n",
       "    }\n",
       "\n",
       "    .dataframe tbody tr th {\n",
       "        vertical-align: top;\n",
       "    }\n",
       "\n",
       "    .dataframe thead th {\n",
       "        text-align: right;\n",
       "    }\n",
       "</style>\n",
       "<table border=\"1\" class=\"dataframe\">\n",
       "  <thead>\n",
       "    <tr style=\"text-align: right;\">\n",
       "      <th></th>\n",
       "      <th>athlete_display_name</th>\n",
       "      <th>points</th>\n",
       "    </tr>\n",
       "  </thead>\n",
       "  <tbody>\n",
       "    <tr>\n",
       "      <th>15</th>\n",
       "      <td>Arike Ogunbowale</td>\n",
       "      <td>20.714286</td>\n",
       "    </tr>\n",
       "    <tr>\n",
       "      <th>23</th>\n",
       "      <td>Breanna Stewart</td>\n",
       "      <td>20.666667</td>\n",
       "    </tr>\n",
       "    <tr>\n",
       "      <th>46</th>\n",
       "      <td>DeWanna Bonner</td>\n",
       "      <td>19.000000</td>\n",
       "    </tr>\n",
       "    <tr>\n",
       "      <th>125</th>\n",
       "      <td>Sabrina Ionescu</td>\n",
       "      <td>18.333333</td>\n",
       "    </tr>\n",
       "    <tr>\n",
       "      <th>69</th>\n",
       "      <td>Jewell Loyd</td>\n",
       "      <td>18.250000</td>\n",
       "    </tr>\n",
       "  </tbody>\n",
       "</table>\n",
       "</div>"
      ],
      "text/plain": [
       "    athlete_display_name     points\n",
       "15      Arike Ogunbowale  20.714286\n",
       "23       Breanna Stewart  20.666667\n",
       "46        DeWanna Bonner  19.000000\n",
       "125      Sabrina Ionescu  18.333333\n",
       "69           Jewell Loyd  18.250000"
      ]
     },
     "execution_count": 98,
     "metadata": {},
     "output_type": "execute_result"
    }
   ],
   "source": [
    "question_24_df.head()"
   ]
  },
  {
   "cell_type": "code",
   "execution_count": null,
   "metadata": {},
   "outputs": [],
   "source": []
  }
 ],
 "metadata": {
  "hide_input": false,
  "kernelspec": {
   "display_name": "Python 3 (ipykernel)",
   "language": "python",
   "name": "python3"
  },
  "language_info": {
   "codemirror_mode": {
    "name": "ipython",
    "version": 3
   },
   "file_extension": ".py",
   "mimetype": "text/x-python",
   "name": "python",
   "nbconvert_exporter": "python",
   "pygments_lexer": "ipython3",
   "version": "3.9.7"
  }
 },
 "nbformat": 4,
 "nbformat_minor": 4
}
